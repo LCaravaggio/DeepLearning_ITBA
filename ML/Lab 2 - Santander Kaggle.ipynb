{
  "nbformat": 4,
  "nbformat_minor": 0,
  "metadata": {
    "kernelspec": {
      "display_name": "Python 3",
      "language": "python",
      "name": "python3"
    },
    "language_info": {
      "codemirror_mode": {
        "name": "ipython",
        "version": 3
      },
      "file_extension": ".py",
      "mimetype": "text/x-python",
      "name": "python",
      "nbconvert_exporter": "python",
      "pygments_lexer": "ipython3",
      "version": "3.6.9"
    },
    "colab": {
      "name": "Lab 2 - Santander Kaggle.ipynb",
      "provenance": []
    }
  },
  "cells": [
    {
      "cell_type": "code",
      "metadata": {
        "id": "S9pDGtskh6dK"
      },
      "source": [
        "import numpy as np\n",
        "import pandas as pd\n",
        "import os.path\n",
        "from sklearn.metrics import roc_auc_score\n",
        "import tqdm"
      ],
      "execution_count": 2,
      "outputs": []
    },
    {
      "cell_type": "markdown",
      "metadata": {
        "id": "yZALU6LGh6dN"
      },
      "source": [
        "# Santander Customer Transaction Prediction (KAGGLE)\n",
        "\n",
        "Leer de que trata la competencia\n",
        "\n",
        "https://www.kaggle.com/c/santander-customer-transaction-prediction/overview"
      ]
    },
    {
      "cell_type": "markdown",
      "metadata": {
        "id": "BTxwYRcfh6dP"
      },
      "source": [
        "# Bajada de Dataset\n",
        "La siguiente celda baja el dataset y lo guarda en la carpeta /data.\n",
        "\n",
        "Luego de ejecutarla debería tener los archivos train.csv y test.csv en esta carpeta"
      ]
    },
    {
      "cell_type": "markdown",
      "metadata": {
        "id": "Zl0HjWhwh6dQ"
      },
      "source": [
        "# Carpeta on dataset:\n",
        "https://drive.google.com/drive/folders/19scmxZ64fe7mIneDwG21eF_QLn-8-S8j?usp=sharing"
      ]
    },
    {
      "cell_type": "code",
      "metadata": {
        "id": "UQ97rB4Bh6dR",
        "outputId": "52861624-b39a-4b7e-ee07-bcfa96838019",
        "colab": {
          "base_uri": "https://localhost:8080/"
        }
      },
      "source": [
        "#Si quiero habilitar mi google drive descomentar\n",
        "from google.colab import drive\n",
        "drive.mount('/content/gdrive')"
      ],
      "execution_count": 5,
      "outputs": [
        {
          "output_type": "stream",
          "text": [
            "Mounted at /content/gdrive\n"
          ],
          "name": "stdout"
        }
      ]
    },
    {
      "cell_type": "markdown",
      "metadata": {
        "id": "H26p1jsBh6dS"
      },
      "source": [
        "# Cargar datos de train"
      ]
    },
    {
      "cell_type": "code",
      "metadata": {
        "id": "SHlLtw2ph6dU"
      },
      "source": [
        "df_train = pd.read_csv('/content/gdrive/MyDrive/data/train.csv')\n",
        "df_test = pd.read_csv('/content/gdrive/MyDrive/data/test.csv')"
      ],
      "execution_count": 6,
      "outputs": []
    },
    {
      "cell_type": "code",
      "metadata": {
        "id": "OWyqjYfYh6dV",
        "outputId": "cf14a427-40c7-4806-adce-b3ce5c9bbd5d",
        "colab": {
          "base_uri": "https://localhost:8080/",
          "height": 247
        }
      },
      "source": [
        "# Miramos las primeras 5 observaciones del dataset\n",
        "df_train.head()\n",
        "\n",
        "# TODO: Importar datos de test y asignarlos a la variable df_test desde la carpeta data/\n",
        "# df_test  = "
      ],
      "execution_count": 7,
      "outputs": [
        {
          "output_type": "execute_result",
          "data": {
            "text/html": [
              "<div>\n",
              "<style scoped>\n",
              "    .dataframe tbody tr th:only-of-type {\n",
              "        vertical-align: middle;\n",
              "    }\n",
              "\n",
              "    .dataframe tbody tr th {\n",
              "        vertical-align: top;\n",
              "    }\n",
              "\n",
              "    .dataframe thead th {\n",
              "        text-align: right;\n",
              "    }\n",
              "</style>\n",
              "<table border=\"1\" class=\"dataframe\">\n",
              "  <thead>\n",
              "    <tr style=\"text-align: right;\">\n",
              "      <th></th>\n",
              "      <th>ID_code</th>\n",
              "      <th>target</th>\n",
              "      <th>var_0</th>\n",
              "      <th>var_1</th>\n",
              "      <th>var_2</th>\n",
              "      <th>var_3</th>\n",
              "      <th>var_4</th>\n",
              "      <th>var_5</th>\n",
              "      <th>var_6</th>\n",
              "      <th>var_7</th>\n",
              "      <th>var_8</th>\n",
              "      <th>var_9</th>\n",
              "      <th>var_10</th>\n",
              "      <th>var_11</th>\n",
              "      <th>var_12</th>\n",
              "      <th>var_13</th>\n",
              "      <th>var_14</th>\n",
              "      <th>var_15</th>\n",
              "      <th>var_16</th>\n",
              "      <th>var_17</th>\n",
              "      <th>var_18</th>\n",
              "      <th>var_19</th>\n",
              "      <th>var_20</th>\n",
              "      <th>var_21</th>\n",
              "      <th>var_22</th>\n",
              "      <th>var_23</th>\n",
              "      <th>var_24</th>\n",
              "      <th>var_25</th>\n",
              "      <th>var_26</th>\n",
              "      <th>var_27</th>\n",
              "      <th>var_28</th>\n",
              "      <th>var_29</th>\n",
              "      <th>var_30</th>\n",
              "      <th>var_31</th>\n",
              "      <th>var_32</th>\n",
              "      <th>var_33</th>\n",
              "      <th>var_34</th>\n",
              "      <th>var_35</th>\n",
              "      <th>var_36</th>\n",
              "      <th>var_37</th>\n",
              "      <th>...</th>\n",
              "      <th>var_160</th>\n",
              "      <th>var_161</th>\n",
              "      <th>var_162</th>\n",
              "      <th>var_163</th>\n",
              "      <th>var_164</th>\n",
              "      <th>var_165</th>\n",
              "      <th>var_166</th>\n",
              "      <th>var_167</th>\n",
              "      <th>var_168</th>\n",
              "      <th>var_169</th>\n",
              "      <th>var_170</th>\n",
              "      <th>var_171</th>\n",
              "      <th>var_172</th>\n",
              "      <th>var_173</th>\n",
              "      <th>var_174</th>\n",
              "      <th>var_175</th>\n",
              "      <th>var_176</th>\n",
              "      <th>var_177</th>\n",
              "      <th>var_178</th>\n",
              "      <th>var_179</th>\n",
              "      <th>var_180</th>\n",
              "      <th>var_181</th>\n",
              "      <th>var_182</th>\n",
              "      <th>var_183</th>\n",
              "      <th>var_184</th>\n",
              "      <th>var_185</th>\n",
              "      <th>var_186</th>\n",
              "      <th>var_187</th>\n",
              "      <th>var_188</th>\n",
              "      <th>var_189</th>\n",
              "      <th>var_190</th>\n",
              "      <th>var_191</th>\n",
              "      <th>var_192</th>\n",
              "      <th>var_193</th>\n",
              "      <th>var_194</th>\n",
              "      <th>var_195</th>\n",
              "      <th>var_196</th>\n",
              "      <th>var_197</th>\n",
              "      <th>var_198</th>\n",
              "      <th>var_199</th>\n",
              "    </tr>\n",
              "  </thead>\n",
              "  <tbody>\n",
              "    <tr>\n",
              "      <th>0</th>\n",
              "      <td>train_0</td>\n",
              "      <td>0</td>\n",
              "      <td>8.9255</td>\n",
              "      <td>-6.7863</td>\n",
              "      <td>11.9081</td>\n",
              "      <td>5.0930</td>\n",
              "      <td>11.4607</td>\n",
              "      <td>-9.2834</td>\n",
              "      <td>5.1187</td>\n",
              "      <td>18.6266</td>\n",
              "      <td>-4.9200</td>\n",
              "      <td>5.7470</td>\n",
              "      <td>2.9252</td>\n",
              "      <td>3.1821</td>\n",
              "      <td>14.0137</td>\n",
              "      <td>0.5745</td>\n",
              "      <td>8.7989</td>\n",
              "      <td>14.5691</td>\n",
              "      <td>5.7487</td>\n",
              "      <td>-7.2393</td>\n",
              "      <td>4.2840</td>\n",
              "      <td>30.7133</td>\n",
              "      <td>10.5350</td>\n",
              "      <td>16.2191</td>\n",
              "      <td>2.5791</td>\n",
              "      <td>2.4716</td>\n",
              "      <td>14.3831</td>\n",
              "      <td>13.4325</td>\n",
              "      <td>-5.1488</td>\n",
              "      <td>-0.4073</td>\n",
              "      <td>4.9306</td>\n",
              "      <td>5.9965</td>\n",
              "      <td>-0.3085</td>\n",
              "      <td>12.9041</td>\n",
              "      <td>-3.8766</td>\n",
              "      <td>16.8911</td>\n",
              "      <td>11.1920</td>\n",
              "      <td>10.5785</td>\n",
              "      <td>0.6764</td>\n",
              "      <td>7.8871</td>\n",
              "      <td>...</td>\n",
              "      <td>15.4576</td>\n",
              "      <td>5.3133</td>\n",
              "      <td>3.6159</td>\n",
              "      <td>5.0384</td>\n",
              "      <td>6.6760</td>\n",
              "      <td>12.6644</td>\n",
              "      <td>2.7004</td>\n",
              "      <td>-0.6975</td>\n",
              "      <td>9.5981</td>\n",
              "      <td>5.4879</td>\n",
              "      <td>-4.7645</td>\n",
              "      <td>-8.4254</td>\n",
              "      <td>20.8773</td>\n",
              "      <td>3.1531</td>\n",
              "      <td>18.5618</td>\n",
              "      <td>7.7423</td>\n",
              "      <td>-10.1245</td>\n",
              "      <td>13.7241</td>\n",
              "      <td>-3.5189</td>\n",
              "      <td>1.7202</td>\n",
              "      <td>-8.4051</td>\n",
              "      <td>9.0164</td>\n",
              "      <td>3.0657</td>\n",
              "      <td>14.3691</td>\n",
              "      <td>25.8398</td>\n",
              "      <td>5.8764</td>\n",
              "      <td>11.8411</td>\n",
              "      <td>-19.7159</td>\n",
              "      <td>17.5743</td>\n",
              "      <td>0.5857</td>\n",
              "      <td>4.4354</td>\n",
              "      <td>3.9642</td>\n",
              "      <td>3.1364</td>\n",
              "      <td>1.6910</td>\n",
              "      <td>18.5227</td>\n",
              "      <td>-2.3978</td>\n",
              "      <td>7.8784</td>\n",
              "      <td>8.5635</td>\n",
              "      <td>12.7803</td>\n",
              "      <td>-1.0914</td>\n",
              "    </tr>\n",
              "    <tr>\n",
              "      <th>1</th>\n",
              "      <td>train_1</td>\n",
              "      <td>0</td>\n",
              "      <td>11.5006</td>\n",
              "      <td>-4.1473</td>\n",
              "      <td>13.8588</td>\n",
              "      <td>5.3890</td>\n",
              "      <td>12.3622</td>\n",
              "      <td>7.0433</td>\n",
              "      <td>5.6208</td>\n",
              "      <td>16.5338</td>\n",
              "      <td>3.1468</td>\n",
              "      <td>8.0851</td>\n",
              "      <td>-0.4032</td>\n",
              "      <td>8.0585</td>\n",
              "      <td>14.0239</td>\n",
              "      <td>8.4135</td>\n",
              "      <td>5.4345</td>\n",
              "      <td>13.7003</td>\n",
              "      <td>13.8275</td>\n",
              "      <td>-15.5849</td>\n",
              "      <td>7.8000</td>\n",
              "      <td>28.5708</td>\n",
              "      <td>3.4287</td>\n",
              "      <td>2.7407</td>\n",
              "      <td>8.5524</td>\n",
              "      <td>3.3716</td>\n",
              "      <td>6.9779</td>\n",
              "      <td>13.8910</td>\n",
              "      <td>-11.7684</td>\n",
              "      <td>-2.5586</td>\n",
              "      <td>5.0464</td>\n",
              "      <td>0.5481</td>\n",
              "      <td>-9.2987</td>\n",
              "      <td>7.8755</td>\n",
              "      <td>1.2859</td>\n",
              "      <td>19.3710</td>\n",
              "      <td>11.3702</td>\n",
              "      <td>0.7399</td>\n",
              "      <td>2.7995</td>\n",
              "      <td>5.8434</td>\n",
              "      <td>...</td>\n",
              "      <td>29.4846</td>\n",
              "      <td>5.8683</td>\n",
              "      <td>3.8208</td>\n",
              "      <td>15.8348</td>\n",
              "      <td>-5.0121</td>\n",
              "      <td>15.1345</td>\n",
              "      <td>3.2003</td>\n",
              "      <td>9.3192</td>\n",
              "      <td>3.8821</td>\n",
              "      <td>5.7999</td>\n",
              "      <td>5.5378</td>\n",
              "      <td>5.0988</td>\n",
              "      <td>22.0330</td>\n",
              "      <td>5.5134</td>\n",
              "      <td>30.2645</td>\n",
              "      <td>10.4968</td>\n",
              "      <td>-7.2352</td>\n",
              "      <td>16.5721</td>\n",
              "      <td>-7.3477</td>\n",
              "      <td>11.0752</td>\n",
              "      <td>-5.5937</td>\n",
              "      <td>9.4878</td>\n",
              "      <td>-14.9100</td>\n",
              "      <td>9.4245</td>\n",
              "      <td>22.5441</td>\n",
              "      <td>-4.8622</td>\n",
              "      <td>7.6543</td>\n",
              "      <td>-15.9319</td>\n",
              "      <td>13.3175</td>\n",
              "      <td>-0.3566</td>\n",
              "      <td>7.6421</td>\n",
              "      <td>7.7214</td>\n",
              "      <td>2.5837</td>\n",
              "      <td>10.9516</td>\n",
              "      <td>15.4305</td>\n",
              "      <td>2.0339</td>\n",
              "      <td>8.1267</td>\n",
              "      <td>8.7889</td>\n",
              "      <td>18.3560</td>\n",
              "      <td>1.9518</td>\n",
              "    </tr>\n",
              "    <tr>\n",
              "      <th>2</th>\n",
              "      <td>train_2</td>\n",
              "      <td>0</td>\n",
              "      <td>8.6093</td>\n",
              "      <td>-2.7457</td>\n",
              "      <td>12.0805</td>\n",
              "      <td>7.8928</td>\n",
              "      <td>10.5825</td>\n",
              "      <td>-9.0837</td>\n",
              "      <td>6.9427</td>\n",
              "      <td>14.6155</td>\n",
              "      <td>-4.9193</td>\n",
              "      <td>5.9525</td>\n",
              "      <td>-0.3249</td>\n",
              "      <td>-11.2648</td>\n",
              "      <td>14.1929</td>\n",
              "      <td>7.3124</td>\n",
              "      <td>7.5244</td>\n",
              "      <td>14.6472</td>\n",
              "      <td>7.6782</td>\n",
              "      <td>-1.7395</td>\n",
              "      <td>4.7011</td>\n",
              "      <td>20.4775</td>\n",
              "      <td>17.7559</td>\n",
              "      <td>18.1377</td>\n",
              "      <td>1.2145</td>\n",
              "      <td>3.5137</td>\n",
              "      <td>5.6777</td>\n",
              "      <td>13.2177</td>\n",
              "      <td>-7.9940</td>\n",
              "      <td>-2.9029</td>\n",
              "      <td>5.8463</td>\n",
              "      <td>6.1439</td>\n",
              "      <td>-11.1025</td>\n",
              "      <td>12.4858</td>\n",
              "      <td>-2.2871</td>\n",
              "      <td>19.0422</td>\n",
              "      <td>11.0449</td>\n",
              "      <td>4.1087</td>\n",
              "      <td>4.6974</td>\n",
              "      <td>6.9346</td>\n",
              "      <td>...</td>\n",
              "      <td>13.2070</td>\n",
              "      <td>5.8442</td>\n",
              "      <td>4.7086</td>\n",
              "      <td>5.7141</td>\n",
              "      <td>-1.0410</td>\n",
              "      <td>20.5092</td>\n",
              "      <td>3.2790</td>\n",
              "      <td>-5.5952</td>\n",
              "      <td>7.3176</td>\n",
              "      <td>5.7690</td>\n",
              "      <td>-7.0927</td>\n",
              "      <td>-3.9116</td>\n",
              "      <td>7.2569</td>\n",
              "      <td>-5.8234</td>\n",
              "      <td>25.6820</td>\n",
              "      <td>10.9202</td>\n",
              "      <td>-0.3104</td>\n",
              "      <td>8.8438</td>\n",
              "      <td>-9.7009</td>\n",
              "      <td>2.4013</td>\n",
              "      <td>-4.2935</td>\n",
              "      <td>9.3908</td>\n",
              "      <td>-13.2648</td>\n",
              "      <td>3.1545</td>\n",
              "      <td>23.0866</td>\n",
              "      <td>-5.3000</td>\n",
              "      <td>5.3745</td>\n",
              "      <td>-6.2660</td>\n",
              "      <td>10.1934</td>\n",
              "      <td>-0.8417</td>\n",
              "      <td>2.9057</td>\n",
              "      <td>9.7905</td>\n",
              "      <td>1.6704</td>\n",
              "      <td>1.6858</td>\n",
              "      <td>21.6042</td>\n",
              "      <td>3.1417</td>\n",
              "      <td>-6.5213</td>\n",
              "      <td>8.2675</td>\n",
              "      <td>14.7222</td>\n",
              "      <td>0.3965</td>\n",
              "    </tr>\n",
              "    <tr>\n",
              "      <th>3</th>\n",
              "      <td>train_3</td>\n",
              "      <td>0</td>\n",
              "      <td>11.0604</td>\n",
              "      <td>-2.1518</td>\n",
              "      <td>8.9522</td>\n",
              "      <td>7.1957</td>\n",
              "      <td>12.5846</td>\n",
              "      <td>-1.8361</td>\n",
              "      <td>5.8428</td>\n",
              "      <td>14.9250</td>\n",
              "      <td>-5.8609</td>\n",
              "      <td>8.2450</td>\n",
              "      <td>2.3061</td>\n",
              "      <td>2.8102</td>\n",
              "      <td>13.8463</td>\n",
              "      <td>11.9704</td>\n",
              "      <td>6.4569</td>\n",
              "      <td>14.8372</td>\n",
              "      <td>10.7430</td>\n",
              "      <td>-0.4299</td>\n",
              "      <td>15.9426</td>\n",
              "      <td>13.7257</td>\n",
              "      <td>20.3010</td>\n",
              "      <td>12.5579</td>\n",
              "      <td>6.8202</td>\n",
              "      <td>2.7229</td>\n",
              "      <td>12.1354</td>\n",
              "      <td>13.7367</td>\n",
              "      <td>0.8135</td>\n",
              "      <td>-0.9059</td>\n",
              "      <td>5.9070</td>\n",
              "      <td>2.8407</td>\n",
              "      <td>-15.2398</td>\n",
              "      <td>10.4407</td>\n",
              "      <td>-2.5731</td>\n",
              "      <td>6.1796</td>\n",
              "      <td>10.6093</td>\n",
              "      <td>-5.9158</td>\n",
              "      <td>8.1723</td>\n",
              "      <td>2.8521</td>\n",
              "      <td>...</td>\n",
              "      <td>31.8833</td>\n",
              "      <td>5.9684</td>\n",
              "      <td>7.2084</td>\n",
              "      <td>3.8899</td>\n",
              "      <td>-11.0882</td>\n",
              "      <td>17.2502</td>\n",
              "      <td>2.5881</td>\n",
              "      <td>-2.7018</td>\n",
              "      <td>0.5641</td>\n",
              "      <td>5.3430</td>\n",
              "      <td>-7.1541</td>\n",
              "      <td>-6.1920</td>\n",
              "      <td>18.2366</td>\n",
              "      <td>11.7134</td>\n",
              "      <td>14.7483</td>\n",
              "      <td>8.1013</td>\n",
              "      <td>11.8771</td>\n",
              "      <td>13.9552</td>\n",
              "      <td>-10.4701</td>\n",
              "      <td>5.6961</td>\n",
              "      <td>-3.7546</td>\n",
              "      <td>8.4117</td>\n",
              "      <td>1.8986</td>\n",
              "      <td>7.2601</td>\n",
              "      <td>-0.4639</td>\n",
              "      <td>-0.0498</td>\n",
              "      <td>7.9336</td>\n",
              "      <td>-12.8279</td>\n",
              "      <td>12.4124</td>\n",
              "      <td>1.8489</td>\n",
              "      <td>4.4666</td>\n",
              "      <td>4.7433</td>\n",
              "      <td>0.7178</td>\n",
              "      <td>1.4214</td>\n",
              "      <td>23.0347</td>\n",
              "      <td>-1.2706</td>\n",
              "      <td>-2.9275</td>\n",
              "      <td>10.2922</td>\n",
              "      <td>17.9697</td>\n",
              "      <td>-8.9996</td>\n",
              "    </tr>\n",
              "    <tr>\n",
              "      <th>4</th>\n",
              "      <td>train_4</td>\n",
              "      <td>0</td>\n",
              "      <td>9.8369</td>\n",
              "      <td>-1.4834</td>\n",
              "      <td>12.8746</td>\n",
              "      <td>6.6375</td>\n",
              "      <td>12.2772</td>\n",
              "      <td>2.4486</td>\n",
              "      <td>5.9405</td>\n",
              "      <td>19.2514</td>\n",
              "      <td>6.2654</td>\n",
              "      <td>7.6784</td>\n",
              "      <td>-9.4458</td>\n",
              "      <td>-12.1419</td>\n",
              "      <td>13.8481</td>\n",
              "      <td>7.8895</td>\n",
              "      <td>7.7894</td>\n",
              "      <td>15.0553</td>\n",
              "      <td>8.4871</td>\n",
              "      <td>-3.0680</td>\n",
              "      <td>6.5263</td>\n",
              "      <td>11.3152</td>\n",
              "      <td>21.4246</td>\n",
              "      <td>18.9608</td>\n",
              "      <td>10.1102</td>\n",
              "      <td>2.7142</td>\n",
              "      <td>14.2080</td>\n",
              "      <td>13.5433</td>\n",
              "      <td>3.1736</td>\n",
              "      <td>-3.3423</td>\n",
              "      <td>5.9015</td>\n",
              "      <td>7.9352</td>\n",
              "      <td>-3.1582</td>\n",
              "      <td>9.4668</td>\n",
              "      <td>-0.0083</td>\n",
              "      <td>19.3239</td>\n",
              "      <td>12.4057</td>\n",
              "      <td>0.6329</td>\n",
              "      <td>2.7922</td>\n",
              "      <td>5.8184</td>\n",
              "      <td>...</td>\n",
              "      <td>33.5107</td>\n",
              "      <td>5.6953</td>\n",
              "      <td>5.4663</td>\n",
              "      <td>18.2201</td>\n",
              "      <td>6.5769</td>\n",
              "      <td>21.2607</td>\n",
              "      <td>3.2304</td>\n",
              "      <td>-1.7759</td>\n",
              "      <td>3.1283</td>\n",
              "      <td>5.5518</td>\n",
              "      <td>1.4493</td>\n",
              "      <td>-2.6627</td>\n",
              "      <td>19.8056</td>\n",
              "      <td>2.3705</td>\n",
              "      <td>18.4685</td>\n",
              "      <td>16.3309</td>\n",
              "      <td>-3.3456</td>\n",
              "      <td>13.5261</td>\n",
              "      <td>1.7189</td>\n",
              "      <td>5.1743</td>\n",
              "      <td>-7.6938</td>\n",
              "      <td>9.7685</td>\n",
              "      <td>4.8910</td>\n",
              "      <td>12.2198</td>\n",
              "      <td>11.8503</td>\n",
              "      <td>-7.8931</td>\n",
              "      <td>6.4209</td>\n",
              "      <td>5.9270</td>\n",
              "      <td>16.0201</td>\n",
              "      <td>-0.2829</td>\n",
              "      <td>-1.4905</td>\n",
              "      <td>9.5214</td>\n",
              "      <td>-0.1508</td>\n",
              "      <td>9.1942</td>\n",
              "      <td>13.2876</td>\n",
              "      <td>-1.5121</td>\n",
              "      <td>3.9267</td>\n",
              "      <td>9.5031</td>\n",
              "      <td>17.9974</td>\n",
              "      <td>-8.8104</td>\n",
              "    </tr>\n",
              "  </tbody>\n",
              "</table>\n",
              "<p>5 rows × 202 columns</p>\n",
              "</div>"
            ],
            "text/plain": [
              "   ID_code  target    var_0   var_1  ...  var_196  var_197  var_198  var_199\n",
              "0  train_0       0   8.9255 -6.7863  ...   7.8784   8.5635  12.7803  -1.0914\n",
              "1  train_1       0  11.5006 -4.1473  ...   8.1267   8.7889  18.3560   1.9518\n",
              "2  train_2       0   8.6093 -2.7457  ...  -6.5213   8.2675  14.7222   0.3965\n",
              "3  train_3       0  11.0604 -2.1518  ...  -2.9275  10.2922  17.9697  -8.9996\n",
              "4  train_4       0   9.8369 -1.4834  ...   3.9267   9.5031  17.9974  -8.8104\n",
              "\n",
              "[5 rows x 202 columns]"
            ]
          },
          "metadata": {
            "tags": []
          },
          "execution_count": 7
        }
      ]
    },
    {
      "cell_type": "code",
      "metadata": {
        "id": "yy7HOnS3lRoX",
        "outputId": "005c89f8-8dd6-4eda-9252-4ac077a16385",
        "colab": {
          "base_uri": "https://localhost:8080/"
        }
      },
      "source": [
        "print(pd.value_counts(df_train.target))\n",
        "\n",
        "print(179902/(179902+ 20098))"
      ],
      "execution_count": 10,
      "outputs": [
        {
          "output_type": "stream",
          "text": [
            "0    179902\n",
            "1     20098\n",
            "Name: target, dtype: int64\n",
            "0.89951\n"
          ],
          "name": "stdout"
        }
      ]
    },
    {
      "cell_type": "code",
      "metadata": {
        "id": "VYgKuryzjV6i",
        "outputId": "0e0f572d-fd2f-4775-f389-50fb40cca365",
        "colab": {
          "base_uri": "https://localhost:8080/"
        }
      },
      "source": [
        "np.unique(np.array(df_train.target))"
      ],
      "execution_count": 27,
      "outputs": [
        {
          "output_type": "execute_result",
          "data": {
            "text/plain": [
              "array([0, 1])"
            ]
          },
          "metadata": {
            "tags": []
          },
          "execution_count": 27
        }
      ]
    },
    {
      "cell_type": "code",
      "metadata": {
        "id": "JNjMF9ahh6dZ",
        "outputId": "dde20b9e-5af5-4ba8-eee4-4032e55aaed5",
        "colab": {
          "base_uri": "https://localhost:8080/"
        }
      },
      "source": [
        "df_train.columns"
      ],
      "execution_count": 11,
      "outputs": [
        {
          "output_type": "execute_result",
          "data": {
            "text/plain": [
              "Index(['ID_code', 'target', 'var_0', 'var_1', 'var_2', 'var_3', 'var_4',\n",
              "       'var_5', 'var_6', 'var_7',\n",
              "       ...\n",
              "       'var_190', 'var_191', 'var_192', 'var_193', 'var_194', 'var_195',\n",
              "       'var_196', 'var_197', 'var_198', 'var_199'],\n",
              "      dtype='object', length=202)"
            ]
          },
          "metadata": {
            "tags": []
          },
          "execution_count": 11
        }
      ]
    },
    {
      "cell_type": "markdown",
      "metadata": {
        "id": "F14R-tX5h6da"
      },
      "source": [
        "Cuantas features (covariables, variable explicativa, variable independiente, variables exógenas) hay (dimensión de las observaciones, regresoras)? Que columna contiene la salida (variable dependiente, variable endógena)? Cuantas clases hay? Cuantas observaciones tiene train?"
      ]
    },
    {
      "cell_type": "code",
      "metadata": {
        "id": "Kqr_9ZQHh6da",
        "outputId": "f184c37f-464c-4ebf-9a96-68d9bcf550d2",
        "colab": {
          "base_uri": "https://localhost:8080/",
          "height": 337
        }
      },
      "source": [
        "df_train.describe()"
      ],
      "execution_count": 12,
      "outputs": [
        {
          "output_type": "execute_result",
          "data": {
            "text/html": [
              "<div>\n",
              "<style scoped>\n",
              "    .dataframe tbody tr th:only-of-type {\n",
              "        vertical-align: middle;\n",
              "    }\n",
              "\n",
              "    .dataframe tbody tr th {\n",
              "        vertical-align: top;\n",
              "    }\n",
              "\n",
              "    .dataframe thead th {\n",
              "        text-align: right;\n",
              "    }\n",
              "</style>\n",
              "<table border=\"1\" class=\"dataframe\">\n",
              "  <thead>\n",
              "    <tr style=\"text-align: right;\">\n",
              "      <th></th>\n",
              "      <th>target</th>\n",
              "      <th>var_0</th>\n",
              "      <th>var_1</th>\n",
              "      <th>var_2</th>\n",
              "      <th>var_3</th>\n",
              "      <th>var_4</th>\n",
              "      <th>var_5</th>\n",
              "      <th>var_6</th>\n",
              "      <th>var_7</th>\n",
              "      <th>var_8</th>\n",
              "      <th>var_9</th>\n",
              "      <th>var_10</th>\n",
              "      <th>var_11</th>\n",
              "      <th>var_12</th>\n",
              "      <th>var_13</th>\n",
              "      <th>var_14</th>\n",
              "      <th>var_15</th>\n",
              "      <th>var_16</th>\n",
              "      <th>var_17</th>\n",
              "      <th>var_18</th>\n",
              "      <th>var_19</th>\n",
              "      <th>var_20</th>\n",
              "      <th>var_21</th>\n",
              "      <th>var_22</th>\n",
              "      <th>var_23</th>\n",
              "      <th>var_24</th>\n",
              "      <th>var_25</th>\n",
              "      <th>var_26</th>\n",
              "      <th>var_27</th>\n",
              "      <th>var_28</th>\n",
              "      <th>var_29</th>\n",
              "      <th>var_30</th>\n",
              "      <th>var_31</th>\n",
              "      <th>var_32</th>\n",
              "      <th>var_33</th>\n",
              "      <th>var_34</th>\n",
              "      <th>var_35</th>\n",
              "      <th>var_36</th>\n",
              "      <th>var_37</th>\n",
              "      <th>var_38</th>\n",
              "      <th>...</th>\n",
              "      <th>var_160</th>\n",
              "      <th>var_161</th>\n",
              "      <th>var_162</th>\n",
              "      <th>var_163</th>\n",
              "      <th>var_164</th>\n",
              "      <th>var_165</th>\n",
              "      <th>var_166</th>\n",
              "      <th>var_167</th>\n",
              "      <th>var_168</th>\n",
              "      <th>var_169</th>\n",
              "      <th>var_170</th>\n",
              "      <th>var_171</th>\n",
              "      <th>var_172</th>\n",
              "      <th>var_173</th>\n",
              "      <th>var_174</th>\n",
              "      <th>var_175</th>\n",
              "      <th>var_176</th>\n",
              "      <th>var_177</th>\n",
              "      <th>var_178</th>\n",
              "      <th>var_179</th>\n",
              "      <th>var_180</th>\n",
              "      <th>var_181</th>\n",
              "      <th>var_182</th>\n",
              "      <th>var_183</th>\n",
              "      <th>var_184</th>\n",
              "      <th>var_185</th>\n",
              "      <th>var_186</th>\n",
              "      <th>var_187</th>\n",
              "      <th>var_188</th>\n",
              "      <th>var_189</th>\n",
              "      <th>var_190</th>\n",
              "      <th>var_191</th>\n",
              "      <th>var_192</th>\n",
              "      <th>var_193</th>\n",
              "      <th>var_194</th>\n",
              "      <th>var_195</th>\n",
              "      <th>var_196</th>\n",
              "      <th>var_197</th>\n",
              "      <th>var_198</th>\n",
              "      <th>var_199</th>\n",
              "    </tr>\n",
              "  </thead>\n",
              "  <tbody>\n",
              "    <tr>\n",
              "      <th>count</th>\n",
              "      <td>200000.000000</td>\n",
              "      <td>200000.000000</td>\n",
              "      <td>200000.000000</td>\n",
              "      <td>200000.000000</td>\n",
              "      <td>200000.000000</td>\n",
              "      <td>200000.000000</td>\n",
              "      <td>200000.000000</td>\n",
              "      <td>200000.000000</td>\n",
              "      <td>200000.000000</td>\n",
              "      <td>200000.000000</td>\n",
              "      <td>200000.000000</td>\n",
              "      <td>200000.000000</td>\n",
              "      <td>200000.000000</td>\n",
              "      <td>200000.000000</td>\n",
              "      <td>200000.000000</td>\n",
              "      <td>200000.000000</td>\n",
              "      <td>200000.000000</td>\n",
              "      <td>200000.000000</td>\n",
              "      <td>200000.000000</td>\n",
              "      <td>200000.000000</td>\n",
              "      <td>200000.000000</td>\n",
              "      <td>200000.000000</td>\n",
              "      <td>200000.000000</td>\n",
              "      <td>200000.000000</td>\n",
              "      <td>200000.000000</td>\n",
              "      <td>200000.000000</td>\n",
              "      <td>200000.000000</td>\n",
              "      <td>200000.000000</td>\n",
              "      <td>200000.000000</td>\n",
              "      <td>200000.000000</td>\n",
              "      <td>200000.000000</td>\n",
              "      <td>200000.000000</td>\n",
              "      <td>200000.000000</td>\n",
              "      <td>200000.000000</td>\n",
              "      <td>200000.000000</td>\n",
              "      <td>200000.000000</td>\n",
              "      <td>200000.000000</td>\n",
              "      <td>200000.000000</td>\n",
              "      <td>200000.000000</td>\n",
              "      <td>200000.000000</td>\n",
              "      <td>...</td>\n",
              "      <td>200000.000000</td>\n",
              "      <td>200000.000000</td>\n",
              "      <td>200000.000000</td>\n",
              "      <td>200000.000000</td>\n",
              "      <td>200000.000000</td>\n",
              "      <td>200000.000000</td>\n",
              "      <td>200000.000000</td>\n",
              "      <td>200000.000000</td>\n",
              "      <td>200000.000000</td>\n",
              "      <td>200000.000000</td>\n",
              "      <td>200000.000000</td>\n",
              "      <td>200000.000000</td>\n",
              "      <td>200000.000000</td>\n",
              "      <td>200000.000000</td>\n",
              "      <td>200000.000000</td>\n",
              "      <td>200000.000000</td>\n",
              "      <td>200000.000000</td>\n",
              "      <td>200000.000000</td>\n",
              "      <td>200000.000000</td>\n",
              "      <td>200000.000000</td>\n",
              "      <td>200000.000000</td>\n",
              "      <td>200000.000000</td>\n",
              "      <td>200000.000000</td>\n",
              "      <td>200000.000000</td>\n",
              "      <td>200000.000000</td>\n",
              "      <td>200000.000000</td>\n",
              "      <td>200000.000000</td>\n",
              "      <td>200000.000000</td>\n",
              "      <td>200000.000000</td>\n",
              "      <td>200000.000000</td>\n",
              "      <td>200000.000000</td>\n",
              "      <td>200000.000000</td>\n",
              "      <td>200000.000000</td>\n",
              "      <td>200000.000000</td>\n",
              "      <td>200000.000000</td>\n",
              "      <td>200000.000000</td>\n",
              "      <td>200000.000000</td>\n",
              "      <td>200000.000000</td>\n",
              "      <td>200000.000000</td>\n",
              "      <td>200000.000000</td>\n",
              "    </tr>\n",
              "    <tr>\n",
              "      <th>mean</th>\n",
              "      <td>0.100490</td>\n",
              "      <td>10.679914</td>\n",
              "      <td>-1.627622</td>\n",
              "      <td>10.715192</td>\n",
              "      <td>6.796529</td>\n",
              "      <td>11.078333</td>\n",
              "      <td>-5.065317</td>\n",
              "      <td>5.408949</td>\n",
              "      <td>16.545850</td>\n",
              "      <td>0.284162</td>\n",
              "      <td>7.567236</td>\n",
              "      <td>0.394340</td>\n",
              "      <td>-3.245596</td>\n",
              "      <td>14.023978</td>\n",
              "      <td>8.530232</td>\n",
              "      <td>7.537606</td>\n",
              "      <td>14.573126</td>\n",
              "      <td>9.333264</td>\n",
              "      <td>-5.696731</td>\n",
              "      <td>15.244013</td>\n",
              "      <td>12.438567</td>\n",
              "      <td>13.290894</td>\n",
              "      <td>17.257883</td>\n",
              "      <td>4.305430</td>\n",
              "      <td>3.019540</td>\n",
              "      <td>10.584400</td>\n",
              "      <td>13.667496</td>\n",
              "      <td>-4.055133</td>\n",
              "      <td>-1.137908</td>\n",
              "      <td>5.532980</td>\n",
              "      <td>5.053874</td>\n",
              "      <td>-7.687740</td>\n",
              "      <td>10.393046</td>\n",
              "      <td>-0.512886</td>\n",
              "      <td>14.774147</td>\n",
              "      <td>11.434250</td>\n",
              "      <td>3.842499</td>\n",
              "      <td>2.187230</td>\n",
              "      <td>5.868899</td>\n",
              "      <td>10.642131</td>\n",
              "      <td>...</td>\n",
              "      <td>24.259300</td>\n",
              "      <td>5.633293</td>\n",
              "      <td>5.362896</td>\n",
              "      <td>11.002170</td>\n",
              "      <td>-2.871906</td>\n",
              "      <td>19.315753</td>\n",
              "      <td>2.963335</td>\n",
              "      <td>-4.151155</td>\n",
              "      <td>4.937124</td>\n",
              "      <td>5.636008</td>\n",
              "      <td>-0.004962</td>\n",
              "      <td>-0.831777</td>\n",
              "      <td>19.817094</td>\n",
              "      <td>-0.677967</td>\n",
              "      <td>20.210677</td>\n",
              "      <td>11.640613</td>\n",
              "      <td>-2.799585</td>\n",
              "      <td>11.882933</td>\n",
              "      <td>-1.014064</td>\n",
              "      <td>2.591444</td>\n",
              "      <td>-2.741666</td>\n",
              "      <td>10.085518</td>\n",
              "      <td>0.719109</td>\n",
              "      <td>8.769088</td>\n",
              "      <td>12.756676</td>\n",
              "      <td>-3.983261</td>\n",
              "      <td>8.970274</td>\n",
              "      <td>-10.335043</td>\n",
              "      <td>15.377174</td>\n",
              "      <td>0.746072</td>\n",
              "      <td>3.234440</td>\n",
              "      <td>7.438408</td>\n",
              "      <td>1.927839</td>\n",
              "      <td>3.331774</td>\n",
              "      <td>17.993784</td>\n",
              "      <td>-0.142088</td>\n",
              "      <td>2.303335</td>\n",
              "      <td>8.908158</td>\n",
              "      <td>15.870720</td>\n",
              "      <td>-3.326537</td>\n",
              "    </tr>\n",
              "    <tr>\n",
              "      <th>std</th>\n",
              "      <td>0.300653</td>\n",
              "      <td>3.040051</td>\n",
              "      <td>4.050044</td>\n",
              "      <td>2.640894</td>\n",
              "      <td>2.043319</td>\n",
              "      <td>1.623150</td>\n",
              "      <td>7.863267</td>\n",
              "      <td>0.866607</td>\n",
              "      <td>3.418076</td>\n",
              "      <td>3.332634</td>\n",
              "      <td>1.235070</td>\n",
              "      <td>5.500793</td>\n",
              "      <td>5.970253</td>\n",
              "      <td>0.190059</td>\n",
              "      <td>4.639536</td>\n",
              "      <td>2.247908</td>\n",
              "      <td>0.411711</td>\n",
              "      <td>2.557421</td>\n",
              "      <td>6.712612</td>\n",
              "      <td>7.851370</td>\n",
              "      <td>7.996694</td>\n",
              "      <td>5.876254</td>\n",
              "      <td>8.196564</td>\n",
              "      <td>2.847958</td>\n",
              "      <td>0.526893</td>\n",
              "      <td>3.777245</td>\n",
              "      <td>0.285535</td>\n",
              "      <td>5.922210</td>\n",
              "      <td>1.523714</td>\n",
              "      <td>0.783367</td>\n",
              "      <td>2.615942</td>\n",
              "      <td>7.965198</td>\n",
              "      <td>2.159891</td>\n",
              "      <td>2.587830</td>\n",
              "      <td>4.322325</td>\n",
              "      <td>0.541614</td>\n",
              "      <td>5.179559</td>\n",
              "      <td>3.119978</td>\n",
              "      <td>2.249730</td>\n",
              "      <td>4.278903</td>\n",
              "      <td>...</td>\n",
              "      <td>10.880263</td>\n",
              "      <td>0.217938</td>\n",
              "      <td>1.419612</td>\n",
              "      <td>5.262056</td>\n",
              "      <td>5.457784</td>\n",
              "      <td>5.024182</td>\n",
              "      <td>0.369684</td>\n",
              "      <td>7.798020</td>\n",
              "      <td>3.105986</td>\n",
              "      <td>0.369437</td>\n",
              "      <td>4.424621</td>\n",
              "      <td>5.378008</td>\n",
              "      <td>8.674171</td>\n",
              "      <td>5.966674</td>\n",
              "      <td>7.136427</td>\n",
              "      <td>2.892167</td>\n",
              "      <td>7.513939</td>\n",
              "      <td>2.628895</td>\n",
              "      <td>8.579810</td>\n",
              "      <td>2.798956</td>\n",
              "      <td>5.261243</td>\n",
              "      <td>1.371862</td>\n",
              "      <td>8.963434</td>\n",
              "      <td>4.474924</td>\n",
              "      <td>9.318280</td>\n",
              "      <td>4.725167</td>\n",
              "      <td>3.189759</td>\n",
              "      <td>11.574708</td>\n",
              "      <td>3.944604</td>\n",
              "      <td>0.976348</td>\n",
              "      <td>4.559922</td>\n",
              "      <td>3.023272</td>\n",
              "      <td>1.478423</td>\n",
              "      <td>3.992030</td>\n",
              "      <td>3.135162</td>\n",
              "      <td>1.429372</td>\n",
              "      <td>5.454369</td>\n",
              "      <td>0.921625</td>\n",
              "      <td>3.010945</td>\n",
              "      <td>10.438015</td>\n",
              "    </tr>\n",
              "    <tr>\n",
              "      <th>min</th>\n",
              "      <td>0.000000</td>\n",
              "      <td>0.408400</td>\n",
              "      <td>-15.043400</td>\n",
              "      <td>2.117100</td>\n",
              "      <td>-0.040200</td>\n",
              "      <td>5.074800</td>\n",
              "      <td>-32.562600</td>\n",
              "      <td>2.347300</td>\n",
              "      <td>5.349700</td>\n",
              "      <td>-10.505500</td>\n",
              "      <td>3.970500</td>\n",
              "      <td>-20.731300</td>\n",
              "      <td>-26.095000</td>\n",
              "      <td>13.434600</td>\n",
              "      <td>-6.011100</td>\n",
              "      <td>1.013300</td>\n",
              "      <td>13.076900</td>\n",
              "      <td>0.635100</td>\n",
              "      <td>-33.380200</td>\n",
              "      <td>-10.664200</td>\n",
              "      <td>-12.402500</td>\n",
              "      <td>-5.432200</td>\n",
              "      <td>-10.089000</td>\n",
              "      <td>-5.322500</td>\n",
              "      <td>1.209800</td>\n",
              "      <td>-0.678400</td>\n",
              "      <td>12.720000</td>\n",
              "      <td>-24.243100</td>\n",
              "      <td>-6.166800</td>\n",
              "      <td>2.089600</td>\n",
              "      <td>-4.787200</td>\n",
              "      <td>-34.798400</td>\n",
              "      <td>2.140600</td>\n",
              "      <td>-8.986100</td>\n",
              "      <td>1.508500</td>\n",
              "      <td>9.816900</td>\n",
              "      <td>-16.513600</td>\n",
              "      <td>-8.095100</td>\n",
              "      <td>-1.183400</td>\n",
              "      <td>-6.337100</td>\n",
              "      <td>...</td>\n",
              "      <td>-7.452200</td>\n",
              "      <td>4.852600</td>\n",
              "      <td>0.623100</td>\n",
              "      <td>-6.531700</td>\n",
              "      <td>-19.997700</td>\n",
              "      <td>3.816700</td>\n",
              "      <td>1.851200</td>\n",
              "      <td>-35.969500</td>\n",
              "      <td>-5.250200</td>\n",
              "      <td>4.258800</td>\n",
              "      <td>-14.506000</td>\n",
              "      <td>-22.479300</td>\n",
              "      <td>-11.453300</td>\n",
              "      <td>-22.748700</td>\n",
              "      <td>-2.995300</td>\n",
              "      <td>3.241500</td>\n",
              "      <td>-29.116500</td>\n",
              "      <td>4.952100</td>\n",
              "      <td>-29.273400</td>\n",
              "      <td>-7.856100</td>\n",
              "      <td>-22.037400</td>\n",
              "      <td>5.416500</td>\n",
              "      <td>-26.001100</td>\n",
              "      <td>-4.808200</td>\n",
              "      <td>-18.489700</td>\n",
              "      <td>-22.583300</td>\n",
              "      <td>-3.022300</td>\n",
              "      <td>-47.753600</td>\n",
              "      <td>4.412300</td>\n",
              "      <td>-2.554300</td>\n",
              "      <td>-14.093300</td>\n",
              "      <td>-2.691700</td>\n",
              "      <td>-3.814500</td>\n",
              "      <td>-11.783400</td>\n",
              "      <td>8.694400</td>\n",
              "      <td>-5.261000</td>\n",
              "      <td>-14.209600</td>\n",
              "      <td>5.960600</td>\n",
              "      <td>6.299300</td>\n",
              "      <td>-38.852800</td>\n",
              "    </tr>\n",
              "    <tr>\n",
              "      <th>25%</th>\n",
              "      <td>0.000000</td>\n",
              "      <td>8.453850</td>\n",
              "      <td>-4.740025</td>\n",
              "      <td>8.722475</td>\n",
              "      <td>5.254075</td>\n",
              "      <td>9.883175</td>\n",
              "      <td>-11.200350</td>\n",
              "      <td>4.767700</td>\n",
              "      <td>13.943800</td>\n",
              "      <td>-2.317800</td>\n",
              "      <td>6.618800</td>\n",
              "      <td>-3.594950</td>\n",
              "      <td>-7.510600</td>\n",
              "      <td>13.894000</td>\n",
              "      <td>5.072800</td>\n",
              "      <td>5.781875</td>\n",
              "      <td>14.262800</td>\n",
              "      <td>7.452275</td>\n",
              "      <td>-10.476225</td>\n",
              "      <td>9.177950</td>\n",
              "      <td>6.276475</td>\n",
              "      <td>8.627800</td>\n",
              "      <td>11.551000</td>\n",
              "      <td>2.182400</td>\n",
              "      <td>2.634100</td>\n",
              "      <td>7.613000</td>\n",
              "      <td>13.456400</td>\n",
              "      <td>-8.321725</td>\n",
              "      <td>-2.307900</td>\n",
              "      <td>4.992100</td>\n",
              "      <td>3.171700</td>\n",
              "      <td>-13.766175</td>\n",
              "      <td>8.870000</td>\n",
              "      <td>-2.500875</td>\n",
              "      <td>11.456300</td>\n",
              "      <td>11.032300</td>\n",
              "      <td>0.116975</td>\n",
              "      <td>-0.007125</td>\n",
              "      <td>4.125475</td>\n",
              "      <td>7.591050</td>\n",
              "      <td>...</td>\n",
              "      <td>15.696125</td>\n",
              "      <td>5.470500</td>\n",
              "      <td>4.326100</td>\n",
              "      <td>7.029600</td>\n",
              "      <td>-7.094025</td>\n",
              "      <td>15.744550</td>\n",
              "      <td>2.699000</td>\n",
              "      <td>-9.643100</td>\n",
              "      <td>2.703200</td>\n",
              "      <td>5.374600</td>\n",
              "      <td>-3.258500</td>\n",
              "      <td>-4.720350</td>\n",
              "      <td>13.731775</td>\n",
              "      <td>-5.009525</td>\n",
              "      <td>15.064600</td>\n",
              "      <td>9.371600</td>\n",
              "      <td>-8.386500</td>\n",
              "      <td>9.808675</td>\n",
              "      <td>-7.395700</td>\n",
              "      <td>0.625575</td>\n",
              "      <td>-6.673900</td>\n",
              "      <td>9.084700</td>\n",
              "      <td>-6.064425</td>\n",
              "      <td>5.423100</td>\n",
              "      <td>5.663300</td>\n",
              "      <td>-7.360000</td>\n",
              "      <td>6.715200</td>\n",
              "      <td>-19.205125</td>\n",
              "      <td>12.501550</td>\n",
              "      <td>0.014900</td>\n",
              "      <td>-0.058825</td>\n",
              "      <td>5.157400</td>\n",
              "      <td>0.889775</td>\n",
              "      <td>0.584600</td>\n",
              "      <td>15.629800</td>\n",
              "      <td>-1.170700</td>\n",
              "      <td>-1.946925</td>\n",
              "      <td>8.252800</td>\n",
              "      <td>13.829700</td>\n",
              "      <td>-11.208475</td>\n",
              "    </tr>\n",
              "    <tr>\n",
              "      <th>50%</th>\n",
              "      <td>0.000000</td>\n",
              "      <td>10.524750</td>\n",
              "      <td>-1.608050</td>\n",
              "      <td>10.580000</td>\n",
              "      <td>6.825000</td>\n",
              "      <td>11.108250</td>\n",
              "      <td>-4.833150</td>\n",
              "      <td>5.385100</td>\n",
              "      <td>16.456800</td>\n",
              "      <td>0.393700</td>\n",
              "      <td>7.629600</td>\n",
              "      <td>0.487300</td>\n",
              "      <td>-3.286950</td>\n",
              "      <td>14.025500</td>\n",
              "      <td>8.604250</td>\n",
              "      <td>7.520300</td>\n",
              "      <td>14.574100</td>\n",
              "      <td>9.232050</td>\n",
              "      <td>-5.666350</td>\n",
              "      <td>15.196250</td>\n",
              "      <td>12.453900</td>\n",
              "      <td>13.196800</td>\n",
              "      <td>17.234250</td>\n",
              "      <td>4.275150</td>\n",
              "      <td>3.008650</td>\n",
              "      <td>10.380350</td>\n",
              "      <td>13.662500</td>\n",
              "      <td>-4.196900</td>\n",
              "      <td>-1.132100</td>\n",
              "      <td>5.534850</td>\n",
              "      <td>4.950200</td>\n",
              "      <td>-7.411750</td>\n",
              "      <td>10.365650</td>\n",
              "      <td>-0.497650</td>\n",
              "      <td>14.576000</td>\n",
              "      <td>11.435200</td>\n",
              "      <td>3.917750</td>\n",
              "      <td>2.198000</td>\n",
              "      <td>5.900650</td>\n",
              "      <td>10.562700</td>\n",
              "      <td>...</td>\n",
              "      <td>23.864500</td>\n",
              "      <td>5.633500</td>\n",
              "      <td>5.359700</td>\n",
              "      <td>10.788700</td>\n",
              "      <td>-2.637800</td>\n",
              "      <td>19.270800</td>\n",
              "      <td>2.960200</td>\n",
              "      <td>-4.011600</td>\n",
              "      <td>4.761600</td>\n",
              "      <td>5.634300</td>\n",
              "      <td>0.002800</td>\n",
              "      <td>-0.807350</td>\n",
              "      <td>19.748000</td>\n",
              "      <td>-0.569750</td>\n",
              "      <td>20.206100</td>\n",
              "      <td>11.679800</td>\n",
              "      <td>-2.538450</td>\n",
              "      <td>11.737250</td>\n",
              "      <td>-0.942050</td>\n",
              "      <td>2.512300</td>\n",
              "      <td>-2.688800</td>\n",
              "      <td>10.036050</td>\n",
              "      <td>0.720200</td>\n",
              "      <td>8.600000</td>\n",
              "      <td>12.521000</td>\n",
              "      <td>-3.946950</td>\n",
              "      <td>8.902150</td>\n",
              "      <td>-10.209750</td>\n",
              "      <td>15.239450</td>\n",
              "      <td>0.742600</td>\n",
              "      <td>3.203600</td>\n",
              "      <td>7.347750</td>\n",
              "      <td>1.901300</td>\n",
              "      <td>3.396350</td>\n",
              "      <td>17.957950</td>\n",
              "      <td>-0.172700</td>\n",
              "      <td>2.408900</td>\n",
              "      <td>8.888200</td>\n",
              "      <td>15.934050</td>\n",
              "      <td>-2.819550</td>\n",
              "    </tr>\n",
              "    <tr>\n",
              "      <th>75%</th>\n",
              "      <td>0.000000</td>\n",
              "      <td>12.758200</td>\n",
              "      <td>1.358625</td>\n",
              "      <td>12.516700</td>\n",
              "      <td>8.324100</td>\n",
              "      <td>12.261125</td>\n",
              "      <td>0.924800</td>\n",
              "      <td>6.003000</td>\n",
              "      <td>19.102900</td>\n",
              "      <td>2.937900</td>\n",
              "      <td>8.584425</td>\n",
              "      <td>4.382925</td>\n",
              "      <td>0.852825</td>\n",
              "      <td>14.164200</td>\n",
              "      <td>12.274775</td>\n",
              "      <td>9.270425</td>\n",
              "      <td>14.874500</td>\n",
              "      <td>11.055900</td>\n",
              "      <td>-0.810775</td>\n",
              "      <td>21.013325</td>\n",
              "      <td>18.433300</td>\n",
              "      <td>17.879400</td>\n",
              "      <td>23.089050</td>\n",
              "      <td>6.293200</td>\n",
              "      <td>3.403800</td>\n",
              "      <td>13.479600</td>\n",
              "      <td>13.863700</td>\n",
              "      <td>-0.090200</td>\n",
              "      <td>0.015625</td>\n",
              "      <td>6.093700</td>\n",
              "      <td>6.798925</td>\n",
              "      <td>-1.443450</td>\n",
              "      <td>11.885000</td>\n",
              "      <td>1.469100</td>\n",
              "      <td>18.097125</td>\n",
              "      <td>11.844400</td>\n",
              "      <td>7.487725</td>\n",
              "      <td>4.460400</td>\n",
              "      <td>7.542400</td>\n",
              "      <td>13.598925</td>\n",
              "      <td>...</td>\n",
              "      <td>32.622850</td>\n",
              "      <td>5.792000</td>\n",
              "      <td>6.371200</td>\n",
              "      <td>14.623900</td>\n",
              "      <td>1.323600</td>\n",
              "      <td>23.024025</td>\n",
              "      <td>3.241500</td>\n",
              "      <td>1.318725</td>\n",
              "      <td>7.020025</td>\n",
              "      <td>5.905400</td>\n",
              "      <td>3.096400</td>\n",
              "      <td>2.956800</td>\n",
              "      <td>25.907725</td>\n",
              "      <td>3.619900</td>\n",
              "      <td>25.641225</td>\n",
              "      <td>13.745500</td>\n",
              "      <td>2.704400</td>\n",
              "      <td>13.931300</td>\n",
              "      <td>5.338750</td>\n",
              "      <td>4.391125</td>\n",
              "      <td>0.996200</td>\n",
              "      <td>11.011300</td>\n",
              "      <td>7.499175</td>\n",
              "      <td>12.127425</td>\n",
              "      <td>19.456150</td>\n",
              "      <td>-0.590650</td>\n",
              "      <td>11.193800</td>\n",
              "      <td>-1.466000</td>\n",
              "      <td>18.345225</td>\n",
              "      <td>1.482900</td>\n",
              "      <td>6.406200</td>\n",
              "      <td>9.512525</td>\n",
              "      <td>2.949500</td>\n",
              "      <td>6.205800</td>\n",
              "      <td>20.396525</td>\n",
              "      <td>0.829600</td>\n",
              "      <td>6.556725</td>\n",
              "      <td>9.593300</td>\n",
              "      <td>18.064725</td>\n",
              "      <td>4.836800</td>\n",
              "    </tr>\n",
              "    <tr>\n",
              "      <th>max</th>\n",
              "      <td>1.000000</td>\n",
              "      <td>20.315000</td>\n",
              "      <td>10.376800</td>\n",
              "      <td>19.353000</td>\n",
              "      <td>13.188300</td>\n",
              "      <td>16.671400</td>\n",
              "      <td>17.251600</td>\n",
              "      <td>8.447700</td>\n",
              "      <td>27.691800</td>\n",
              "      <td>10.151300</td>\n",
              "      <td>11.150600</td>\n",
              "      <td>18.670200</td>\n",
              "      <td>17.188700</td>\n",
              "      <td>14.654500</td>\n",
              "      <td>22.331500</td>\n",
              "      <td>14.937700</td>\n",
              "      <td>15.863300</td>\n",
              "      <td>17.950600</td>\n",
              "      <td>19.025900</td>\n",
              "      <td>41.748000</td>\n",
              "      <td>35.183000</td>\n",
              "      <td>31.285900</td>\n",
              "      <td>49.044300</td>\n",
              "      <td>14.594500</td>\n",
              "      <td>4.875200</td>\n",
              "      <td>25.446000</td>\n",
              "      <td>14.654600</td>\n",
              "      <td>15.675100</td>\n",
              "      <td>3.243100</td>\n",
              "      <td>8.787400</td>\n",
              "      <td>13.143100</td>\n",
              "      <td>15.651500</td>\n",
              "      <td>20.171900</td>\n",
              "      <td>6.787100</td>\n",
              "      <td>29.546600</td>\n",
              "      <td>13.287800</td>\n",
              "      <td>21.528900</td>\n",
              "      <td>14.245600</td>\n",
              "      <td>11.863800</td>\n",
              "      <td>29.823500</td>\n",
              "      <td>...</td>\n",
              "      <td>58.394200</td>\n",
              "      <td>6.309900</td>\n",
              "      <td>10.134400</td>\n",
              "      <td>27.564800</td>\n",
              "      <td>12.119300</td>\n",
              "      <td>38.332200</td>\n",
              "      <td>4.220400</td>\n",
              "      <td>21.276600</td>\n",
              "      <td>14.886100</td>\n",
              "      <td>7.089000</td>\n",
              "      <td>16.731900</td>\n",
              "      <td>17.917300</td>\n",
              "      <td>53.591900</td>\n",
              "      <td>18.855400</td>\n",
              "      <td>43.546800</td>\n",
              "      <td>20.854800</td>\n",
              "      <td>20.245200</td>\n",
              "      <td>20.596500</td>\n",
              "      <td>29.841300</td>\n",
              "      <td>13.448700</td>\n",
              "      <td>12.750500</td>\n",
              "      <td>14.393900</td>\n",
              "      <td>29.248700</td>\n",
              "      <td>23.704900</td>\n",
              "      <td>44.363400</td>\n",
              "      <td>12.997500</td>\n",
              "      <td>21.739200</td>\n",
              "      <td>22.786100</td>\n",
              "      <td>29.330300</td>\n",
              "      <td>4.034100</td>\n",
              "      <td>18.440900</td>\n",
              "      <td>16.716500</td>\n",
              "      <td>8.402400</td>\n",
              "      <td>18.281800</td>\n",
              "      <td>27.928800</td>\n",
              "      <td>4.272900</td>\n",
              "      <td>18.321500</td>\n",
              "      <td>12.000400</td>\n",
              "      <td>26.079100</td>\n",
              "      <td>28.500700</td>\n",
              "    </tr>\n",
              "  </tbody>\n",
              "</table>\n",
              "<p>8 rows × 201 columns</p>\n",
              "</div>"
            ],
            "text/plain": [
              "              target          var_0  ...        var_198        var_199\n",
              "count  200000.000000  200000.000000  ...  200000.000000  200000.000000\n",
              "mean        0.100490      10.679914  ...      15.870720      -3.326537\n",
              "std         0.300653       3.040051  ...       3.010945      10.438015\n",
              "min         0.000000       0.408400  ...       6.299300     -38.852800\n",
              "25%         0.000000       8.453850  ...      13.829700     -11.208475\n",
              "50%         0.000000      10.524750  ...      15.934050      -2.819550\n",
              "75%         0.000000      12.758200  ...      18.064725       4.836800\n",
              "max         1.000000      20.315000  ...      26.079100      28.500700\n",
              "\n",
              "[8 rows x 201 columns]"
            ]
          },
          "metadata": {
            "tags": []
          },
          "execution_count": 12
        }
      ]
    },
    {
      "cell_type": "code",
      "metadata": {
        "id": "8gm1SKsYh6db"
      },
      "source": [
        "# TODO: Inspeccionar test\n",
        "# Puede ejecutar los métodos que crea necesarios. Recomendamos describe, columns, shape, head"
      ],
      "execution_count": null,
      "outputs": []
    },
    {
      "cell_type": "markdown",
      "metadata": {
        "id": "K3bw0b7uh6db"
      },
      "source": [
        "Que columna esta en los datos de train pero no en los de test? Cuantas observaciones de test hay?"
      ]
    },
    {
      "cell_type": "markdown",
      "metadata": {
        "id": "9P6ciNJ0h6db"
      },
      "source": [
        "# Dividir data en Train y Val"
      ]
    },
    {
      "cell_type": "code",
      "metadata": {
        "id": "R3Ni7W3Jh6dd"
      },
      "source": [
        "N_train = 160_000\n",
        "X_train = df_train.drop(columns=['ID_code', 'target']).values[:N_train]\n",
        "X_val = df_train.drop(columns=['ID_code', 'target']).values[N_train:]\n",
        "y_train = df_train['target'].values[:N_train]\n",
        "y_val = df_train['target'].values[N_train:]\n",
        "\n",
        "def normal(serie): \n",
        "  return (serie-np.mean(serie))/np.std(serie)\n",
        "\n",
        "X_train=normal(df_train.drop(columns=['ID_code', 'target']).values[:N_train])\n",
        "X_val=normal(df_train.drop(columns=['ID_code', 'target']).values[N_train:])\n",
        "#y_train=normal( df_train['target'].values[:N_train])\n",
        "#y_val=normal(df_train['target'].values[N_train:])"
      ],
      "execution_count": 43,
      "outputs": []
    },
    {
      "cell_type": "code",
      "metadata": {
        "id": "lHA2TgeX49lN",
        "outputId": "c7e90ddc-7509-430c-bee3-09bda50c531d",
        "colab": {
          "base_uri": "https://localhost:8080/"
        }
      },
      "source": [
        "X_train"
      ],
      "execution_count": 38,
      "outputs": [
        {
          "output_type": "execute_result",
          "data": {
            "text/plain": [
              "array([[ 0.22332347, -1.40257448,  0.53197068, ...,  0.18586277,\n",
              "         0.62222821, -0.81325141],\n",
              "       [ 0.48980152, -1.12948389,  0.73383419, ...,  0.20918775,\n",
              "         1.19921615, -0.49833315],\n",
              "       [ 0.19060227, -0.98444267,  0.54981108, ...,  0.15523192,\n",
              "         0.82318107, -0.65927964],\n",
              "       ...,\n",
              "       [ 0.28809323, -0.74405259,  0.12877142, ...,  0.31944846,\n",
              "         1.31757955,  0.00877299],\n",
              "       [ 0.13550814, -0.96776128,  0.51894222, ...,  0.27781741,\n",
              "         0.57519536,  0.60154203],\n",
              "       [ 0.5119261 , -0.9227153 ,  0.21913243, ...,  0.11652943,\n",
              "         0.95966428, -0.61376799]])"
            ]
          },
          "metadata": {
            "tags": []
          },
          "execution_count": 38
        }
      ]
    },
    {
      "cell_type": "markdown",
      "metadata": {
        "id": "9wgmSiKYh6de"
      },
      "source": [
        "# Regresión logística"
      ]
    },
    {
      "cell_type": "code",
      "metadata": {
        "id": "hcwj0Booh6de"
      },
      "source": [
        "from sklearn.linear_model import LogisticRegression"
      ],
      "execution_count": 44,
      "outputs": []
    },
    {
      "cell_type": "code",
      "metadata": {
        "id": "tja9O7Toh6de"
      },
      "source": [
        "model = LogisticRegression(solver='lbfgs', max_iter=100)"
      ],
      "execution_count": 45,
      "outputs": []
    },
    {
      "cell_type": "code",
      "metadata": {
        "id": "0fIFxBJvh6df",
        "outputId": "6d0eaf04-3e87-483e-e9cf-89d3b5320bf5",
        "colab": {
          "base_uri": "https://localhost:8080/"
        }
      },
      "source": [
        "%time model.fit(X_train, y_train)"
      ],
      "execution_count": 46,
      "outputs": [
        {
          "output_type": "stream",
          "text": [
            "CPU times: user 13.6 s, sys: 2.35 s, total: 16 s\n",
            "Wall time: 8.33 s\n"
          ],
          "name": "stdout"
        },
        {
          "output_type": "stream",
          "text": [
            "/usr/local/lib/python3.7/dist-packages/sklearn/linear_model/_logistic.py:940: ConvergenceWarning: lbfgs failed to converge (status=1):\n",
            "STOP: TOTAL NO. of ITERATIONS REACHED LIMIT.\n",
            "\n",
            "Increase the number of iterations (max_iter) or scale the data as shown in:\n",
            "    https://scikit-learn.org/stable/modules/preprocessing.html\n",
            "Please also refer to the documentation for alternative solver options:\n",
            "    https://scikit-learn.org/stable/modules/linear_model.html#logistic-regression\n",
            "  extra_warning_msg=_LOGISTIC_SOLVER_CONVERGENCE_MSG)\n"
          ],
          "name": "stderr"
        },
        {
          "output_type": "execute_result",
          "data": {
            "text/plain": [
              "LogisticRegression(C=1.0, class_weight=None, dual=False, fit_intercept=True,\n",
              "                   intercept_scaling=1, l1_ratio=None, max_iter=100,\n",
              "                   multi_class='auto', n_jobs=None, penalty='l2',\n",
              "                   random_state=None, solver='lbfgs', tol=0.0001, verbose=0,\n",
              "                   warm_start=False)"
            ]
          },
          "metadata": {
            "tags": []
          },
          "execution_count": 46
        }
      ]
    },
    {
      "cell_type": "markdown",
      "metadata": {
        "id": "iUkrC7Jph6df"
      },
      "source": [
        "A que se debe el warning no termina de convergence?"
      ]
    },
    {
      "cell_type": "code",
      "metadata": {
        "id": "w0VF0N_Xh6df",
        "outputId": "8901f821-54bd-41e0-a490-7fe23e086a2a",
        "colab": {
          "base_uri": "https://localhost:8080/"
        }
      },
      "source": [
        "acc = model.score(X_train, y_train)\n",
        "auc = roc_auc_score(y_train, model.predict_proba(X_train)[:,1])\n",
        "print(auc)\n",
        "print(acc)"
      ],
      "execution_count": 47,
      "outputs": [
        {
          "output_type": "stream",
          "text": [
            "0.8514768336351206\n",
            "0.912675\n"
          ],
          "name": "stdout"
        }
      ]
    },
    {
      "cell_type": "code",
      "metadata": {
        "id": "HgVvUQAKh6dg",
        "outputId": "5e843dbe-26d6-411b-f696-da2c8a52ecc7",
        "colab": {
          "base_uri": "https://localhost:8080/"
        }
      },
      "source": [
        "print(roc_auc_score(y_val, model.predict_proba(X_val)[:,1]))\n",
        "print(model.score(X_val, y_val))"
      ],
      "execution_count": 48,
      "outputs": [
        {
          "output_type": "stream",
          "text": [
            "0.8532351658168906\n",
            "0.911975\n"
          ],
          "name": "stdout"
        }
      ]
    },
    {
      "cell_type": "markdown",
      "metadata": {
        "id": "Qlndk7BTh6dg"
      },
      "source": [
        "cuantos parámetros aprendio el modelo?"
      ]
    },
    {
      "cell_type": "markdown",
      "metadata": {
        "id": "Wp371Aj6h6dh"
      },
      "source": [
        "# Normalizar los datos"
      ]
    },
    {
      "cell_type": "code",
      "metadata": {
        "id": "mvL0kC53h6dh"
      },
      "source": [
        "means = X_train.mean(axis=0)\n",
        "stds = X_train.std(axis=0)"
      ],
      "execution_count": 50,
      "outputs": []
    },
    {
      "cell_type": "code",
      "metadata": {
        "id": "M88r8ZeRh6dh"
      },
      "source": [
        "X_train_normalized = (X_train - means)/stds\n",
        "X_val_normalized = (X_val - means)/stds"
      ],
      "execution_count": 51,
      "outputs": []
    },
    {
      "cell_type": "code",
      "metadata": {
        "id": "foIvCCEGh6di",
        "outputId": "06db835b-a009-42f9-db8b-d5b007f4bf67",
        "colab": {
          "base_uri": "https://localhost:8080/"
        }
      },
      "source": [
        "model_2 = LogisticRegression(solver='lbfgs')\n",
        "%time model_2.fit(X_train_normalized, y_train)"
      ],
      "execution_count": 52,
      "outputs": [
        {
          "output_type": "stream",
          "text": [
            "CPU times: user 1.35 s, sys: 227 ms, total: 1.58 s\n",
            "Wall time: 886 ms\n"
          ],
          "name": "stdout"
        },
        {
          "output_type": "execute_result",
          "data": {
            "text/plain": [
              "LogisticRegression(C=1.0, class_weight=None, dual=False, fit_intercept=True,\n",
              "                   intercept_scaling=1, l1_ratio=None, max_iter=100,\n",
              "                   multi_class='auto', n_jobs=None, penalty='l2',\n",
              "                   random_state=None, solver='lbfgs', tol=0.0001, verbose=0,\n",
              "                   warm_start=False)"
            ]
          },
          "metadata": {
            "tags": []
          },
          "execution_count": 52
        }
      ]
    },
    {
      "cell_type": "code",
      "metadata": {
        "id": "yDCZZusxh6di",
        "outputId": "10dea4b5-4d1a-49ef-a6ea-1bd87179b3ca",
        "colab": {
          "base_uri": "https://localhost:8080/"
        }
      },
      "source": [
        "print(model_2.score(X_train_normalized, y_train))\n",
        "print(roc_auc_score(y_train, model_2.predict_proba(X_train_normalized)[:,1]))"
      ],
      "execution_count": 53,
      "outputs": [
        {
          "output_type": "stream",
          "text": [
            "0.91440625\n",
            "0.8606427353156717\n"
          ],
          "name": "stdout"
        }
      ]
    },
    {
      "cell_type": "code",
      "metadata": {
        "id": "8tU4EZUEh6di",
        "outputId": "5ca53860-16a4-4445-fc20-975e0a6998a0",
        "colab": {
          "base_uri": "https://localhost:8080/"
        }
      },
      "source": [
        "print(model_2.score(X_val_normalized, y_val))\n",
        "print(roc_auc_score(y_val, model_2.predict_proba(X_val_normalized)[:,1]))"
      ],
      "execution_count": 54,
      "outputs": [
        {
          "output_type": "stream",
          "text": [
            "0.914475\n",
            "0.8629075884886785\n"
          ],
          "name": "stdout"
        }
      ]
    },
    {
      "cell_type": "code",
      "metadata": {
        "id": "mLJT1OPf8hVO",
        "outputId": "ce8d420d-0d2a-49dc-c6f0-6b24b26e0299",
        "colab": {
          "base_uri": "https://localhost:8080/"
        }
      },
      "source": [
        "model_2.coef_.shape"
      ],
      "execution_count": 56,
      "outputs": [
        {
          "output_type": "execute_result",
          "data": {
            "text/plain": [
              "(1, 200)"
            ]
          },
          "metadata": {
            "tags": []
          },
          "execution_count": 56
        }
      ]
    },
    {
      "cell_type": "code",
      "metadata": {
        "id": "AVgs2lquh6dj",
        "outputId": "91479612-157b-4dd4-da4b-361b13dd96e8"
      },
      "source": [
        "# Ordenamos el valor absoluto de los parámetros de mayor a menor\n",
        "# Coeficientes ordenados en función de su de mayor importancia\n",
        "np.argsort(np.abs(model_2.coef_))[0][::-1]"
      ],
      "execution_count": null,
      "outputs": [
        {
          "output_type": "execute_result",
          "data": {
            "text/plain": [
              "array([ 81, 139,   6,  12,  53, 110,  76,  99, 146, 174,  26,  21,  22,\n",
              "        80, 190, 166, 165, 198,  13,  34, 169,  44,   2, 148,   0,  40,\n",
              "       133, 179, 170,  78,  94,   1, 184, 109,  33, 115,  92,  67, 149,\n",
              "       108, 191, 122, 173, 154,  18,  86, 192, 118, 107, 121, 147,  95,\n",
              "         9,  75,  35, 164, 177, 197, 172,  36, 127,  89, 123, 155,  91,\n",
              "       188,  56,  87,  71,  48,   5,  93, 162, 106, 157, 130, 141, 145,\n",
              "        24, 151,  32, 167, 163, 150, 186, 119,  49,  31, 180,  23, 111,\n",
              "       195,  90, 131, 125, 137, 114, 199,  43, 116, 135,  52,  58, 128,\n",
              "        70, 104, 175, 112, 132, 105,  11, 196,  85,  82, 194,  51,  28,\n",
              "       142,  83,  66, 134, 144, 138,  74,  45, 156,  77,  55,  97, 140,\n",
              "        20,  54, 193,  57,  88, 178,   8, 102, 113,  62,  15, 143, 159,\n",
              "       187, 181, 171,  63,  72,  64,  50,  59, 120, 168, 182, 101,  25,\n",
              "        68,   3,  65, 152,   4,  84,  37,  42, 176,  61, 129,  19, 189,\n",
              "        69,  47,  60,  16,  27,  29,  79,  73, 158,  96, 160,  46, 124,\n",
              "        98,  14, 153, 126,  39, 136, 183, 117,  41, 103, 100, 161,  10,\n",
              "         7, 185,  38,  17,  30])"
            ]
          },
          "metadata": {
            "tags": []
          },
          "execution_count": 219
        }
      ]
    },
    {
      "cell_type": "code",
      "metadata": {
        "id": "N9H2CMDBh6dj",
        "outputId": "05548fd4-4e51-4fb9-f86b-2d3eb87f7d92",
        "colab": {
          "base_uri": "https://localhost:8080/"
        }
      },
      "source": [
        "# Parámetros menores a cero\n",
        "negative_indexes = np.where(model.coef_<0)[1]\n",
        "negative_indexes"
      ],
      "execution_count": 57,
      "outputs": [
        {
          "output_type": "execute_result",
          "data": {
            "text/plain": [
              "array([  9,  10,  12,  13,  14,  17,  20,  21,  23,  27,  28,  30,  31,\n",
              "        33,  34,  36,  38,  39,  41,  42,  43,  44,  45,  50,  54,  56,\n",
              "        57,  58,  59,  63,  64,  68,  71,  72,  73,  75,  76,  77,  80,\n",
              "        81,  83,  85,  86,  87,  88,  92,  93,  98, 101, 102, 103, 104,\n",
              "       107, 109, 113, 114, 115, 116, 120, 121, 122, 123, 127, 129, 131,\n",
              "       132, 136, 139, 141, 142, 143, 146, 148, 149, 150, 152, 153, 154,\n",
              "       156, 158, 160, 161, 165, 166, 169, 172, 174, 177, 178, 182, 183,\n",
              "       186, 188, 192, 193, 194, 197, 198])"
            ]
          },
          "metadata": {
            "tags": []
          },
          "execution_count": 57
        }
      ]
    },
    {
      "cell_type": "code",
      "metadata": {
        "id": "e3xOCkKUh6dk",
        "outputId": "19d3832d-7024-4987-f98a-4b780a6adcbf"
      },
      "source": [
        "# Parámetros mayores a cero\n",
        "positive_indexes = np.where(model.coef_>0)[1]\n",
        "positive_indexes"
      ],
      "execution_count": null,
      "outputs": [
        {
          "output_type": "execute_result",
          "data": {
            "text/plain": [
              "array([  0,   1,   2,   3,   4,   5,   6,   8,  11,  15,  16,  18,  19,\n",
              "        22,  24,  25,  26,  29,  30,  32,  35,  37,  38,  40,  46,  47,\n",
              "        48,  49,  51,  52,  53,  55,  60,  61,  62,  65,  66,  67,  68,\n",
              "        69,  70,  71,  74,  78,  79,  82,  84,  89,  90,  91,  94,  95,\n",
              "        96,  97,  99, 100, 103, 105, 106, 108, 110, 111, 112, 117, 118,\n",
              "       119, 124, 125, 126, 128, 130, 133, 134, 135, 137, 138, 140, 144,\n",
              "       145, 147, 151, 155, 157, 159, 161, 162, 163, 164, 167, 168, 170,\n",
              "       171, 173, 175, 176, 179, 180, 181, 184, 187, 189, 190, 191, 195,\n",
              "       196, 199])"
            ]
          },
          "metadata": {
            "tags": []
          },
          "execution_count": 196
        }
      ]
    },
    {
      "cell_type": "code",
      "metadata": {
        "id": "t6ctLpElh6dk",
        "outputId": "4e0cbf1e-1bf4-4def-eb9a-0f2519c2b42a"
      },
      "source": [
        "len(negative_indexes)/len(positive_indexes)"
      ],
      "execution_count": null,
      "outputs": [
        {
          "output_type": "execute_result",
          "data": {
            "text/plain": [
              "0.8867924528301887"
            ]
          },
          "metadata": {
            "tags": []
          },
          "execution_count": 202
        }
      ]
    },
    {
      "cell_type": "markdown",
      "metadata": {
        "id": "l_rkd4yYh6dk"
      },
      "source": [
        "Notar que hay algunos parámetros mayores a cero y otros menores a cero. Como contribuyen en función de su signo?"
      ]
    },
    {
      "cell_type": "code",
      "metadata": {
        "id": "qrFMXK_Oh6dl",
        "outputId": "bf6a7c04-4156-43c3-fb69-9459266cb0ae",
        "colab": {
          "base_uri": "https://localhost:8080/"
        }
      },
      "source": [
        "# Ordenados de menor a mayor\n",
        "np.argsort(model_2.coef_)[0]"
      ],
      "execution_count": 59,
      "outputs": [
        {
          "output_type": "execute_result",
          "data": {
            "text/plain": [
              "array([ 81, 139,  12,  76, 146, 174,  21,  80, 166, 165, 198,  13,  34,\n",
              "       169,  44, 148, 109,  33, 115,  92, 149, 108, 122, 154,  86, 192,\n",
              "       107, 121,   9,  75, 177, 197, 172,  36, 127, 123, 188,  56,  87,\n",
              "        93, 141, 150, 186,  31,  23, 131, 114,  43, 116,  58, 104, 132,\n",
              "        85, 194,  28, 142,  83,  45, 156,  77,  20,  54, 193,  57,  88,\n",
              "       178, 102, 113, 143,  63,  72,  64,  50,  59, 120, 182, 101,  68,\n",
              "       152,  42, 129,  27,  73, 158, 160,  98,  14, 153,  39, 136, 183,\n",
              "        41, 103,  10,   7, 185,  38,  17,  30, 161, 100, 117, 126, 124,\n",
              "        46,  96,  79,  29,  16,  60,  47,  69, 189,  19,  61, 176,  37,\n",
              "        84,   4,  65,   3,  25, 168, 171, 181, 187, 159,  15,  62,   8,\n",
              "       140,  97,  55,  74, 138, 144, 134,  66,  51,  82, 196,  11, 105,\n",
              "       112, 175,  70, 128,  52, 135, 199, 137, 125,  90, 195, 111, 180,\n",
              "        49, 119, 163, 167,  32, 151,  24, 145, 130, 157, 106, 162,   5,\n",
              "        48,  71,  91, 155,  89, 164,  35,  95, 147, 118,  18, 173, 191,\n",
              "        67, 184,   1,  94,  78, 170, 179, 133,  40,   0,   2, 190,  22,\n",
              "        26,  99, 110,  53,   6])"
            ]
          },
          "metadata": {
            "tags": []
          },
          "execution_count": 59
        }
      ]
    },
    {
      "cell_type": "code",
      "metadata": {
        "id": "PtoPBRx7h6dl",
        "outputId": "b9990ba3-d5a6-4e73-b4d0-6de07439725e"
      },
      "source": [
        "# Ordenados de mayor a menor\n",
        "np.argsort(model_2.coef_)[0][::-1]"
      ],
      "execution_count": null,
      "outputs": [
        {
          "output_type": "execute_result",
          "data": {
            "text/plain": [
              "array([  6,  53, 110,  99,  26,  22, 190,   2,   0,  40, 133, 179, 170,\n",
              "        78,  94,   1, 184,  67, 191, 173,  18, 118, 147,  95,  35, 164,\n",
              "        89, 155,  91,  71,  48,   5, 162, 106, 157, 130, 145,  24, 151,\n",
              "        32, 167, 163, 119,  49, 180, 111, 195,  90, 125, 137, 199, 135,\n",
              "        52, 128,  70, 175, 112, 105,  11, 196,  82,  51,  66, 134, 144,\n",
              "       138,  74,  55,  97, 140,   8,  62,  15, 159, 187, 181, 171, 168,\n",
              "        25,   3,  65,   4,  84,  37, 176,  61,  19, 189,  69,  47,  60,\n",
              "        16,  29,  79,  96,  46, 124, 126, 117, 100, 161,  30,  17,  38,\n",
              "       185,   7,  10, 103,  41, 183, 136,  39, 153,  14,  98, 160, 158,\n",
              "        73,  27, 129,  42, 152,  68, 101, 182, 120,  59,  50,  64,  72,\n",
              "        63, 143, 113, 102, 178,  88,  57, 193,  54,  20,  77, 156,  45,\n",
              "        83, 142,  28, 194,  85, 132, 104,  58, 116,  43, 114, 131,  23,\n",
              "        31, 186, 150, 141,  93,  87,  56, 188, 123, 127,  36, 172, 197,\n",
              "       177,  75,   9, 121, 107, 192,  86, 154, 122, 108, 149,  92, 115,\n",
              "        33, 109, 148,  44, 169,  34,  13, 198, 165, 166,  80,  21, 174,\n",
              "       146,  76,  12, 139,  81])"
            ]
          },
          "metadata": {
            "tags": []
          },
          "execution_count": 199
        }
      ]
    },
    {
      "cell_type": "code",
      "metadata": {
        "id": "8B5_R66dh6dm"
      },
      "source": [
        "# Calculamos correlación de cada variable con la salida\n",
        "correlations = []\n",
        "for i in range(200):\n",
        "    correlations.append(np.corrcoef(y_train, X_train_normalized[:,i])[1,0])"
      ],
      "execution_count": null,
      "outputs": []
    },
    {
      "cell_type": "code",
      "metadata": {
        "id": "nvZUuvgzh6dm",
        "outputId": "97602a19-0736-4294-a463-cc72c515d81e"
      },
      "source": [
        "np.argsort(np.abs(correlations))[::-1]"
      ],
      "execution_count": null,
      "outputs": [
        {
          "output_type": "execute_result",
          "data": {
            "text/plain": [
              "array([ 81, 139,  12, 110,   6,  26,  53, 146, 174,  76,  99,  80, 166,\n",
              "        22, 165,  21, 190, 148,   2,  13,  34, 133,   0, 198, 169, 109,\n",
              "       179,  44,  40,   1, 115, 149, 170, 184,  78,  94,  92, 108,  67,\n",
              "       191,  33,  18, 154, 173,  86, 122, 192, 147, 118,   9, 121,  75,\n",
              "        95, 164, 123,  35,  91,  36, 172, 127, 107, 155,  89, 177, 197,\n",
              "        56,  93, 188,  87,  71, 162,  48, 157, 106, 141, 145,   5,  32,\n",
              "       163, 131, 167, 186, 119,  49,  24, 151, 130,  90, 111, 135, 180,\n",
              "       125,  43,  51, 114, 195, 199,  52,  23, 150,  31, 116,  85,  70,\n",
              "       137, 105, 128, 104,  58, 112, 196, 132,  11,  28, 175,  66,  82,\n",
              "       194, 156,  83, 142,  45, 144,  88,  74, 178, 138,  77,   8,  97,\n",
              "       134,  20,  55, 193,  54,  15, 102,  57, 159, 140, 171,  62, 113,\n",
              "       187,  63, 143,  64,  25, 181,  50, 120, 168,  59,   3,  72,  65,\n",
              "        68,  84, 101,  19,   4,  37,  61,  69, 189, 152, 182,  42,  16,\n",
              "       129, 176,  47,  79, 153,  14, 183,  46, 160,  73,  60,  98, 158,\n",
              "       124,  27, 100,  96,  29,  39,  10, 117, 136,   7,  41, 103,  38,\n",
              "       161, 185,  30, 126,  17])"
            ]
          },
          "metadata": {
            "tags": []
          },
          "execution_count": 201
        }
      ]
    },
    {
      "cell_type": "markdown",
      "metadata": {
        "id": "B-FTFdheh6dm"
      },
      "source": [
        "# Feature engineering"
      ]
    },
    {
      "cell_type": "code",
      "metadata": {
        "id": "9MRFYWMWh6dn"
      },
      "source": [
        "# Agregamos 200 columnas con el cuadrado de cada columna normaliado a train\n",
        "X_train_sq = X_train_normalized**2\n",
        "means_sq = X_train_sq.mean(axis=0)\n",
        "stds_sq = X_train_sq.std(axis=0)\n",
        "X_train_FE = np.append(X_train_normalized, (X_train_sq - means_sq)/stds_sq, axis=1)\n",
        "\n",
        "# Agregamos el cuadrado a validación normalizando con la media y std obtenida en train\n",
        "X_val_sq = X_val_normalized**2\n",
        "X_val_FE = np.append(X_val_normalized, (X_val_normalized**2-means_sq)/stds_sq, axis=1)"
      ],
      "execution_count": 60,
      "outputs": []
    },
    {
      "cell_type": "code",
      "metadata": {
        "id": "tCEPIj4gh6dn",
        "outputId": "e0af034c-9c7b-4596-fa75-c17a9e31113e",
        "colab": {
          "base_uri": "https://localhost:8080/"
        }
      },
      "source": [
        "model_3 = LogisticRegression(solver='lbfgs')\n",
        "%time model_3.fit(X_train_FE, y_train)"
      ],
      "execution_count": 61,
      "outputs": [
        {
          "output_type": "stream",
          "text": [
            "CPU times: user 2.53 s, sys: 263 ms, total: 2.8 s\n",
            "Wall time: 1.57 s\n"
          ],
          "name": "stdout"
        },
        {
          "output_type": "execute_result",
          "data": {
            "text/plain": [
              "LogisticRegression(C=1.0, class_weight=None, dual=False, fit_intercept=True,\n",
              "                   intercept_scaling=1, l1_ratio=None, max_iter=100,\n",
              "                   multi_class='auto', n_jobs=None, penalty='l2',\n",
              "                   random_state=None, solver='lbfgs', tol=0.0001, verbose=0,\n",
              "                   warm_start=False)"
            ]
          },
          "metadata": {
            "tags": []
          },
          "execution_count": 61
        }
      ]
    },
    {
      "cell_type": "code",
      "metadata": {
        "id": "u7UGmxG6h6dn",
        "outputId": "a8555acc-c4db-4233-de4b-9a4d59a9288d",
        "colab": {
          "base_uri": "https://localhost:8080/"
        }
      },
      "source": [
        "print(model_3.score(X_train_FE, y_train))\n",
        "print(roc_auc_score(y_train, model_3.predict_proba(X_train_FE)[:,1]))"
      ],
      "execution_count": 62,
      "outputs": [
        {
          "output_type": "stream",
          "text": [
            "0.9218625\n",
            "0.8910807326950416\n"
          ],
          "name": "stdout"
        }
      ]
    },
    {
      "cell_type": "code",
      "metadata": {
        "id": "cJjkrgSIh6do",
        "outputId": "56b49ae5-fd2a-4871-9095-d41534e26790"
      },
      "source": [
        "print(model_3.score(X_val_FE, y_val))\n",
        "print(roc_auc_score(y_val, model_3.predict_proba(X_val_FE)[:,1]))"
      ],
      "execution_count": null,
      "outputs": [
        {
          "output_type": "stream",
          "text": [
            "0.9221\n",
            "0.8927208962331821\n"
          ],
          "name": "stdout"
        }
      ]
    },
    {
      "cell_type": "code",
      "metadata": {
        "id": "iMI7GlBfh6do",
        "outputId": "07d243da-7361-47a3-af0c-eeff08cc29bf"
      },
      "source": [
        "# Coeficientes ordenados en función de su de mayor importancia\n",
        "np.argsort(np.abs(model_3.coef_))[0][::-1]"
      ],
      "execution_count": null,
      "outputs": [
        {
          "output_type": "execute_result",
          "data": {
            "text/plain": [
              "array([139,  81,   6,  53,  12,  21,  76, 174, 110,  34, 146,  26, 169,\n",
              "        99, 165, 281,  22, 166, 190,  78,  33,  40,  13, 170, 149,  80,\n",
              "       148, 184,  94, 109, 133, 192,  92, 122, 115,  67, 121, 198,   0,\n",
              "         1, 173, 179,   2, 212,  18, 118, 108, 253, 398, 107, 191, 172,\n",
              "       177,  44, 154, 310, 164,  35, 197, 226, 188,  36, 339, 299,  75,\n",
              "       147, 244,   9, 280,  86,  87, 366,  95,  89,  48, 390, 127,  91,\n",
              "       222, 309,  71, 346, 155, 202,   5, 323, 374, 379,  56, 145, 106,\n",
              "       162, 123, 206, 221,  32, 186, 141, 200, 150, 348, 151,  31, 365,\n",
              "       199,  49, 130, 240,  23, 278, 167, 157,  24, 333,  90, 276,  93,\n",
              "       111, 119, 354, 137, 364, 195, 286, 363, 128, 112, 180, 380,  52,\n",
              "       104, 114,  58, 131,  70, 355, 116, 125, 135, 295, 370, 233, 391,\n",
              "       292, 201,  43, 275, 175, 196, 293, 357, 388, 294,  85, 163, 213,\n",
              "       347,  82, 308, 142, 132,  28, 105,  11, 319, 234, 194, 291,  74,\n",
              "       205,  97,  77, 140, 315,  45, 322,  20, 369,  55, 267, 256, 287,\n",
              "       156,  66, 289, 251, 144,  51,  54, 306, 332,  83, 377, 397, 321,\n",
              "       138, 134, 384, 330, 243, 218, 335,  57, 362, 341,   8,  88, 232,\n",
              "       345, 102, 314, 113, 178, 193, 372, 159, 307, 325, 209, 250, 331,\n",
              "       235, 373, 395, 367, 236, 311, 249, 396, 143, 288, 258, 252, 269,\n",
              "       187,  62, 318,  59, 327, 271,  64,  15, 368, 171, 349,  72, 312,\n",
              "       260,  63, 120, 350, 334, 211, 101,  50, 371, 375, 328, 168, 393,\n",
              "       394, 268,   4, 352, 262, 338, 351,  65,  84, 344, 181, 176, 228,\n",
              "       386, 283, 272, 343, 216, 337, 387,  42, 152, 282, 215, 189, 182,\n",
              "         3, 270, 248,  37, 219,  25, 305,  68,  19, 353, 290, 129, 279,\n",
              "       381, 285,  61, 378, 302, 298, 297, 263, 336, 203, 266, 246, 223,\n",
              "       356, 277, 316, 239, 342, 241,  69, 208, 204,  29, 304, 392,  47,\n",
              "        96, 301, 225, 383, 399, 313, 255, 153, 259, 324, 326, 160, 265,\n",
              "       238, 245, 158, 261, 224,  16, 136,  39, 126,  41,  27, 376, 329,\n",
              "        73,  60, 242, 317, 227, 124,  46,  79, 360,  14, 183, 257,  98,\n",
              "       229, 303, 237, 296, 264, 274, 103, 273, 359, 320, 210, 361, 300,\n",
              "       185, 389, 385, 247, 214, 284, 161, 217, 358, 207, 100, 340, 220,\n",
              "        38, 382, 230,  17, 231,   7,  10, 117, 254,  30])"
            ]
          },
          "metadata": {
            "tags": []
          },
          "execution_count": 218
        }
      ]
    },
    {
      "cell_type": "markdown",
      "metadata": {
        "id": "o57oPmy3h6dp"
      },
      "source": [
        "# Independecia"
      ]
    },
    {
      "cell_type": "code",
      "metadata": {
        "id": "BFZtgJn4h6dp",
        "outputId": "13f6cbc3-97b0-456a-e069-f01083a88be7"
      },
      "source": [
        "accs = []\n",
        "aucs = []\n",
        "val_predictions = np.zeros((len(X_val_normalized), 200))\n",
        "train_predictions = np.zeros((len(X_train_normalized), 200))\n",
        "for i in tqdm.tqdm(range(200)):\n",
        "    model_ind = LogisticRegression(solver='lbfgs')\n",
        "    X_one_train = X_train_normalized[:,i].reshape(-1,1)\n",
        "    # X_one_train = np.array([X_train_normalized[:,i], X_train_normalized[:,i]**2]).T\n",
        "    model_ind.fit(X_one_train, y_train)\n",
        "    X_one_val = X_val_normalized[:,i].reshape(-1,1)\n",
        "    # X_one_val = np.array([X_val_normalized[:,i], X_val_normalized[:,i]**2]).T\n",
        "    train_predictions[:, i] = model_ind.predict_proba(X_one_train)[:,1]\n",
        "    val_predictions[:, i] = model_ind.predict_proba(X_one_val)[:,1]\n",
        "    acc = model_ind.score(X_one_val, y_val)\n",
        "    auc = roc_auc_score(y_val, val_predictions[:, i])\n",
        "    accs.append(acc)\n",
        "    aucs.append(auc)"
      ],
      "execution_count": null,
      "outputs": [
        {
          "output_type": "stream",
          "text": [
            "100%|██████████| 200/200 [00:20<00:00,  8.22it/s]\n"
          ],
          "name": "stderr"
        }
      ]
    },
    {
      "cell_type": "code",
      "metadata": {
        "id": "vuxGsWgfh6dq",
        "outputId": "a39eebfb-7cb7-44cb-f13a-b23fbf79b292"
      },
      "source": [
        "roc_auc_score(y_train, train_predictions.sum(axis=1)) "
      ],
      "execution_count": null,
      "outputs": [
        {
          "output_type": "execute_result",
          "data": {
            "text/plain": [
              "0.8692585548756987"
            ]
          },
          "metadata": {
            "tags": []
          },
          "execution_count": 262
        }
      ]
    },
    {
      "cell_type": "code",
      "metadata": {
        "id": "06V31es6h6dq",
        "outputId": "44a17645-23d1-4645-9051-ac2bb6b46e38"
      },
      "source": [
        "roc_auc_score(y_val, val_predictions.sum(axis=1)) \n",
        "# 0.8729094090424484"
      ],
      "execution_count": null,
      "outputs": [
        {
          "output_type": "execute_result",
          "data": {
            "text/plain": [
              "0.8729094090424484"
            ]
          },
          "metadata": {
            "tags": []
          },
          "execution_count": 256
        }
      ]
    },
    {
      "cell_type": "code",
      "metadata": {
        "id": "YWtRD-Jqh6dq"
      },
      "source": [
        ""
      ],
      "execution_count": null,
      "outputs": []
    }
  ]
}
