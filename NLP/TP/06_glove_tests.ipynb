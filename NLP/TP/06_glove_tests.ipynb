{
  "nbformat": 4,
  "nbformat_minor": 0,
  "metadata": {
    "colab": {
      "name": "06-glove_tests.ipynb",
      "provenance": [],
      "include_colab_link": true
    },
    "kernelspec": {
      "name": "python3",
      "display_name": "Python 3"
    }
  },
  "cells": [
    {
      "cell_type": "markdown",
      "metadata": {
        "id": "view-in-github",
        "colab_type": "text"
      },
      "source": [
        "<a href=\"https://colab.research.google.com/github/LCaravaggio/DeepLearning_ITBA/blob/main/NLP/TP/06_glove_tests.ipynb\" target=\"_parent\"><img src=\"https://colab.research.google.com/assets/colab-badge.svg\" alt=\"Open In Colab\"/></a>"
      ]
    },
    {
      "cell_type": "code",
      "metadata": {
        "id": "v-mvGMujSz8W",
        "colab": {
          "base_uri": "https://localhost:8080/"
        },
        "outputId": "3ca5f902-257b-4e0a-bec3-6a40d98ccc09"
      },
      "source": [
        "from google.colab import drive\n",
        "drive.mount('/content/drive')"
      ],
      "execution_count": 1,
      "outputs": [
        {
          "output_type": "stream",
          "name": "stdout",
          "text": [
            "Mounted at /content/drive\n"
          ]
        }
      ]
    },
    {
      "cell_type": "markdown",
      "metadata": {
        "id": "O-pmzBsoTA92"
      },
      "source": [
        "Agregar este archivo a la carpeta de google drive clickeando en el link y clickeando el '+' arriba a la derecha\n",
        "\n",
        "https://drive.google.com/open?id=1jJ20oNZIysi-V-iORAE0eEZq4LhuWxUW"
      ]
    },
    {
      "cell_type": "code",
      "metadata": {
        "id": "kfTcbRdGVRj4"
      },
      "source": [
        "import codecs\n",
        "import numpy as np"
      ],
      "execution_count": 2,
      "outputs": []
    },
    {
      "cell_type": "code",
      "metadata": {
        "id": "JUUN3Z3BRO5_"
      },
      "source": [
        "# ! wget http://nlp.stanford.edu/data/glove.6B.zip"
      ],
      "execution_count": null,
      "outputs": []
    },
    {
      "cell_type": "code",
      "metadata": {
        "id": "2aoTi2n7RQtS"
      },
      "source": [
        "# ! unzip glove.6B.zip"
      ],
      "execution_count": null,
      "outputs": []
    },
    {
      "cell_type": "code",
      "metadata": {
        "id": "AsO8d8w6TxBh"
      },
      "source": [
        "def load_embeddings(file, embed_dim=100):\n",
        "  #load embeddings\n",
        "\n",
        "  print('loading word embeddings...')\n",
        "  embeddings_index = {}\n",
        "  f = codecs.open('/content/drive/MyDrive/glove.6B.100d.txt', encoding='utf-8')\n",
        "  for line in f:\n",
        "      values = line.rstrip().rsplit(' ')\n",
        "      word = values[0]\n",
        "      coefs = np.asarray(values[1:], dtype='float32')\n",
        "      embeddings_index[word] = coefs\n",
        "  f.close()\n",
        "  print('found %s word vectors' % len(embeddings_index))\n",
        "  return embeddings_index"
      ],
      "execution_count": 3,
      "outputs": []
    },
    {
      "cell_type": "code",
      "metadata": {
        "id": "iG3clQ-EUPV5",
        "colab": {
          "base_uri": "https://localhost:8080/"
        },
        "outputId": "435b2b3f-de59-47be-9e8f-2086b5dcb704"
      },
      "source": [
        "# embeddings_index = load_embeddings(EMBEDDING_DIR+'glove.6B.300d.txt', embed_dim=300)\n",
        "embeddings_index = load_embeddings('/content/drive/MyDrive/glove.6B.100d.txt')"
      ],
      "execution_count": 5,
      "outputs": [
        {
          "output_type": "stream",
          "name": "stdout",
          "text": [
            "loading word embeddings...\n",
            "found 400000 word vectors\n"
          ]
        }
      ]
    },
    {
      "cell_type": "code",
      "metadata": {
        "id": "Mk9GpdAgWhvl"
      },
      "source": [
        "# Armar matriz de embedigs de 400000x100\n",
        "matrix_word_vectors = np.array(list(embeddings_index.values()))\n",
        "# Aramr lista con vocabilario\n",
        "vocab_list = np.array(list(embeddings_index.keys()))"
      ],
      "execution_count": 8,
      "outputs": []
    },
    {
      "cell_type": "code",
      "metadata": {
        "id": "cHpq6u4wj_mf",
        "colab": {
          "base_uri": "https://localhost:8080/"
        },
        "outputId": "d2bd7a55-2546-4f0c-99dc-60a354400861"
      },
      "source": [
        "matrix_word_vectors.shape"
      ],
      "execution_count": 9,
      "outputs": [
        {
          "output_type": "execute_result",
          "data": {
            "text/plain": [
              "(400000, 100)"
            ]
          },
          "metadata": {},
          "execution_count": 9
        }
      ]
    },
    {
      "cell_type": "code",
      "metadata": {
        "id": "rXoyk7t7XHIb"
      },
      "source": [
        "from sklearn.neighbors import NearestNeighbors"
      ],
      "execution_count": 10,
      "outputs": []
    },
    {
      "cell_type": "markdown",
      "metadata": {
        "id": "VchnyUJYkYUB"
      },
      "source": [
        "# Entrenar un modelo de Nearest neighbours con los 20 primeros y distancia coseno"
      ]
    },
    {
      "cell_type": "code",
      "metadata": {
        "id": "8TLQNKXtX06m"
      },
      "source": [
        "nearest = NearestNeighbors(n_neighbors=20, metric='cosine')"
      ],
      "execution_count": 11,
      "outputs": []
    },
    {
      "cell_type": "code",
      "metadata": {
        "id": "9WvK0UfeX5GP",
        "colab": {
          "base_uri": "https://localhost:8080/"
        },
        "outputId": "1dfdc740-acc1-444b-9212-b4f80f16afc2"
      },
      "source": [
        "# Entrenar modelo\n",
        "nearest.fit(matrix_word_vectors)"
      ],
      "execution_count": 12,
      "outputs": [
        {
          "output_type": "execute_result",
          "data": {
            "text/plain": [
              "NearestNeighbors(metric='cosine', n_neighbors=20)"
            ]
          },
          "metadata": {},
          "execution_count": 12
        }
      ]
    },
    {
      "cell_type": "code",
      "metadata": {
        "id": "oOQoMzyMjWC0"
      },
      "source": [
        "def get_analogy(word1, word2, word3, embeddings_index=embeddings_index):\n",
        "  # word1 es a word2 como word3 es a word4\n",
        "  word4 = embeddings_index[word2] - embeddings_index[word1] + embeddings_index[word3] \n",
        "  return word4"
      ],
      "execution_count": 17,
      "outputs": []
    },
    {
      "cell_type": "code",
      "metadata": {
        "id": "kQR4OqwrYLVn"
      },
      "source": [
        "def get_nearests_words(vector, nearest=nearest):\n",
        "  # Dado un vector, tiene que devolver la lista de los 20 mas cercanos\n",
        "  words_list = []\n",
        "  distances, nearest_indexes = nearest.kneighbors(vector.reshape(1, -1))\n",
        "  \n",
        "  for idx in nearest_indexes[0]:\n",
        "    words_list.append(vocab_list[idx])\n",
        "  return words_list "
      ],
      "execution_count": 14,
      "outputs": []
    },
    {
      "cell_type": "code",
      "metadata": {
        "id": "deLwGh_zkFbo"
      },
      "source": [
        "# Probar las siguientes analogías\n",
        "#\n",
        "# woman -> man, queen -> ?\n",
        "# england -> london, france-> ?\n",
        "# woman -> women, man -> ?\n",
        "# messi -> soccer, federer -> ?\n",
        "# switzerland -> alps, argentina ->\n",
        "\n",
        "analogy_vector = get_analogy('england', 'london', 'france')"
      ],
      "execution_count": 20,
      "outputs": []
    },
    {
      "cell_type": "code",
      "source": [
        "analogy_vector"
      ],
      "metadata": {
        "id": "yLeMwPbcL0ZE",
        "outputId": "c514cc54-dbcc-4fca-9015-34e457249769",
        "colab": {
          "base_uri": "https://localhost:8080/"
        }
      },
      "execution_count": 21,
      "outputs": [
        {
          "output_type": "execute_result",
          "data": {
            "text/plain": [
              "array([ 1.1343321 , -0.537176  , -0.47918996,  1.1064501 ,  1.60882   ,\n",
              "       -0.88728   , -0.29966304,  0.65577996,  1.0841546 ,  0.52755   ,\n",
              "        0.08417211,  0.17623201, -0.24404001,  0.60032004, -0.94842   ,\n",
              "        0.6786555 , -0.599765  , -1.360628  , -0.48759994, -0.93453   ,\n",
              "        0.61581   , -0.12478006,  0.04714003, -0.68354005,  1.28919   ,\n",
              "       -1.48541   ,  0.36576003, -0.66876   ,  1.382918  , -0.20389998,\n",
              "       -0.76826996, -0.81161   , -0.39170998, -0.24032545,  0.03382999,\n",
              "        1.761802  ,  1.618391  ,  0.14480999, -0.549     , -0.13945   ,\n",
              "        0.04356003, -0.76247   , -0.72239   , -0.05572999,  0.28969002,\n",
              "        0.22275001, -0.90976   , -0.372613  ,  0.29368004, -0.47819   ,\n",
              "        0.34187   ,  0.89163196,  0.31196207,  1.45491   , -2.0659301 ,\n",
              "       -2.6932    ,  0.10069398,  0.767375  ,  1.41179   , -0.061993  ,\n",
              "        0.63731   , -0.11496502, -0.638608  , -0.92399895, -0.01384199,\n",
              "        0.00521001, -1.1867701 ,  0.47264   ,  0.74248403,  0.574384  ,\n",
              "       -0.68129   , -0.99316996, -1.45666   , -0.07494001, -0.05647999,\n",
              "       -0.68703896,  1.66309   , -0.18468   , -1.59113   , -0.29106098,\n",
              "        0.81917995, -0.260181  ,  0.33505   ,  0.60776997, -1.3413699 ,\n",
              "       -0.80181   , -0.07027   ,  0.755     , -0.41310102, -0.36912   ,\n",
              "        0.18665001, -0.7359201 ,  0.9182    ,  0.56327   , -0.77154005,\n",
              "        1.4960301 , -0.383195  , -0.87044   ,  0.16463001, -0.028804  ],\n",
              "      dtype=float32)"
            ]
          },
          "metadata": {},
          "execution_count": 21
        }
      ]
    },
    {
      "cell_type": "code",
      "metadata": {
        "id": "FgWBU9zJlIPT",
        "colab": {
          "base_uri": "https://localhost:8080/"
        },
        "outputId": "6fd07d26-4611-47f5-b5da-7452c70008c0"
      },
      "source": [
        "# Probar función get_nearests_words\n",
        "get_nearests_words(analogy_vector)"
      ],
      "execution_count": 22,
      "outputs": [
        {
          "output_type": "execute_result",
          "data": {
            "text/plain": [
              "['paris',\n",
              " 'france',\n",
              " 'brussels',\n",
              " 'london',\n",
              " 'french',\n",
              " 'prohertrib',\n",
              " 'britain',\n",
              " 'berlin',\n",
              " 'amsterdam',\n",
              " 'vienna',\n",
              " 'moscow',\n",
              " 'gaulle',\n",
              " 'europe',\n",
              " 'belgium',\n",
              " 'chirac',\n",
              " 'frankfurt',\n",
              " 'european',\n",
              " 'luxembourg',\n",
              " 'strasbourg',\n",
              " 'sarkozy']"
            ]
          },
          "metadata": {},
          "execution_count": 22
        }
      ]
    },
    {
      "cell_type": "code",
      "metadata": {
        "id": "DILrgwaRYVLu"
      },
      "source": [
        "animals = ['dog',\n",
        " 'cat',\n",
        " 'dogs',\n",
        " 'pet',\n",
        " 'puppy',\n",
        " 'horse',\n",
        " 'animal',\n",
        " 'pig',\n",
        " 'boy',\n",
        " 'cats',\n",
        " 'rabbit',\n",
        " 'goat',\n",
        " 'sled',\n",
        " 'monkey',\n",
        " 'cow',\n",
        " 'rat',\n",
        " 'breed',\n",
        " 'mad',\n",
        " 'hound',\n",
        " 'bird']"
      ],
      "execution_count": 23,
      "outputs": []
    },
    {
      "cell_type": "code",
      "metadata": {
        "id": "oYFVs9ipnbbF"
      },
      "source": [
        "transport = ['car',\n",
        " 'vehicle',\n",
        " 'truck',\n",
        " 'cars',\n",
        " 'driver',\n",
        " 'driving',\n",
        " 'motorcycle',\n",
        " 'vehicles',\n",
        " 'parked',\n",
        " 'bus',\n",
        " 'taxi',\n",
        " 'suv',\n",
        " 'pickup',\n",
        " 'jeep',\n",
        " 'mercedes',\n",
        " 'cab',\n",
        " 'bicycle',\n",
        " 'drivers',\n",
        " 'automobile',\n",
        " 'train']"
      ],
      "execution_count": 24,
      "outputs": []
    },
    {
      "cell_type": "code",
      "metadata": {
        "id": "yg9C7itHnhte"
      },
      "source": [
        "countries = ['argentina',\n",
        " 'england',\n",
        " 'australia',\n",
        " 'spain',\n",
        " 'brazil',\n",
        " 'portugal',\n",
        " 'zealand',\n",
        " 'scotland',\n",
        " 'match',\n",
        " 'africa',\n",
        " 'wales',\n",
        " 'ireland',\n",
        " 'italy',\n",
        " 'matches',\n",
        " 'france',\n",
        " 'indies',\n",
        " 'uruguay',\n",
        " 'britain',\n",
        " 'netherlands',\n",
        " 'united']"
      ],
      "execution_count": 25,
      "outputs": []
    },
    {
      "cell_type": "code",
      "metadata": {
        "id": "7GWSToprnOxe"
      },
      "source": [
        "professions = ['engineer',\n",
        " 'scientist',\n",
        " 'economist',\n",
        " 'professor',\n",
        " 'consultant',\n",
        " 'director',\n",
        " 'dr.',\n",
        " 'doctor',\n",
        " 'researcher',\n",
        " 'expert',\n",
        " 'physician',\n",
        " 'officer',\n",
        " 'surgeon',\n",
        " 'chief',\n",
        " 'assistant',\n",
        " 'specialist',\n",
        " 'associate',\n",
        " 'author',\n",
        " 'worked',\n",
        " 'psychologist']"
      ],
      "execution_count": 26,
      "outputs": []
    },
    {
      "cell_type": "code",
      "metadata": {
        "id": "q7yBjxNNn07R"
      },
      "source": [
        "all_words = animals + transport + countries + professions"
      ],
      "execution_count": 27,
      "outputs": []
    },
    {
      "cell_type": "code",
      "metadata": {
        "id": "LMhEWApEoV_h"
      },
      "source": [
        "vectors_subset = np.array([embeddings_index[word] for word in all_words])"
      ],
      "execution_count": 28,
      "outputs": []
    },
    {
      "cell_type": "code",
      "metadata": {
        "id": "7rOSh6UOoLPX"
      },
      "source": [
        "from sklearn.manifold import TSNE"
      ],
      "execution_count": 29,
      "outputs": []
    },
    {
      "cell_type": "code",
      "metadata": {
        "id": "GhLy6ekooxkK"
      },
      "source": [
        "tsne = TSNE(2, verbose=1)"
      ],
      "execution_count": 30,
      "outputs": []
    },
    {
      "cell_type": "code",
      "metadata": {
        "id": "6-SH_MWXo0MA",
        "colab": {
          "base_uri": "https://localhost:8080/"
        },
        "outputId": "52750ab7-f1fb-4013-bcb8-cd27e5aa3315"
      },
      "source": [
        "%time embed_2d_tsne = tsne.fit_transform(vectors_subset)"
      ],
      "execution_count": 31,
      "outputs": [
        {
          "output_type": "stream",
          "name": "stderr",
          "text": [
            "/usr/local/lib/python3.7/dist-packages/sklearn/manifold/_t_sne.py:783: FutureWarning: The default initialization in TSNE will change from 'random' to 'pca' in 1.2.\n",
            "  FutureWarning,\n",
            "/usr/local/lib/python3.7/dist-packages/sklearn/manifold/_t_sne.py:793: FutureWarning: The default learning rate in TSNE will change from 200.0 to 'auto' in 1.2.\n",
            "  FutureWarning,\n"
          ]
        },
        {
          "output_type": "stream",
          "name": "stdout",
          "text": [
            "[t-SNE] Computing 79 nearest neighbors...\n",
            "[t-SNE] Indexed 80 samples in 0.000s...\n",
            "[t-SNE] Computed neighbors for 80 samples in 0.016s...\n",
            "[t-SNE] Computed conditional probabilities for sample 80 / 80\n",
            "[t-SNE] Mean sigma: 3.172693\n",
            "[t-SNE] KL divergence after 250 iterations with early exaggeration: 57.447983\n",
            "[t-SNE] KL divergence after 1000 iterations: 0.235835\n",
            "CPU times: user 1.07 s, sys: 57.5 ms, total: 1.13 s\n",
            "Wall time: 741 ms\n"
          ]
        }
      ]
    },
    {
      "cell_type": "code",
      "metadata": {
        "id": "refMfFQqo3-3"
      },
      "source": [
        "from matplotlib import pyplot as plt"
      ],
      "execution_count": 32,
      "outputs": []
    },
    {
      "cell_type": "code",
      "metadata": {
        "id": "tpYyqyQTo-RU",
        "colab": {
          "base_uri": "https://localhost:8080/",
          "height": 265
        },
        "outputId": "d325c81c-0611-4eb4-a6bd-d10b175c6549"
      },
      "source": [
        "for i in range(4):\n",
        "  plt.scatter(embed_2d_tsne[i*20:(i+1)*20,0], embed_2d_tsne[i*20:(i+1)*20,1], c=f'C{i}')"
      ],
      "execution_count": 33,
      "outputs": [
        {
          "output_type": "display_data",
          "data": {
            "image/png": "[encoded data removed]",
            "text/plain": [
              "<Figure size 432x288 with 1 Axes>"
            ]
          },
          "metadata": {
            "needs_background": "light"
          }
        }
      ]
    }
  ]
}