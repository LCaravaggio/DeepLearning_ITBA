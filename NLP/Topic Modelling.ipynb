{
  "nbformat": 4,
  "nbformat_minor": 0,
  "metadata": {
    "kernelspec": {
      "display_name": "Python [conda env:NLP]",
      "language": "python",
      "name": "conda-env-NLP-py"
    },
    "language_info": {
      "codemirror_mode": {
        "name": "ipython",
        "version": 3
      },
      "file_extension": ".py",
      "mimetype": "text/x-python",
      "name": "python",
      "nbconvert_exporter": "python",
      "pygments_lexer": "ipython3",
      "version": "3.7.3"
    },
    "colab": {
      "name": "Topic Modelling.ipynb",
      "provenance": []
    }
  },
  "cells": [
    {
      "cell_type": "markdown",
      "metadata": {
        "id": "8MdFzoOwPwxX"
      },
      "source": [
        "https://medium.com/mlreview/topic-modeling-with-scikit-learn-e80d33668730"
      ]
    },
    {
      "cell_type": "markdown",
      "metadata": {
        "id": "eoEwW9tvPwxb"
      },
      "source": [
        "# NNMF\n",
        "\n",
        "<img src = \"600px-NMF.png\">\n",
        "<img src = \"NMF - cost.png\">\n",
        "\n"
      ]
    },
    {
      "cell_type": "markdown",
      "metadata": {
        "id": "OggaBNMmPwxe"
      },
      "source": [
        "# Latent Dírichlet Allocation\n",
        "\n",
        "<img src=\"https://github.com/deeplearning-itba/NLP-Tecnicas-Tradicionales/blob/master/LDA%20smoothed%20-%20plate.png?raw=1\">"
      ]
    },
    {
      "cell_type": "code",
      "metadata": {
        "id": "nMMdcKMAPwxf",
        "outputId": "3aac455d-8ca6-4cc7-e822-0943b31bcb44",
        "colab": {
          "base_uri": "https://localhost:8080/"
        }
      },
      "source": [
        "from sklearn.feature_extraction.text import TfidfVectorizer, CountVectorizer\n",
        "from sklearn.datasets import fetch_20newsgroups\n",
        "from sklearn.decomposition import NMF, LatentDirichletAllocation\n",
        "\n",
        "def display_topics(model, feature_names, no_top_words):\n",
        "    for topic_idx, topic in enumerate(model.components_):\n",
        "        print(\"Topic %d:\" % (topic_idx))\n",
        "        print(\" \".join([feature_names[i]\n",
        "                        for i in topic.argsort()[:-no_top_words - 1:-1]]))\n",
        "\n",
        "dataset = fetch_20newsgroups(subset=\"train\", remove=('headers', 'footers', 'quotes'))\n",
        "documents = dataset.data\n",
        "\n",
        "no_features = 1000\n",
        "\n",
        "# NMF is able to use tf-idf\n",
        "tfidf_vectorizer = TfidfVectorizer(max_df=0.95, min_df=2, max_features=no_features, stop_words='english')\n",
        "tfidf = tfidf_vectorizer.fit_transform(documents)\n",
        "tfidf_feature_names = tfidf_vectorizer.get_feature_names()\n",
        "\n",
        "# LDA can only use raw term counts for LDA because it is a probabilistic graphical model\n",
        "tf_vectorizer = CountVectorizer(max_df=0.95, min_df=2, max_features=no_features, stop_words='english')\n",
        "tf = tf_vectorizer.fit_transform(documents)\n",
        "tf_feature_names = tf_vectorizer.get_feature_names()\n",
        "\n",
        "no_topics = 20\n",
        "\n",
        "# Run NMF\n",
        "nmf = NMF(n_components=no_topics, random_state=1, alpha=.1, l1_ratio=.5, init='nndsvd').fit(tfidf)\n",
        "\n",
        "# Run LDA\n",
        "lda = LatentDirichletAllocation(n_components=no_topics, max_iter=5, learning_method='online', learning_offset=50.,random_state=0).fit(tf)\n",
        "\n",
        "no_top_words = 20\n",
        "display_topics(nmf, tfidf_feature_names, no_top_words)\n",
        "display_topics(lda, tf_feature_names, no_top_words)"
      ],
      "execution_count": 1,
      "outputs": [
        {
          "output_type": "stream",
          "name": "stderr",
          "text": [
            "/usr/local/lib/python3.7/dist-packages/sklearn/utils/deprecation.py:87: FutureWarning: Function get_feature_names is deprecated; get_feature_names is deprecated in 1.0 and will be removed in 1.2. Please use get_feature_names_out instead.\n",
            "  warnings.warn(msg, category=FutureWarning)\n",
            "/usr/local/lib/python3.7/dist-packages/sklearn/utils/deprecation.py:87: FutureWarning: Function get_feature_names is deprecated; get_feature_names is deprecated in 1.0 and will be removed in 1.2. Please use get_feature_names_out instead.\n",
            "  warnings.warn(msg, category=FutureWarning)\n",
            "/usr/local/lib/python3.7/dist-packages/sklearn/decomposition/_nmf.py:1425: FutureWarning: `alpha` was deprecated in version 1.0 and will be removed in 1.2. Use `alpha_W` and `alpha_H` instead\n",
            "  FutureWarning,\n"
          ]
        },
        {
          "output_type": "stream",
          "name": "stdout",
          "text": [
            "Topic 0:\n",
            "people time right did good said say make way government point really years going course long believe state fact world\n",
            "Topic 1:\n",
            "window problem using server application screen display motif manager running widget program problems set error mouse work code fine run\n",
            "Topic 2:\n",
            "god jesus bible christ faith believe christian christians sin church lord hell truth life man love belief say christianity father\n",
            "Topic 3:\n",
            "game team year games season players play hockey win league player teams nhl good runs best better hit division points\n",
            "Topic 4:\n",
            "new 00 sale 10 price offer shipping condition 20 15 50 interested 12 asking 30 space 11 25 used sell\n",
            "Topic 5:\n",
            "thanks mail advance hi looking info help information address appreciated email post know anybody send interested appreciate need reply tell\n",
            "Topic 6:\n",
            "windows file files dos program version ftp ms directory running pc run using os software drivers disk graphics win programs\n",
            "Topic 7:\n",
            "edu soon cs university ftp internet article email pub david send mit au mail subject apr mac directory 1993 export\n",
            "Topic 8:\n",
            "key chip clipper encryption keys escrow government public algorithm nsa security bit phone secure chips des secret data number privacy\n",
            "Topic 9:\n",
            "drive scsi drives hard disk ide floppy controller cd mac internal tape rom cable power computer mb apple switch dos\n",
            "Topic 10:\n",
            "just ll thought tell oh little fine work wanted mean maybe sure bit guess bike way doesn got say bought\n",
            "Topic 11:\n",
            "does know anybody mean work say doesn help exist program info ftp board exactly appreciated getting actually chips message company\n",
            "Topic 12:\n",
            "card video monitor cards drivers bus vga driver color memory ram mode bit pc board graphics controller speed 16 modem\n",
            "Topic 13:\n",
            "like sounds looks look bike sound lot things really thing make doesn doing sure new hear looked nice going idea\n",
            "Topic 14:\n",
            "don know want let need doesn little sure sorry things really ll maybe oh try mean tell look work pretty\n",
            "Topic 15:\n",
            "car cars engine speed good bike driver road insurance fast price buy bought looks drivers power gas radio went year\n",
            "Topic 16:\n",
            "ve got seen heard tried good recently times try couple thing problems help maybe months great years bike used pretty\n",
            "Topic 17:\n",
            "use used using work available want software need image data way mac machine set uses help port good device program\n",
            "Topic 18:\n",
            "think don lot try makes really pretty wasn bit david agree wrong original win better moral come wait important thinking\n",
            "Topic 19:\n",
            "com list dave internet article sun hp email ibm phone reply address away jim mail said paul apr ca mouse\n",
            "Topic 0:\n",
            "00 black 50 white cover new 20 dos picture appears 15 supply ed price red son 30 man st light\n",
            "Topic 1:\n",
            "windows card scsi use bit mac memory dos pc video drive color does using disk screen bus monitor ms mode\n",
            "Topic 2:\n",
            "said gun people children health guns women medical police weapons control says home went killed firearms house city saw day\n",
            "Topic 3:\n",
            "new research science center national 1993 april use data states high united american information power service washington scientific used university\n",
            "Topic 4:\n",
            "thanks like help use need know does looking work used want hi advance appreciated keyboard mail good pin information info\n",
            "Topic 5:\n",
            "edu file information image ftp files program version com cs graphics pub available info email internet mit use images comp\n",
            "Topic 6:\n",
            "key chip encryption keys clipper use security bit number des chips public algorithm used secure government escrow phone data nsa\n",
            "Topic 7:\n",
            "law state book rights laws books legal court federal crime media case person paul citizens theory fbi individual act public\n",
            "Topic 8:\n",
            "god jesus bible believe christian does life church faith christ christians religion people man say true truth word love belief\n",
            "Topic 9:\n",
            "just like good ve car time got don years know year ll didn think right new old did going really\n",
            "Topic 10:\n",
            "10 25 11 12 16 14 17 15 13 20 18 24 27 19 21 23 55 22 30 cx\n",
            "Topic 11:\n",
            "people don think just know say like time want make did way things does really point going believe right good\n",
            "Topic 12:\n",
            "line section article read entry use rules wire ground subject right current does define title code return set given example\n",
            "Topic 13:\n",
            "ax max g9v b8f a86 pl 1d9 145 34u 1t bhj 3t 0t 75u giz 2di wm 2tm 7ey 6ei\n",
            "Topic 14:\n",
            "space president stephanopoulos government nasa mr launch clinton administration tax program congress jobs earth orbit technology shuttle privacy satellite private\n",
            "Topic 15:\n",
            "game team drive games hockey season win play players league year drives nhl teams player disk hard runs file best\n",
            "Topic 16:\n",
            "problem window output using db program use time problems question answer widget error application questions value open build function input\n",
            "Topic 17:\n",
            "mail com server software available list send motif ca data sun sale address offer package includes ac fax user edu\n",
            "Topic 18:\n",
            "israel armenian war people armenians jews turkish government israeli turkey greek military jewish world land turks armenia population russian history\n",
            "Topic 19:\n",
            "sound hear dr dod max published great sl end world 145 wm cost 04 ax like time right speed living\n"
          ]
        }
      ]
    },
    {
      "cell_type": "code",
      "metadata": {
        "id": "fEYJ5ZXdPwxi",
        "outputId": "7d17ec8a-6760-47e2-f826-47b191c29785",
        "colab": {
          "base_uri": "https://localhost:8080/"
        }
      },
      "source": [
        "TNG_topics_nmf = nmf.transform(tfidf)\n",
        "TNG_topics_lda = lda.transform(tf)"
      ],
      "execution_count": 2,
      "outputs": [
        {
          "output_type": "stream",
          "name": "stderr",
          "text": [
            "/usr/local/lib/python3.7/dist-packages/sklearn/decomposition/_nmf.py:1425: FutureWarning: `alpha` was deprecated in version 1.0 and will be removed in 1.2. Use `alpha_W` and `alpha_H` instead\n",
            "  FutureWarning,\n"
          ]
        }
      ]
    },
    {
      "cell_type": "code",
      "metadata": {
        "id": "65xZjVPDPwxj",
        "outputId": "5451e9e4-3bf3-4fba-f6d3-84db28d2eb37",
        "colab": {
          "base_uri": "https://localhost:8080/"
        }
      },
      "source": [
        "TNG_topics_nmf.argmax(axis=-1)"
      ],
      "execution_count": 3,
      "outputs": [
        {
          "output_type": "execute_result",
          "data": {
            "text/plain": [
              "array([15,  5,  5, ...,  1,  0,  4])"
            ]
          },
          "metadata": {},
          "execution_count": 3
        }
      ]
    },
    {
      "cell_type": "code",
      "metadata": {
        "id": "1xdJWBmnPwxj"
      },
      "source": [
        "count_docs=[]\n",
        "for i in range(20):\n",
        "    count_docs.append({label: 0 for label in dataset.target_names})"
      ],
      "execution_count": 4,
      "outputs": []
    },
    {
      "cell_type": "code",
      "metadata": {
        "id": "6ymDNxjsPwxk"
      },
      "source": [
        "for label,topic in zip(dataset.target,TNG_topics_nmf.argmax(axis=-1)):\n",
        "    count_docs[topic][dataset.target_names[label]] +=1"
      ],
      "execution_count": 5,
      "outputs": []
    },
    {
      "cell_type": "code",
      "metadata": {
        "id": "o_4-zR6-Pwxl",
        "outputId": "61c48dac-fb31-47c8-a464-12c4410f62c8",
        "colab": {
          "base_uri": "https://localhost:8080/"
        }
      },
      "source": [
        "count_docs"
      ],
      "execution_count": 6,
      "outputs": [
        {
          "output_type": "execute_result",
          "data": {
            "text/plain": [
              "[{'alt.atheism': 212,\n",
              "  'comp.graphics': 63,\n",
              "  'comp.os.ms-windows.misc': 57,\n",
              "  'comp.sys.ibm.pc.hardware': 37,\n",
              "  'comp.sys.mac.hardware': 56,\n",
              "  'comp.windows.x': 31,\n",
              "  'misc.forsale': 30,\n",
              "  'rec.autos': 122,\n",
              "  'rec.motorcycles': 183,\n",
              "  'rec.sport.baseball': 111,\n",
              "  'rec.sport.hockey': 68,\n",
              "  'sci.crypt': 117,\n",
              "  'sci.electronics': 109,\n",
              "  'sci.med': 252,\n",
              "  'sci.space': 209,\n",
              "  'soc.religion.christian': 183,\n",
              "  'talk.politics.guns': 325,\n",
              "  'talk.politics.mideast': 411,\n",
              "  'talk.politics.misc': 290,\n",
              "  'talk.religion.misc': 179},\n",
              " {'alt.atheism': 3,\n",
              "  'comp.graphics': 33,\n",
              "  'comp.os.ms-windows.misc': 40,\n",
              "  'comp.sys.ibm.pc.hardware': 26,\n",
              "  'comp.sys.mac.hardware': 41,\n",
              "  'comp.windows.x': 216,\n",
              "  'misc.forsale': 2,\n",
              "  'rec.autos': 18,\n",
              "  'rec.motorcycles': 6,\n",
              "  'rec.sport.baseball': 3,\n",
              "  'rec.sport.hockey': 4,\n",
              "  'sci.crypt': 4,\n",
              "  'sci.electronics': 13,\n",
              "  'sci.med': 12,\n",
              "  'sci.space': 16,\n",
              "  'soc.religion.christian': 3,\n",
              "  'talk.politics.guns': 4,\n",
              "  'talk.politics.mideast': 2,\n",
              "  'talk.politics.misc': 2,\n",
              "  'talk.religion.misc': 1},\n",
              " {'alt.atheism': 89,\n",
              "  'comp.graphics': 3,\n",
              "  'comp.os.ms-windows.misc': 1,\n",
              "  'comp.sys.ibm.pc.hardware': 1,\n",
              "  'comp.sys.mac.hardware': 1,\n",
              "  'comp.windows.x': 0,\n",
              "  'misc.forsale': 3,\n",
              "  'rec.autos': 4,\n",
              "  'rec.motorcycles': 7,\n",
              "  'rec.sport.baseball': 5,\n",
              "  'rec.sport.hockey': 3,\n",
              "  'sci.crypt': 0,\n",
              "  'sci.electronics': 1,\n",
              "  'sci.med': 1,\n",
              "  'sci.space': 4,\n",
              "  'soc.religion.christian': 294,\n",
              "  'talk.politics.guns': 3,\n",
              "  'talk.politics.mideast': 9,\n",
              "  'talk.politics.misc': 4,\n",
              "  'talk.religion.misc': 86},\n",
              " {'alt.atheism': 2,\n",
              "  'comp.graphics': 4,\n",
              "  'comp.os.ms-windows.misc': 2,\n",
              "  'comp.sys.ibm.pc.hardware': 1,\n",
              "  'comp.sys.mac.hardware': 3,\n",
              "  'comp.windows.x': 3,\n",
              "  'misc.forsale': 16,\n",
              "  'rec.autos': 4,\n",
              "  'rec.motorcycles': 12,\n",
              "  'rec.sport.baseball': 263,\n",
              "  'rec.sport.hockey': 333,\n",
              "  'sci.crypt': 3,\n",
              "  'sci.electronics': 4,\n",
              "  'sci.med': 2,\n",
              "  'sci.space': 10,\n",
              "  'soc.religion.christian': 1,\n",
              "  'talk.politics.guns': 4,\n",
              "  'talk.politics.mideast': 1,\n",
              "  'talk.politics.misc': 5,\n",
              "  'talk.religion.misc': 2},\n",
              " {'alt.atheism': 4,\n",
              "  'comp.graphics': 39,\n",
              "  'comp.os.ms-windows.misc': 17,\n",
              "  'comp.sys.ibm.pc.hardware': 28,\n",
              "  'comp.sys.mac.hardware': 42,\n",
              "  'comp.windows.x': 12,\n",
              "  'misc.forsale': 313,\n",
              "  'rec.autos': 30,\n",
              "  'rec.motorcycles': 47,\n",
              "  'rec.sport.baseball': 33,\n",
              "  'rec.sport.hockey': 46,\n",
              "  'sci.crypt': 6,\n",
              "  'sci.electronics': 62,\n",
              "  'sci.med': 33,\n",
              "  'sci.space': 104,\n",
              "  'soc.religion.christian': 10,\n",
              "  'talk.politics.guns': 18,\n",
              "  'talk.politics.mideast': 13,\n",
              "  'talk.politics.misc': 30,\n",
              "  'talk.religion.misc': 5},\n",
              " {'alt.atheism': 3,\n",
              "  'comp.graphics': 94,\n",
              "  'comp.os.ms-windows.misc': 34,\n",
              "  'comp.sys.ibm.pc.hardware': 54,\n",
              "  'comp.sys.mac.hardware': 61,\n",
              "  'comp.windows.x': 68,\n",
              "  'misc.forsale': 25,\n",
              "  'rec.autos': 24,\n",
              "  'rec.motorcycles': 35,\n",
              "  'rec.sport.baseball': 22,\n",
              "  'rec.sport.hockey': 13,\n",
              "  'sci.crypt': 10,\n",
              "  'sci.electronics': 45,\n",
              "  'sci.med': 29,\n",
              "  'sci.space': 28,\n",
              "  'soc.religion.christian': 15,\n",
              "  'talk.politics.guns': 5,\n",
              "  'talk.politics.mideast': 2,\n",
              "  'talk.politics.misc': 7,\n",
              "  'talk.religion.misc': 2},\n",
              " {'alt.atheism': 2,\n",
              "  'comp.graphics': 113,\n",
              "  'comp.os.ms-windows.misc': 241,\n",
              "  'comp.sys.ibm.pc.hardware': 41,\n",
              "  'comp.sys.mac.hardware': 10,\n",
              "  'comp.windows.x': 66,\n",
              "  'misc.forsale': 13,\n",
              "  'rec.autos': 2,\n",
              "  'rec.motorcycles': 3,\n",
              "  'rec.sport.baseball': 0,\n",
              "  'rec.sport.hockey': 0,\n",
              "  'sci.crypt': 12,\n",
              "  'sci.electronics': 6,\n",
              "  'sci.med': 1,\n",
              "  'sci.space': 6,\n",
              "  'soc.religion.christian': 0,\n",
              "  'talk.politics.guns': 2,\n",
              "  'talk.politics.mideast': 2,\n",
              "  'talk.politics.misc': 0,\n",
              "  'talk.religion.misc': 0},\n",
              " {'alt.atheism': 13,\n",
              "  'comp.graphics': 26,\n",
              "  'comp.os.ms-windows.misc': 26,\n",
              "  'comp.sys.ibm.pc.hardware': 18,\n",
              "  'comp.sys.mac.hardware': 16,\n",
              "  'comp.windows.x': 23,\n",
              "  'misc.forsale': 22,\n",
              "  'rec.autos': 10,\n",
              "  'rec.motorcycles': 19,\n",
              "  'rec.sport.baseball': 20,\n",
              "  'rec.sport.hockey': 20,\n",
              "  'sci.crypt': 16,\n",
              "  'sci.electronics': 33,\n",
              "  'sci.med': 77,\n",
              "  'sci.space': 23,\n",
              "  'soc.religion.christian': 6,\n",
              "  'talk.politics.guns': 16,\n",
              "  'talk.politics.mideast': 14,\n",
              "  'talk.politics.misc': 12,\n",
              "  'talk.religion.misc': 1},\n",
              " {'alt.atheism': 1,\n",
              "  'comp.graphics': 9,\n",
              "  'comp.os.ms-windows.misc': 12,\n",
              "  'comp.sys.ibm.pc.hardware': 16,\n",
              "  'comp.sys.mac.hardware': 13,\n",
              "  'comp.windows.x': 17,\n",
              "  'misc.forsale': 4,\n",
              "  'rec.autos': 7,\n",
              "  'rec.motorcycles': 2,\n",
              "  'rec.sport.baseball': 2,\n",
              "  'rec.sport.hockey': 3,\n",
              "  'sci.crypt': 300,\n",
              "  'sci.electronics': 21,\n",
              "  'sci.med': 1,\n",
              "  'sci.space': 6,\n",
              "  'soc.religion.christian': 0,\n",
              "  'talk.politics.guns': 5,\n",
              "  'talk.politics.mideast': 1,\n",
              "  'talk.politics.misc': 3,\n",
              "  'talk.religion.misc': 4},\n",
              " {'alt.atheism': 2,\n",
              "  'comp.graphics': 4,\n",
              "  'comp.os.ms-windows.misc': 12,\n",
              "  'comp.sys.ibm.pc.hardware': 135,\n",
              "  'comp.sys.mac.hardware': 94,\n",
              "  'comp.windows.x': 3,\n",
              "  'misc.forsale': 35,\n",
              "  'rec.autos': 24,\n",
              "  'rec.motorcycles': 18,\n",
              "  'rec.sport.baseball': 2,\n",
              "  'rec.sport.hockey': 0,\n",
              "  'sci.crypt': 2,\n",
              "  'sci.electronics': 15,\n",
              "  'sci.med': 0,\n",
              "  'sci.space': 1,\n",
              "  'soc.religion.christian': 1,\n",
              "  'talk.politics.guns': 0,\n",
              "  'talk.politics.mideast': 0,\n",
              "  'talk.politics.misc': 3,\n",
              "  'talk.religion.misc': 0},\n",
              " {'alt.atheism': 17,\n",
              "  'comp.graphics': 18,\n",
              "  'comp.os.ms-windows.misc': 13,\n",
              "  'comp.sys.ibm.pc.hardware': 11,\n",
              "  'comp.sys.mac.hardware': 16,\n",
              "  'comp.windows.x': 8,\n",
              "  'misc.forsale': 4,\n",
              "  'rec.autos': 20,\n",
              "  'rec.motorcycles': 40,\n",
              "  'rec.sport.baseball': 22,\n",
              "  'rec.sport.hockey': 19,\n",
              "  'sci.crypt': 12,\n",
              "  'sci.electronics': 21,\n",
              "  'sci.med': 18,\n",
              "  'sci.space': 22,\n",
              "  'soc.religion.christian': 10,\n",
              "  'talk.politics.guns': 23,\n",
              "  'talk.politics.mideast': 24,\n",
              "  'talk.politics.misc': 15,\n",
              "  'talk.religion.misc': 12},\n",
              " {'alt.atheism': 15,\n",
              "  'comp.graphics': 22,\n",
              "  'comp.os.ms-windows.misc': 10,\n",
              "  'comp.sys.ibm.pc.hardware': 15,\n",
              "  'comp.sys.mac.hardware': 26,\n",
              "  'comp.windows.x': 26,\n",
              "  'misc.forsale': 5,\n",
              "  'rec.autos': 16,\n",
              "  'rec.motorcycles': 10,\n",
              "  'rec.sport.baseball': 14,\n",
              "  'rec.sport.hockey': 9,\n",
              "  'sci.crypt': 12,\n",
              "  'sci.electronics': 29,\n",
              "  'sci.med': 30,\n",
              "  'sci.space': 19,\n",
              "  'soc.religion.christian': 13,\n",
              "  'talk.politics.guns': 7,\n",
              "  'talk.politics.mideast': 15,\n",
              "  'talk.politics.misc': 5,\n",
              "  'talk.religion.misc': 11},\n",
              " {'alt.atheism': 0,\n",
              "  'comp.graphics': 49,\n",
              "  'comp.os.ms-windows.misc': 57,\n",
              "  'comp.sys.ibm.pc.hardware': 130,\n",
              "  'comp.sys.mac.hardware': 84,\n",
              "  'comp.windows.x': 9,\n",
              "  'misc.forsale': 35,\n",
              "  'rec.autos': 1,\n",
              "  'rec.motorcycles': 7,\n",
              "  'rec.sport.baseball': 0,\n",
              "  'rec.sport.hockey': 1,\n",
              "  'sci.crypt': 4,\n",
              "  'sci.electronics': 20,\n",
              "  'sci.med': 0,\n",
              "  'sci.space': 1,\n",
              "  'soc.religion.christian': 0,\n",
              "  'talk.politics.guns': 4,\n",
              "  'talk.politics.mideast': 2,\n",
              "  'talk.politics.misc': 0,\n",
              "  'talk.religion.misc': 1},\n",
              " {'alt.atheism': 12,\n",
              "  'comp.graphics': 11,\n",
              "  'comp.os.ms-windows.misc': 8,\n",
              "  'comp.sys.ibm.pc.hardware': 12,\n",
              "  'comp.sys.mac.hardware': 10,\n",
              "  'comp.windows.x': 13,\n",
              "  'misc.forsale': 9,\n",
              "  'rec.autos': 24,\n",
              "  'rec.motorcycles': 45,\n",
              "  'rec.sport.baseball': 18,\n",
              "  'rec.sport.hockey': 15,\n",
              "  'sci.crypt': 15,\n",
              "  'sci.electronics': 29,\n",
              "  'sci.med': 18,\n",
              "  'sci.space': 38,\n",
              "  'soc.religion.christian': 16,\n",
              "  'talk.politics.guns': 14,\n",
              "  'talk.politics.mideast': 14,\n",
              "  'talk.politics.misc': 8,\n",
              "  'talk.religion.misc': 11},\n",
              " {'alt.atheism': 25,\n",
              "  'comp.graphics': 13,\n",
              "  'comp.os.ms-windows.misc': 4,\n",
              "  'comp.sys.ibm.pc.hardware': 7,\n",
              "  'comp.sys.mac.hardware': 14,\n",
              "  'comp.windows.x': 8,\n",
              "  'misc.forsale': 9,\n",
              "  'rec.autos': 15,\n",
              "  'rec.motorcycles': 25,\n",
              "  'rec.sport.baseball': 18,\n",
              "  'rec.sport.hockey': 20,\n",
              "  'sci.crypt': 13,\n",
              "  'sci.electronics': 28,\n",
              "  'sci.med': 43,\n",
              "  'sci.space': 17,\n",
              "  'soc.religion.christian': 11,\n",
              "  'talk.politics.guns': 21,\n",
              "  'talk.politics.mideast': 16,\n",
              "  'talk.politics.misc': 25,\n",
              "  'talk.religion.misc': 14},\n",
              " {'alt.atheism': 2,\n",
              "  'comp.graphics': 0,\n",
              "  'comp.os.ms-windows.misc': 0,\n",
              "  'comp.sys.ibm.pc.hardware': 3,\n",
              "  'comp.sys.mac.hardware': 1,\n",
              "  'comp.windows.x': 1,\n",
              "  'misc.forsale': 17,\n",
              "  'rec.autos': 208,\n",
              "  'rec.motorcycles': 39,\n",
              "  'rec.sport.baseball': 0,\n",
              "  'rec.sport.hockey': 4,\n",
              "  'sci.crypt': 1,\n",
              "  'sci.electronics': 21,\n",
              "  'sci.med': 0,\n",
              "  'sci.space': 1,\n",
              "  'soc.religion.christian': 1,\n",
              "  'talk.politics.guns': 5,\n",
              "  'talk.politics.mideast': 3,\n",
              "  'talk.politics.misc': 1,\n",
              "  'talk.religion.misc': 3},\n",
              " {'alt.atheism': 18,\n",
              "  'comp.graphics': 29,\n",
              "  'comp.os.ms-windows.misc': 14,\n",
              "  'comp.sys.ibm.pc.hardware': 15,\n",
              "  'comp.sys.mac.hardware': 27,\n",
              "  'comp.windows.x': 19,\n",
              "  'misc.forsale': 8,\n",
              "  'rec.autos': 21,\n",
              "  'rec.motorcycles': 37,\n",
              "  'rec.sport.baseball': 14,\n",
              "  'rec.sport.hockey': 13,\n",
              "  'sci.crypt': 12,\n",
              "  'sci.electronics': 40,\n",
              "  'sci.med': 26,\n",
              "  'sci.space': 21,\n",
              "  'soc.religion.christian': 8,\n",
              "  'talk.politics.guns': 17,\n",
              "  'talk.politics.mideast': 6,\n",
              "  'talk.politics.misc': 11,\n",
              "  'talk.religion.misc': 15},\n",
              " {'alt.atheism': 7,\n",
              "  'comp.graphics': 26,\n",
              "  'comp.os.ms-windows.misc': 25,\n",
              "  'comp.sys.ibm.pc.hardware': 18,\n",
              "  'comp.sys.mac.hardware': 42,\n",
              "  'comp.windows.x': 41,\n",
              "  'misc.forsale': 14,\n",
              "  'rec.autos': 14,\n",
              "  'rec.motorcycles': 12,\n",
              "  'rec.sport.baseball': 7,\n",
              "  'rec.sport.hockey': 2,\n",
              "  'sci.crypt': 18,\n",
              "  'sci.electronics': 62,\n",
              "  'sci.med': 16,\n",
              "  'sci.space': 19,\n",
              "  'soc.religion.christian': 6,\n",
              "  'talk.politics.guns': 16,\n",
              "  'talk.politics.mideast': 5,\n",
              "  'talk.politics.misc': 10,\n",
              "  'talk.religion.misc': 6},\n",
              " {'alt.atheism': 36,\n",
              "  'comp.graphics': 18,\n",
              "  'comp.os.ms-windows.misc': 7,\n",
              "  'comp.sys.ibm.pc.hardware': 5,\n",
              "  'comp.sys.mac.hardware': 14,\n",
              "  'comp.windows.x': 5,\n",
              "  'misc.forsale': 1,\n",
              "  'rec.autos': 11,\n",
              "  'rec.motorcycles': 24,\n",
              "  'rec.sport.baseball': 30,\n",
              "  'rec.sport.hockey': 25,\n",
              "  'sci.crypt': 11,\n",
              "  'sci.electronics': 15,\n",
              "  'sci.med': 23,\n",
              "  'sci.space': 33,\n",
              "  'soc.religion.christian': 15,\n",
              "  'talk.politics.guns': 20,\n",
              "  'talk.politics.mideast': 21,\n",
              "  'talk.politics.misc': 21,\n",
              "  'talk.religion.misc': 16},\n",
              " {'alt.atheism': 17,\n",
              "  'comp.graphics': 10,\n",
              "  'comp.os.ms-windows.misc': 11,\n",
              "  'comp.sys.ibm.pc.hardware': 17,\n",
              "  'comp.sys.mac.hardware': 7,\n",
              "  'comp.windows.x': 24,\n",
              "  'misc.forsale': 20,\n",
              "  'rec.autos': 19,\n",
              "  'rec.motorcycles': 27,\n",
              "  'rec.sport.baseball': 13,\n",
              "  'rec.sport.hockey': 2,\n",
              "  'sci.crypt': 27,\n",
              "  'sci.electronics': 17,\n",
              "  'sci.med': 12,\n",
              "  'sci.space': 15,\n",
              "  'soc.religion.christian': 6,\n",
              "  'talk.politics.guns': 37,\n",
              "  'talk.politics.mideast': 3,\n",
              "  'talk.politics.misc': 13,\n",
              "  'talk.religion.misc': 8}]"
            ]
          },
          "metadata": {},
          "execution_count": 6
        }
      ]
    },
    {
      "cell_type": "code",
      "metadata": {
        "id": "z_qyHspWPwxm",
        "outputId": "455bfe41-a3df-4547-a89f-7f2d1e8d7c1f",
        "colab": {
          "base_uri": "https://localhost:8080/"
        }
      },
      "source": [
        "TNG_topics_lda.shape"
      ],
      "execution_count": 7,
      "outputs": [
        {
          "output_type": "execute_result",
          "data": {
            "text/plain": [
              "(11314, 20)"
            ]
          },
          "metadata": {},
          "execution_count": 7
        }
      ]
    },
    {
      "cell_type": "code",
      "metadata": {
        "id": "7M8C3vXcPwxn"
      },
      "source": [
        "from sklearn.neighbors import NearestNeighbors"
      ],
      "execution_count": 8,
      "outputs": []
    },
    {
      "cell_type": "code",
      "metadata": {
        "id": "jw3hF2PYPwxn"
      },
      "source": [
        "neigh_lda = NearestNeighbors(n_neighbors=20, metric=\"cosine\")\n",
        "neigh_nmf = NearestNeighbors(n_neighbors=20, metric=\"cosine\")"
      ],
      "execution_count": 9,
      "outputs": []
    },
    {
      "cell_type": "code",
      "metadata": {
        "id": "0eddle9sPwxo",
        "outputId": "95758362-4b8a-433d-f133-7f2240e044ed",
        "colab": {
          "base_uri": "https://localhost:8080/"
        }
      },
      "source": [
        "neigh_lda.fit(TNG_topics_lda)\n",
        "neigh_nmf.fit(TNG_topics_nmf)"
      ],
      "execution_count": 10,
      "outputs": [
        {
          "output_type": "execute_result",
          "data": {
            "text/plain": [
              "NearestNeighbors(metric='cosine', n_neighbors=20)"
            ]
          },
          "metadata": {},
          "execution_count": 10
        }
      ]
    },
    {
      "cell_type": "code",
      "metadata": {
        "id": "4OCUjeliPwxp",
        "outputId": "27c29fb5-d003-4434-97f7-f94db4a29f22",
        "colab": {
          "base_uri": "https://localhost:8080/"
        }
      },
      "source": [
        "neigh_nmf.kneighbors(TNG_topics_lda[10:11])"
      ],
      "execution_count": 11,
      "outputs": [
        {
          "output_type": "execute_result",
          "data": {
            "text/plain": [
              "(array([[0.03345458, 0.03574881, 0.04886027, 0.06074025, 0.0620826 ,\n",
              "         0.06545978, 0.0738174 , 0.07395766, 0.076047  , 0.08102642,\n",
              "         0.08326114, 0.08328954, 0.08674353, 0.09631765, 0.09757136,\n",
              "         0.09806657, 0.10118102, 0.1056692 , 0.11570665, 0.11947672]]),\n",
              " array([[ 7241,   426, 10631,  8883,  7262,  9572,  1690,  3943,  1990,\n",
              "          3679,  6048, 11091,  7253,  1639,  9649, 10886,  4755,  6799,\n",
              "         10250,  3312]]))"
            ]
          },
          "metadata": {},
          "execution_count": 11
        }
      ]
    },
    {
      "cell_type": "code",
      "metadata": {
        "id": "C2jr6eUZPwxp",
        "outputId": "c44f643a-208a-44b8-fe52-b2dbea4e6d1e",
        "colab": {
          "base_uri": "https://localhost:8080/",
          "height": 120
        }
      },
      "source": [
        "dataset.data[724]"
      ],
      "execution_count": 14,
      "outputs": [
        {
          "output_type": "execute_result",
          "data": {
            "application/vnd.google.colaboratory.intrinsic+json": {
              "type": "string"
            },
            "text/plain": [
              "'\\nWell, actually, most of ours is based on what really happened and yours is\\nbased on some fantasy of how it happened. But that\\'s OK, I understand you\\nhave a hockey background. Stats like \"plus/minus\" make RBI look good.\\n\\n\\nOK, how about a straigh answer, then. Here\\'s a very simele question to which\\nI\\'m sure a fair number of us are very interesed in the answer to. Please\\nanswer yes or no, Roger:\\n Can a pitcher cause the offensive players on his team to score more runs?\\nAL only, please.\\n\\nFor anyone else following along, it is a well-known and demonstrable fact\\nthat a team\\'s win-loss record is closely related to the number of runs the\\nteam scores and the number the team allows. It\\'s not a definite,\\nhard-and-fast function, but there is definitely a correlation. In fact, as a\\nrule of thumb, if teams A and B both score X runs and team A allows Y runs,\\nfor every 10 runs fewer than Y that team B allows, it will win another game.\\nSo, for instance, if we look at the 1991 Toronto Blue Jays, we find that\\nthey scored 780 runs and allowed 682, of which Morris allowed 114. All other\\nthings being equal, if Frank Viola, with his 3.44 ERA had replaced Jack\\nMorris for the 240.2 innings Morris threw (plausible, since Viola threw 238\\nfor Boston), the \"Red Jays\" would have allowed about 15 fewer runs, or\\nenough for 1-2 more wins. Now, that doesn\\'t take into account that Viola\\npitched half his innings in Fenway, which is a harder park to pitch in\\n(particularly for a lefthander) than Skydome. So, um, Roger. Unless you\\nreally do believe that a pitcher can somehow affect the number of runs\\nhis team scores, could you enlighten us to the fallacy in this\\nanalysis? Clearly, it would be foolhardy to claim that Viola would\\nnecessarily have put up a 3.44 if he had been on the Jay last year, but\\nthat is not the claim. We look at what the actual performances were and\\nevaluate Viola\\'s as better than Morris\\' in the sense that \"had Morris\\nperformed as Viola did, his team would have been better off.\"\\n\\n\\nThis is true, but not so open that your brain falls out.\\n\\n Mike Jones | AIX High-End Development | mjones@donald.aix.kingston.ibm.com'"
            ]
          },
          "metadata": {},
          "execution_count": 14
        }
      ]
    }
  ]
}