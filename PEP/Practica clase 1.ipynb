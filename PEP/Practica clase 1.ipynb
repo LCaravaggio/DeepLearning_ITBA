{
  "nbformat": 4,
  "nbformat_minor": 0,
  "metadata": {
    "colab": {
      "name": "Practica clase 1",
      "provenance": []
    },
    "kernelspec": {
      "name": "python3",
      "display_name": "Python 3"
    }
  },
  "cells": [
    {
      "cell_type": "markdown",
      "metadata": {
        "id": "jJSAybDwAs6-"
      },
      "source": [
        " # Clase 1 de Lab-PEP\n",
        " \n",
        " Hoy vamos a trabajar con Python.\n",
        " \n",
        " $ X=\\sum_{n=0}^N x_i$"
      ]
    },
    {
      "cell_type": "code",
      "metadata": {
        "id": "tgP2IPYcBVJ6",
        "colab": {
          "base_uri": "https://localhost:8080/",
          "height": 34
        },
        "outputId": "71018925-e241-446b-f3c4-4fa8892c23f2"
      },
      "source": [
        "print(\"Hola Mundo\")"
      ],
      "execution_count": null,
      "outputs": [
        {
          "output_type": "stream",
          "text": [
            "Hola Mundo\n"
          ],
          "name": "stdout"
        }
      ]
    },
    {
      "cell_type": "code",
      "metadata": {
        "id": "aoolkJe9BbEe"
      },
      "source": [
        "variable = 32\n",
        "texto = \"Esto es un texto\""
      ],
      "execution_count": null,
      "outputs": []
    },
    {
      "cell_type": "code",
      "metadata": {
        "id": "rHNdBWcNERee",
        "colab": {
          "base_uri": "https://localhost:8080/",
          "height": 34
        },
        "outputId": "13e777ac-31d6-4e60-a903-13e9af2fa85e"
      },
      "source": [
        "variable*5"
      ],
      "execution_count": null,
      "outputs": [
        {
          "output_type": "execute_result",
          "data": {
            "text/plain": [
              "160"
            ]
          },
          "metadata": {
            "tags": []
          },
          "execution_count": 5
        }
      ]
    },
    {
      "cell_type": "code",
      "metadata": {
        "id": "WbGA_KopEWmQ",
        "colab": {
          "base_uri": "https://localhost:8080/",
          "height": 34
        },
        "outputId": "62266091-861d-48ee-ff59-967195a4aa3a"
      },
      "source": [
        "print(texto)"
      ],
      "execution_count": null,
      "outputs": [
        {
          "output_type": "stream",
          "text": [
            "Esto es un texto\n"
          ],
          "name": "stdout"
        }
      ]
    },
    {
      "cell_type": "code",
      "metadata": {
        "id": "2Zdl3ElQEr6V",
        "colab": {
          "base_uri": "https://localhost:8080/",
          "height": 34
        },
        "outputId": "b773c6f3-b125-4e63-e931-99cb06c9d149"
      },
      "source": [
        "type(variable)"
      ],
      "execution_count": null,
      "outputs": [
        {
          "output_type": "execute_result",
          "data": {
            "text/plain": [
              "int"
            ]
          },
          "metadata": {
            "tags": []
          },
          "execution_count": 11
        }
      ]
    },
    {
      "cell_type": "code",
      "metadata": {
        "id": "JNQ3GNxtE2uN"
      },
      "source": [
        "variable = 7.5"
      ],
      "execution_count": null,
      "outputs": []
    },
    {
      "cell_type": "code",
      "metadata": {
        "id": "RmpQRhb6E6ra",
        "colab": {
          "base_uri": "https://localhost:8080/",
          "height": 34
        },
        "outputId": "1db2d201-aa53-4717-9c0c-e1928255011a"
      },
      "source": [
        "type(variable)"
      ],
      "execution_count": null,
      "outputs": [
        {
          "output_type": "execute_result",
          "data": {
            "text/plain": [
              "float"
            ]
          },
          "metadata": {
            "tags": []
          },
          "execution_count": 13
        }
      ]
    },
    {
      "cell_type": "code",
      "metadata": {
        "id": "LSeVS6z_E7zK",
        "colab": {
          "base_uri": "https://localhost:8080/",
          "height": 34
        },
        "outputId": "e1cccd96-0207-4f64-87a4-be898c316305"
      },
      "source": [
        "texto2 = \"El valor de variable es: {} y el valor de texto es: {}\".format(variable, texto)\n",
        "print(texto2)"
      ],
      "execution_count": null,
      "outputs": [
        {
          "output_type": "stream",
          "text": [
            "El valor de variable es: 7.5 y el valor de texto es: Esto es un texto\n"
          ],
          "name": "stdout"
        }
      ]
    },
    {
      "cell_type": "markdown",
      "metadata": {
        "id": "88bbOhV9F2XA"
      },
      "source": [
        "# Listas\n",
        "\n",
        "un conjunto ordenado de elementos de tipo variable."
      ]
    },
    {
      "cell_type": "code",
      "metadata": {
        "id": "ap3bu5wPFWgM"
      },
      "source": [
        "lista1 = [ 1, 2 ,5.5 , \"Casa\", [2, 3.3, \"Alberto\"]]"
      ],
      "execution_count": null,
      "outputs": []
    },
    {
      "cell_type": "code",
      "metadata": {
        "id": "x99BgUzVGDxC",
        "colab": {
          "base_uri": "https://localhost:8080/",
          "height": 35
        },
        "outputId": "470ce45c-6f4b-4006-ebcd-fd9d3d0d7d83"
      },
      "source": [
        "print(lista1)"
      ],
      "execution_count": null,
      "outputs": [
        {
          "output_type": "stream",
          "text": [
            "[1, 2, 5.5, 'Casa', [2, 3.3, 'Alberto']]\n"
          ],
          "name": "stdout"
        }
      ]
    },
    {
      "cell_type": "code",
      "metadata": {
        "id": "sj3MQxfoGFry",
        "colab": {
          "base_uri": "https://localhost:8080/",
          "height": 35
        },
        "outputId": "be960b03-97a9-4600-f4b6-02dc32d6b315"
      },
      "source": [
        "lista1[0]"
      ],
      "execution_count": null,
      "outputs": [
        {
          "output_type": "execute_result",
          "data": {
            "text/plain": [
              "1"
            ]
          },
          "metadata": {
            "tags": []
          },
          "execution_count": 17
        }
      ]
    },
    {
      "cell_type": "code",
      "metadata": {
        "id": "EIBzRGFnGQgh",
        "colab": {
          "base_uri": "https://localhost:8080/",
          "height": 35
        },
        "outputId": "15862e0e-29e2-4d53-ce5a-75c7f32bd262"
      },
      "source": [
        "lista1[3]"
      ],
      "execution_count": null,
      "outputs": [
        {
          "output_type": "execute_result",
          "data": {
            "text/plain": [
              "'Casa'"
            ]
          },
          "metadata": {
            "tags": []
          },
          "execution_count": 19
        }
      ]
    },
    {
      "cell_type": "code",
      "metadata": {
        "id": "V2oZoZSgGTBK",
        "colab": {
          "base_uri": "https://localhost:8080/",
          "height": 35
        },
        "outputId": "dee5e412-57d7-4196-eaed-2427715b4e0d"
      },
      "source": [
        "len(lista1)"
      ],
      "execution_count": null,
      "outputs": [
        {
          "output_type": "execute_result",
          "data": {
            "text/plain": [
              "5"
            ]
          },
          "metadata": {
            "tags": []
          },
          "execution_count": 20
        }
      ]
    },
    {
      "cell_type": "code",
      "metadata": {
        "id": "PKophlMYGe7J",
        "colab": {
          "base_uri": "https://localhost:8080/",
          "height": 35
        },
        "outputId": "59009612-ad17-4eb2-a3d0-87d19374bdb0"
      },
      "source": [
        "type(lista1[2])"
      ],
      "execution_count": null,
      "outputs": [
        {
          "output_type": "execute_result",
          "data": {
            "text/plain": [
              "float"
            ]
          },
          "metadata": {
            "tags": []
          },
          "execution_count": 21
        }
      ]
    },
    {
      "cell_type": "code",
      "metadata": {
        "id": "G5pA_HunGs_B",
        "colab": {
          "base_uri": "https://localhost:8080/",
          "height": 35
        },
        "outputId": "37976e06-65f4-4ab6-a356-d3a86db5c07b"
      },
      "source": [
        "type(lista1[4])"
      ],
      "execution_count": null,
      "outputs": [
        {
          "output_type": "execute_result",
          "data": {
            "text/plain": [
              "list"
            ]
          },
          "metadata": {
            "tags": []
          },
          "execution_count": 23
        }
      ]
    },
    {
      "cell_type": "code",
      "metadata": {
        "id": "zYUSb9Q7Gy1p",
        "colab": {
          "base_uri": "https://localhost:8080/",
          "height": 35
        },
        "outputId": "f308be95-f724-4fc8-bdc9-ed54980d28d9"
      },
      "source": [
        "lista1[4][2]"
      ],
      "execution_count": null,
      "outputs": [
        {
          "output_type": "execute_result",
          "data": {
            "text/plain": [
              "'Alberto'"
            ]
          },
          "metadata": {
            "tags": []
          },
          "execution_count": 25
        }
      ]
    },
    {
      "cell_type": "code",
      "metadata": {
        "id": "HF9ATeC-G6WA",
        "colab": {
          "base_uri": "https://localhost:8080/",
          "height": 35
        },
        "outputId": "d31d8693-1640-4f04-c5b7-cf6f20d526b5"
      },
      "source": [
        "len(lista1[4])"
      ],
      "execution_count": null,
      "outputs": [
        {
          "output_type": "execute_result",
          "data": {
            "text/plain": [
              "3"
            ]
          },
          "metadata": {
            "tags": []
          },
          "execution_count": 26
        }
      ]
    },
    {
      "cell_type": "code",
      "metadata": {
        "id": "_zuy7TdXG-kQ",
        "colab": {
          "base_uri": "https://localhost:8080/",
          "height": 35
        },
        "outputId": "d52679eb-2282-4603-ee5f-717517d1ce4e"
      },
      "source": [
        "lista1[0:3]"
      ],
      "execution_count": null,
      "outputs": [
        {
          "output_type": "execute_result",
          "data": {
            "text/plain": [
              "[1, 2, 5.5]"
            ]
          },
          "metadata": {
            "tags": []
          },
          "execution_count": 28
        }
      ]
    },
    {
      "cell_type": "code",
      "metadata": {
        "id": "JB0UB0_dHMU4",
        "colab": {
          "base_uri": "https://localhost:8080/",
          "height": 35
        },
        "outputId": "551f02f9-f90b-4da4-e071-7cd07d9900a0"
      },
      "source": [
        "lista1[:3]"
      ],
      "execution_count": null,
      "outputs": [
        {
          "output_type": "execute_result",
          "data": {
            "text/plain": [
              "[1, 2, 5.5]"
            ]
          },
          "metadata": {
            "tags": []
          },
          "execution_count": 29
        }
      ]
    },
    {
      "cell_type": "code",
      "metadata": {
        "id": "XpUs-2ooHeQ_",
        "colab": {
          "base_uri": "https://localhost:8080/",
          "height": 35
        },
        "outputId": "50c12b9a-e0b7-4e81-8973-594f3633e4cf"
      },
      "source": [
        "lista1[2:]"
      ],
      "execution_count": null,
      "outputs": [
        {
          "output_type": "execute_result",
          "data": {
            "text/plain": [
              "[5.5, 'Casa', [2, 3.3, 'Alberto']]"
            ]
          },
          "metadata": {
            "tags": []
          },
          "execution_count": 31
        }
      ]
    },
    {
      "cell_type": "code",
      "metadata": {
        "id": "TdSIu4KtHhsf",
        "colab": {
          "base_uri": "https://localhost:8080/",
          "height": 35
        },
        "outputId": "5682b5ba-f524-40f4-adaa-0f18fc541992"
      },
      "source": [
        "lista1[-2]"
      ],
      "execution_count": null,
      "outputs": [
        {
          "output_type": "execute_result",
          "data": {
            "text/plain": [
              "'Casa'"
            ]
          },
          "metadata": {
            "tags": []
          },
          "execution_count": 33
        }
      ]
    },
    {
      "cell_type": "code",
      "metadata": {
        "id": "L6oJt8e8Ho33"
      },
      "source": [
        "lista2= lista1[0:-1]+lista1[-1]"
      ],
      "execution_count": null,
      "outputs": []
    },
    {
      "cell_type": "code",
      "metadata": {
        "id": "9pwwR0Q2IATO",
        "colab": {
          "base_uri": "https://localhost:8080/",
          "height": 35
        },
        "outputId": "eea3559d-4177-437b-e489-e30f4c00d12b"
      },
      "source": [
        "lista2"
      ],
      "execution_count": null,
      "outputs": [
        {
          "output_type": "execute_result",
          "data": {
            "text/plain": [
              "[1, 2, 5.5, 'Casa', 2, 3.3, 'Alberto']"
            ]
          },
          "metadata": {
            "tags": []
          },
          "execution_count": 35
        }
      ]
    },
    {
      "cell_type": "code",
      "metadata": {
        "id": "LK1EthxKIBNe",
        "colab": {
          "base_uri": "https://localhost:8080/",
          "height": 35
        },
        "outputId": "34048467-0c33-4baa-fd84-6c2705cffdaf"
      },
      "source": [
        "len(lista2)"
      ],
      "execution_count": null,
      "outputs": [
        {
          "output_type": "execute_result",
          "data": {
            "text/plain": [
              "7"
            ]
          },
          "metadata": {
            "tags": []
          },
          "execution_count": 36
        }
      ]
    },
    {
      "cell_type": "code",
      "metadata": {
        "id": "vBoolg-2IJNd",
        "colab": {
          "base_uri": "https://localhost:8080/",
          "height": 35
        },
        "outputId": "873df08f-cf0e-4976-99c7-c257b4dd7dd6"
      },
      "source": [
        "lista2.append(\"uno mas\")\n",
        "print(lista2)"
      ],
      "execution_count": null,
      "outputs": [
        {
          "output_type": "stream",
          "text": [
            "[1, 2, 5.5, 'Casa', 2, 3.3, 'Alberto', 'uno mas']\n"
          ],
          "name": "stdout"
        }
      ]
    },
    {
      "cell_type": "code",
      "metadata": {
        "id": "K1QV7HSoITYU"
      },
      "source": [
        "lista2.append(lista1[0])"
      ],
      "execution_count": null,
      "outputs": []
    },
    {
      "cell_type": "code",
      "metadata": {
        "id": "aAn5CtG2Ir4E",
        "colab": {
          "base_uri": "https://localhost:8080/",
          "height": 35
        },
        "outputId": "6399f1f6-e2ea-43a2-d722-f9ca1ce4d275"
      },
      "source": [
        "lista2"
      ],
      "execution_count": null,
      "outputs": [
        {
          "output_type": "execute_result",
          "data": {
            "text/plain": [
              "[1, 2, 5.5, 'Casa', 2, 3.3, 'Alberto', 'uno mas', 1]"
            ]
          },
          "metadata": {
            "tags": []
          },
          "execution_count": 39
        }
      ]
    },
    {
      "cell_type": "code",
      "metadata": {
        "id": "DtwGL1rQIsn8",
        "colab": {
          "base_uri": "https://localhost:8080/",
          "height": 35
        },
        "outputId": "5cac86f9-1b4b-41c9-e28d-38edc2087549"
      },
      "source": [
        "lista2.count(1)"
      ],
      "execution_count": null,
      "outputs": [
        {
          "output_type": "execute_result",
          "data": {
            "text/plain": [
              "2"
            ]
          },
          "metadata": {
            "tags": []
          },
          "execution_count": 40
        }
      ]
    },
    {
      "cell_type": "code",
      "metadata": {
        "id": "L_-NuWjAJAAc",
        "colab": {
          "base_uri": "https://localhost:8080/",
          "height": 35
        },
        "outputId": "36266df2-31af-4688-a84d-e93ce3b673f5"
      },
      "source": [
        "lista2.count('Casa')"
      ],
      "execution_count": null,
      "outputs": [
        {
          "output_type": "execute_result",
          "data": {
            "text/plain": [
              "1"
            ]
          },
          "metadata": {
            "tags": []
          },
          "execution_count": 42
        }
      ]
    },
    {
      "cell_type": "code",
      "metadata": {
        "id": "2HtzJqV9JCZO"
      },
      "source": [
        "lista2.reverse()"
      ],
      "execution_count": null,
      "outputs": []
    },
    {
      "cell_type": "code",
      "metadata": {
        "id": "OogDTAw7JG-D",
        "colab": {
          "base_uri": "https://localhost:8080/",
          "height": 35
        },
        "outputId": "9d68739e-c87e-4bf3-8627-febd6db70515"
      },
      "source": [
        "lista2"
      ],
      "execution_count": null,
      "outputs": [
        {
          "output_type": "execute_result",
          "data": {
            "text/plain": [
              "[1, 2, 5.5, 'Casa', 2, 3.3, 'Alberto', 'uno mas', 1]"
            ]
          },
          "metadata": {
            "tags": []
          },
          "execution_count": 51
        }
      ]
    },
    {
      "cell_type": "code",
      "metadata": {
        "id": "0zN3SUJjJIET"
      },
      "source": [
        "lista3=lista2"
      ],
      "execution_count": null,
      "outputs": []
    },
    {
      "cell_type": "code",
      "metadata": {
        "id": "MiL7WRoXJOBj",
        "colab": {
          "base_uri": "https://localhost:8080/",
          "height": 35
        },
        "outputId": "9f41f119-f8c3-4805-ce3d-2a2ba3b31802"
      },
      "source": [
        "lista3[0]=\"cambio\"\n",
        "lista2"
      ],
      "execution_count": null,
      "outputs": [
        {
          "output_type": "execute_result",
          "data": {
            "text/plain": [
              "['cambio', 2, 5.5, 'Casa', 2, 3.3, 'Alberto', 'uno mas', 1]"
            ]
          },
          "metadata": {
            "tags": []
          },
          "execution_count": 54
        }
      ]
    },
    {
      "cell_type": "code",
      "metadata": {
        "id": "YB2He_CiJrOQ",
        "colab": {
          "base_uri": "https://localhost:8080/",
          "height": 35
        },
        "outputId": "fea4f18e-6993-4652-ccd7-29a0b8d2b6ff"
      },
      "source": [
        "lista2[2]=99999\n",
        "lista3"
      ],
      "execution_count": null,
      "outputs": [
        {
          "output_type": "execute_result",
          "data": {
            "text/plain": [
              "['cambio', 2, 99999, 'Casa', 2, 3.3, 'Alberto', 'uno mas', 1]"
            ]
          },
          "metadata": {
            "tags": []
          },
          "execution_count": 55
        }
      ]
    },
    {
      "cell_type": "code",
      "metadata": {
        "id": "4HDel62PJ2VM"
      },
      "source": [
        "lista3=lista2.copy()"
      ],
      "execution_count": null,
      "outputs": []
    },
    {
      "cell_type": "code",
      "metadata": {
        "id": "DhlLLPgCJS2r",
        "colab": {
          "base_uri": "https://localhost:8080/",
          "height": 35
        },
        "outputId": "964461b1-b944-4984-98b0-0b60bf2273b0"
      },
      "source": [
        "a=1\n",
        "b=a\n",
        "b=2\n",
        "print(a)"
      ],
      "execution_count": null,
      "outputs": [
        {
          "output_type": "stream",
          "text": [
            "1\n"
          ],
          "name": "stdout"
        }
      ]
    },
    {
      "cell_type": "code",
      "metadata": {
        "id": "T9mGqykYJZCb",
        "colab": {
          "base_uri": "https://localhost:8080/",
          "height": 35
        },
        "outputId": "1c38061e-6d31-4077-d3d2-e23cab05628c"
      },
      "source": [
        "\"Hola \" + \"Chau\""
      ],
      "execution_count": null,
      "outputs": [
        {
          "output_type": "execute_result",
          "data": {
            "text/plain": [
              "'Hola Chau'"
            ]
          },
          "metadata": {
            "tags": []
          },
          "execution_count": 57
        }
      ]
    },
    {
      "cell_type": "code",
      "metadata": {
        "id": "pEAC1p2mKNVJ",
        "colab": {
          "base_uri": "https://localhost:8080/",
          "height": 277
        },
        "outputId": "ac4153c7-25b0-4002-e481-ac9f7559f931"
      },
      "source": [
        "lista1 * 3"
      ],
      "execution_count": null,
      "outputs": [
        {
          "output_type": "execute_result",
          "data": {
            "text/plain": [
              "[1,\n",
              " 2,\n",
              " 5.5,\n",
              " 'Casa',\n",
              " [2, 3.3, 'Alberto'],\n",
              " 1,\n",
              " 2,\n",
              " 5.5,\n",
              " 'Casa',\n",
              " [2, 3.3, 'Alberto'],\n",
              " 1,\n",
              " 2,\n",
              " 5.5,\n",
              " 'Casa',\n",
              " [2, 3.3, 'Alberto']]"
            ]
          },
          "metadata": {
            "tags": []
          },
          "execution_count": 59
        }
      ]
    },
    {
      "cell_type": "code",
      "metadata": {
        "id": "OqvcZYY8KQcR",
        "colab": {
          "base_uri": "https://localhost:8080/",
          "height": 35
        },
        "outputId": "872745dc-92b1-4945-a715-d6e8c01ebdc4"
      },
      "source": [
        "\"Hola \" * 3"
      ],
      "execution_count": null,
      "outputs": [
        {
          "output_type": "execute_result",
          "data": {
            "text/plain": [
              "'Hola Hola Hola '"
            ]
          },
          "metadata": {
            "tags": []
          },
          "execution_count": 60
        }
      ]
    },
    {
      "cell_type": "code",
      "metadata": {
        "id": "YAd-go-gLFpK"
      },
      "source": [
        ""
      ],
      "execution_count": null,
      "outputs": []
    },
    {
      "cell_type": "code",
      "metadata": {
        "id": "S57cfCP6KXcg",
        "colab": {
          "base_uri": "https://localhost:8080/",
          "height": 35
        },
        "outputId": "24edbf3e-bc27-43be-a920-abf232d9aa5c"
      },
      "source": [
        "tupla1 = (1, \"casa\", 7.3)\n",
        "tupla1"
      ],
      "execution_count": null,
      "outputs": [
        {
          "output_type": "execute_result",
          "data": {
            "text/plain": [
              "(1, 'casa', 7.3)"
            ]
          },
          "metadata": {
            "tags": []
          },
          "execution_count": 62
        }
      ]
    },
    {
      "cell_type": "code",
      "metadata": {
        "id": "B6LRuJjDKfmA"
      },
      "source": [
        "lista1 = [1, 2, 3 ,4]\n",
        "lista2 = [2*x for x in lista3]"
      ],
      "execution_count": null,
      "outputs": []
    },
    {
      "cell_type": "code",
      "metadata": {
        "id": "7zXmr_N1LPNf",
        "colab": {
          "base_uri": "https://localhost:8080/",
          "height": 173
        },
        "outputId": "145fa353-ff55-40ae-89e5-c7543fdea404"
      },
      "source": [
        "lista2"
      ],
      "execution_count": null,
      "outputs": [
        {
          "output_type": "execute_result",
          "data": {
            "text/plain": [
              "['cambiocambio',\n",
              " 4,\n",
              " 199998,\n",
              " 'CasaCasa',\n",
              " 4,\n",
              " 6.6,\n",
              " 'AlbertoAlberto',\n",
              " 'uno masuno mas',\n",
              " 2]"
            ]
          },
          "metadata": {
            "tags": []
          },
          "execution_count": 66
        }
      ]
    },
    {
      "cell_type": "code",
      "metadata": {
        "id": "-3paQD7JLQIe"
      },
      "source": [
        "lista3 = [x**2 for x in range(100,0,-10)]"
      ],
      "execution_count": null,
      "outputs": []
    },
    {
      "cell_type": "code",
      "metadata": {
        "id": "KIfwKywcLqGO",
        "colab": {
          "base_uri": "https://localhost:8080/",
          "height": 35
        },
        "outputId": "2e80f470-5d10-4173-c12a-fae615455ad3"
      },
      "source": [
        "lista3"
      ],
      "execution_count": null,
      "outputs": [
        {
          "output_type": "execute_result",
          "data": {
            "text/plain": [
              "[10000, 8100, 6400, 4900, 3600, 2500, 1600, 900, 400, 100]"
            ]
          },
          "metadata": {
            "tags": []
          },
          "execution_count": 80
        }
      ]
    },
    {
      "cell_type": "code",
      "metadata": {
        "id": "TE875lzALqtu",
        "colab": {
          "base_uri": "https://localhost:8080/",
          "height": 35
        },
        "outputId": "a77c224a-1485-4f9b-b2c2-9ac9539b2a8a"
      },
      "source": [
        "lista3[::-1]"
      ],
      "execution_count": null,
      "outputs": [
        {
          "output_type": "execute_result",
          "data": {
            "text/plain": [
              "[100, 400, 900, 1600, 2500, 3600, 4900, 6400, 8100, 10000]"
            ]
          },
          "metadata": {
            "tags": []
          },
          "execution_count": 85
        }
      ]
    },
    {
      "cell_type": "code",
      "metadata": {
        "id": "iEDaaUlAMKvk"
      },
      "source": [
        "del lista3[3]"
      ],
      "execution_count": null,
      "outputs": []
    },
    {
      "cell_type": "code",
      "metadata": {
        "id": "1khV6O7TMfWc",
        "colab": {
          "base_uri": "https://localhost:8080/",
          "height": 35
        },
        "outputId": "c0ea8a2c-8cdd-4d76-db18-898319565378"
      },
      "source": [
        "lista3"
      ],
      "execution_count": null,
      "outputs": [
        {
          "output_type": "execute_result",
          "data": {
            "text/plain": [
              "[10000, 8100, 6400, 2500, 1600, 900, 400, 100]"
            ]
          },
          "metadata": {
            "tags": []
          },
          "execution_count": 89
        }
      ]
    },
    {
      "cell_type": "code",
      "metadata": {
        "id": "Em3YOOxkMgOe"
      },
      "source": [
        "diccionario={\"Carlos\":\"Selmo\",\"Julián\":\"Ganzabal\", 7.5:3, 5:\"ITBA\",(3,2):\"lista\"}"
      ],
      "execution_count": 2,
      "outputs": []
    },
    {
      "cell_type": "code",
      "metadata": {
        "id": "MBy0lCRTM1lj",
        "colab": {
          "base_uri": "https://localhost:8080/"
        },
        "outputId": "cdc2b34b-5946-4bd8-816e-a790fc4e6ef4"
      },
      "source": [
        "diccionario"
      ],
      "execution_count": 3,
      "outputs": [
        {
          "output_type": "execute_result",
          "data": {
            "text/plain": [
              "{(3, 2): 'lista', 5: 'ITBA', 7.5: 3, 'Carlos': 'Selmo', 'Julián': 'Ganzabal'}"
            ]
          },
          "metadata": {},
          "execution_count": 3
        }
      ]
    },
    {
      "cell_type": "code",
      "metadata": {
        "id": "woZrpJ4w8C5j",
        "outputId": "e3d08fdc-fb5b-483a-86e8-c528a44822b8",
        "colab": {
          "base_uri": "https://localhost:8080/",
          "height": 35
        }
      },
      "source": [
        "diccionario[5]"
      ],
      "execution_count": 5,
      "outputs": [
        {
          "output_type": "execute_result",
          "data": {
            "application/vnd.google.colaboratory.intrinsic+json": {
              "type": "string"
            },
            "text/plain": [
              "'ITBA'"
            ]
          },
          "metadata": {},
          "execution_count": 5
        }
      ]
    },
    {
      "cell_type": "code",
      "metadata": {
        "id": "zd4Q3FxEM2iD",
        "colab": {
          "base_uri": "https://localhost:8080/",
          "height": 35
        },
        "outputId": "7940065d-0d48-40b2-c69b-900d79c5c5ae"
      },
      "source": [
        "diccionario[(3,2)]"
      ],
      "execution_count": 4,
      "outputs": [
        {
          "output_type": "execute_result",
          "data": {
            "application/vnd.google.colaboratory.intrinsic+json": {
              "type": "string"
            },
            "text/plain": [
              "'lista'"
            ]
          },
          "metadata": {},
          "execution_count": 4
        }
      ]
    },
    {
      "cell_type": "code",
      "metadata": {
        "id": "sKDtW5YkM6G7",
        "colab": {
          "base_uri": "https://localhost:8080/",
          "height": 35
        },
        "outputId": "e8b64edf-3ff4-4bd5-bdd3-279a60242dfa"
      },
      "source": [
        "diccionario[\"Julián\"]"
      ],
      "execution_count": null,
      "outputs": [
        {
          "output_type": "execute_result",
          "data": {
            "text/plain": [
              "'Ganzabal'"
            ]
          },
          "metadata": {
            "tags": []
          },
          "execution_count": 93
        }
      ]
    },
    {
      "cell_type": "code",
      "metadata": {
        "id": "d-AQUZFcNDET"
      },
      "source": [
        "set1={1,2,3,4,5}\n",
        "set2={2,3,4,5,6}"
      ],
      "execution_count": null,
      "outputs": []
    },
    {
      "cell_type": "code",
      "metadata": {
        "id": "5xrbGSuUNrtZ",
        "colab": {
          "base_uri": "https://localhost:8080/",
          "height": 35
        },
        "outputId": "77cbb4c4-d83b-4780-89fe-fba537e4f735"
      },
      "source": [
        "set1"
      ],
      "execution_count": null,
      "outputs": [
        {
          "output_type": "execute_result",
          "data": {
            "text/plain": [
              "{1, 2, 3, 4, 5}"
            ]
          },
          "metadata": {
            "tags": []
          },
          "execution_count": 98
        }
      ]
    },
    {
      "cell_type": "code",
      "metadata": {
        "id": "Y5oK_qAxNsPx",
        "colab": {
          "base_uri": "https://localhost:8080/",
          "height": 35
        },
        "outputId": "9ea957c2-1426-460d-bdbc-92310c02acd1"
      },
      "source": [
        "set1|set2"
      ],
      "execution_count": null,
      "outputs": [
        {
          "output_type": "execute_result",
          "data": {
            "text/plain": [
              "{1, 2, 3, 4, 5, 6}"
            ]
          },
          "metadata": {
            "tags": []
          },
          "execution_count": 100
        }
      ]
    },
    {
      "cell_type": "code",
      "metadata": {
        "id": "FRCq14GUNtYZ",
        "colab": {
          "base_uri": "https://localhost:8080/",
          "height": 35
        },
        "outputId": "5ac9032a-1c49-4a8e-aaf1-4fdc1973bb92"
      },
      "source": [
        "set1 - set2"
      ],
      "execution_count": null,
      "outputs": [
        {
          "output_type": "execute_result",
          "data": {
            "text/plain": [
              "{1}"
            ]
          },
          "metadata": {
            "tags": []
          },
          "execution_count": 101
        }
      ]
    },
    {
      "cell_type": "code",
      "metadata": {
        "id": "bOkgygQUN155",
        "colab": {
          "base_uri": "https://localhost:8080/",
          "height": 35
        },
        "outputId": "4a03cd30-7b51-49a5-95c2-a227c1ef5cca"
      },
      "source": [
        "set1 & set2"
      ],
      "execution_count": null,
      "outputs": [
        {
          "output_type": "execute_result",
          "data": {
            "text/plain": [
              "{2, 3, 4, 5}"
            ]
          },
          "metadata": {
            "tags": []
          },
          "execution_count": 102
        }
      ]
    },
    {
      "cell_type": "code",
      "metadata": {
        "id": "35ouEUQEN-TI",
        "colab": {
          "base_uri": "https://localhost:8080/",
          "height": 35
        },
        "outputId": "d758f582-b9b9-40fb-be2b-90f64b507aac"
      },
      "source": [
        "lista5=lista3[2:4]\n",
        "lista5"
      ],
      "execution_count": null,
      "outputs": [
        {
          "output_type": "execute_result",
          "data": {
            "text/plain": [
              "[6400, 2500]"
            ]
          },
          "metadata": {
            "tags": []
          },
          "execution_count": 104
        }
      ]
    },
    {
      "cell_type": "code",
      "metadata": {
        "id": "dVJbqWL_OjOn",
        "colab": {
          "base_uri": "https://localhost:8080/",
          "height": 52
        },
        "outputId": "68da3594-a307-4eb0-cd13-d84a08b71503"
      },
      "source": [
        "for x in lista5:\n",
        "  print(x)"
      ],
      "execution_count": null,
      "outputs": [
        {
          "output_type": "stream",
          "text": [
            "6400\n",
            "2500\n"
          ],
          "name": "stdout"
        }
      ]
    },
    {
      "cell_type": "code",
      "metadata": {
        "id": "O2BltwQkQEEr",
        "colab": {
          "base_uri": "https://localhost:8080/",
          "height": 104
        },
        "outputId": "ed644e7c-ed14-47ce-9206-708d1e95764c"
      },
      "source": [
        "for x in diccionario:\n",
        "  print(\"Key: {}, Value: {}\".format(x,diccionario[x]))"
      ],
      "execution_count": null,
      "outputs": [
        {
          "output_type": "stream",
          "text": [
            "Key: Carlos, Value: Selmo\n",
            "Key: Julián, Value: Ganzabal\n",
            "Key: 7.5, Value: 3\n",
            "Key: 5, Value: ITBA\n",
            "Key: (3, 2), Value: lista\n"
          ],
          "name": "stdout"
        }
      ]
    },
    {
      "cell_type": "code",
      "metadata": {
        "id": "swRRJwNDQGrj",
        "colab": {
          "base_uri": "https://localhost:8080/",
          "height": 55
        },
        "outputId": "c7af8178-4011-47e2-f27c-d3d1f7ea9e06"
      },
      "source": [
        "diccionario.items()"
      ],
      "execution_count": null,
      "outputs": [
        {
          "output_type": "execute_result",
          "data": {
            "text/plain": [
              "dict_items([('Carlos', 'Selmo'), ('Julián', 'Ganzabal'), (7.5, 3), (5, 'ITBA'), ((3, 2), 'lista')])"
            ]
          },
          "metadata": {
            "tags": []
          },
          "execution_count": 111
        }
      ]
    },
    {
      "cell_type": "code",
      "metadata": {
        "id": "WFK25S3-QoYS",
        "colab": {
          "base_uri": "https://localhost:8080/",
          "height": 104
        },
        "outputId": "4ff1ca52-5920-4308-c633-07b7a709da29"
      },
      "source": [
        "for key,value in diccionario.items():\n",
        "  print(\"Key: {}, Value: {}\".format(key,value))"
      ],
      "execution_count": null,
      "outputs": [
        {
          "output_type": "stream",
          "text": [
            "Key: Carlos, Value: Selmo\n",
            "Key: Julián, Value: Ganzabal\n",
            "Key: 7.5, Value: 3\n",
            "Key: 5, Value: ITBA\n",
            "Key: (3, 2), Value: lista\n"
          ],
          "name": "stdout"
        }
      ]
    },
    {
      "cell_type": "code",
      "metadata": {
        "id": "g5Q6Mr7IQxxq"
      },
      "source": [
        "a,b,c,d = (1, 2, 3, 4,5)"
      ],
      "execution_count": null,
      "outputs": []
    },
    {
      "cell_type": "code",
      "metadata": {
        "id": "5YRhe3rTQ7lZ",
        "colab": {
          "base_uri": "https://localhost:8080/",
          "height": 35
        },
        "outputId": "143d2c39-2787-42c1-8534-7b1304ee1319"
      },
      "source": [
        "a"
      ],
      "execution_count": null,
      "outputs": [
        {
          "output_type": "execute_result",
          "data": {
            "text/plain": [
              "1"
            ]
          },
          "metadata": {
            "tags": []
          },
          "execution_count": 114
        }
      ]
    },
    {
      "cell_type": "code",
      "metadata": {
        "id": "4SS3ShqTQ-Th",
        "colab": {
          "base_uri": "https://localhost:8080/",
          "height": 35
        },
        "outputId": "69ffd296-8224-4585-a893-f331e82dabec"
      },
      "source": [
        "b"
      ],
      "execution_count": null,
      "outputs": [
        {
          "output_type": "execute_result",
          "data": {
            "text/plain": [
              "2"
            ]
          },
          "metadata": {
            "tags": []
          },
          "execution_count": 115
        }
      ]
    },
    {
      "cell_type": "code",
      "metadata": {
        "id": "7a3ydhOlQ-px",
        "colab": {
          "base_uri": "https://localhost:8080/",
          "height": 186
        },
        "outputId": "82f734a2-72ec-499b-a782-f5857cfb5dd0"
      },
      "source": [
        "a,b,c,d= (1, 2, 3, 4,5)"
      ],
      "execution_count": null,
      "outputs": [
        {
          "output_type": "error",
          "ename": "ValueError",
          "evalue": "ignored",
          "traceback": [
            "\u001b[0;31m---------------------------------------------------------------------------\u001b[0m",
            "\u001b[0;31mValueError\u001b[0m                                Traceback (most recent call last)",
            "\u001b[0;32m<ipython-input-118-ee05ae5476a5>\u001b[0m in \u001b[0;36m<module>\u001b[0;34m()\u001b[0m\n\u001b[0;32m----> 1\u001b[0;31m \u001b[0ma\u001b[0m\u001b[0;34m,\u001b[0m\u001b[0mb\u001b[0m\u001b[0;34m,\u001b[0m\u001b[0mc\u001b[0m\u001b[0;34m,\u001b[0m\u001b[0md\u001b[0m\u001b[0;34m=\u001b[0m \u001b[0;34m(\u001b[0m\u001b[0;36m1\u001b[0m\u001b[0;34m,\u001b[0m \u001b[0;36m2\u001b[0m\u001b[0;34m,\u001b[0m \u001b[0;36m3\u001b[0m\u001b[0;34m,\u001b[0m \u001b[0;36m4\u001b[0m\u001b[0;34m,\u001b[0m\u001b[0;36m5\u001b[0m\u001b[0;34m)\u001b[0m\u001b[0;34m\u001b[0m\u001b[0;34m\u001b[0m\u001b[0m\n\u001b[0m",
            "\u001b[0;31mValueError\u001b[0m: too many values to unpack (expected 4)"
          ]
        }
      ]
    },
    {
      "cell_type": "code",
      "metadata": {
        "id": "czY7DMLYRCFp"
      },
      "source": [
        "a,b,c,d,_ = (1, 2, 3, 4,5)"
      ],
      "execution_count": null,
      "outputs": []
    },
    {
      "cell_type": "code",
      "metadata": {
        "id": "1cGCQJvhRKLB",
        "colab": {
          "base_uri": "https://localhost:8080/",
          "height": 35
        },
        "outputId": "a4713e14-c19a-49f2-f97f-d659b31cafaf"
      },
      "source": [
        "d"
      ],
      "execution_count": null,
      "outputs": [
        {
          "output_type": "execute_result",
          "data": {
            "text/plain": [
              "4"
            ]
          },
          "metadata": {
            "tags": []
          },
          "execution_count": 120
        }
      ]
    },
    {
      "cell_type": "code",
      "metadata": {
        "id": "8G0SKxCxRK5h",
        "colab": {
          "base_uri": "https://localhost:8080/",
          "height": 35
        },
        "outputId": "920b3c89-47f9-4466-8150-f0ebd7d1e1eb"
      },
      "source": [
        "x=0\n",
        "while (x < 10):\n",
        "  print(x,end=\", \")\n",
        "  x=x+1"
      ],
      "execution_count": null,
      "outputs": [
        {
          "output_type": "stream",
          "text": [
            "0, 1, 2, 3, 4, 5, 6, 7, 8, 9, "
          ],
          "name": "stdout"
        }
      ]
    },
    {
      "cell_type": "code",
      "metadata": {
        "id": "mv4bzT8eRkR4"
      },
      "source": [
        "class complejo:\n",
        "  def __init__(self,real=0,imaginario=0):\n",
        "    self.real=real\n",
        "    self.imaginario=imaginario\n",
        "  def set_real(self,value):\n",
        "    self.real=value\n",
        "  def set_imaginario(self,value):\n",
        "    self.imaginario=value\n",
        "  def mult(self,complejo2):\n",
        "    aux_real=self.real*complejo2.real-self.imaginario*complejo2.imaginario\n",
        "    aux_imaginario=self.real*complejo2.imaginario+self.imaginario*complejo2.real\n",
        "    self.real=aux_real\n",
        "    self.imaginario=aux_imaginario"
      ],
      "execution_count": 7,
      "outputs": []
    },
    {
      "cell_type": "code",
      "metadata": {
        "id": "hSSAuX14SsiV"
      },
      "source": [
        "a=complejo(3,4)"
      ],
      "execution_count": 8,
      "outputs": []
    },
    {
      "cell_type": "code",
      "metadata": {
        "id": "j6mNNJMjSus9",
        "colab": {
          "base_uri": "https://localhost:8080/"
        },
        "outputId": "372cde0d-8f61-4f35-fb9e-bd9f48cacbc7"
      },
      "source": [
        "a.real"
      ],
      "execution_count": 9,
      "outputs": [
        {
          "output_type": "execute_result",
          "data": {
            "text/plain": [
              "3"
            ]
          },
          "metadata": {},
          "execution_count": 9
        }
      ]
    },
    {
      "cell_type": "code",
      "metadata": {
        "id": "bJOJQQk-Svb1",
        "colab": {
          "base_uri": "https://localhost:8080/"
        },
        "outputId": "684e8b96-115f-470b-a7c5-6364d7bd11c5"
      },
      "source": [
        "a.imaginario"
      ],
      "execution_count": 10,
      "outputs": [
        {
          "output_type": "execute_result",
          "data": {
            "text/plain": [
              "4"
            ]
          },
          "metadata": {},
          "execution_count": 10
        }
      ]
    },
    {
      "cell_type": "code",
      "metadata": {
        "id": "c7F_8cHaSyVV"
      },
      "source": [
        "b=complejo(2,3)"
      ],
      "execution_count": 11,
      "outputs": []
    },
    {
      "cell_type": "code",
      "metadata": {
        "id": "F5Rck64fU2LJ"
      },
      "source": [
        "a.mult(b)"
      ],
      "execution_count": 12,
      "outputs": []
    },
    {
      "cell_type": "code",
      "metadata": {
        "id": "-BMHqKQsU9Fo",
        "colab": {
          "base_uri": "https://localhost:8080/"
        },
        "outputId": "35bf0a58-c8d9-4d38-a442-7924c7715a38"
      },
      "source": [
        "a.real"
      ],
      "execution_count": 13,
      "outputs": [
        {
          "output_type": "execute_result",
          "data": {
            "text/plain": [
              "-6"
            ]
          },
          "metadata": {},
          "execution_count": 13
        }
      ]
    },
    {
      "cell_type": "code",
      "metadata": {
        "id": "L8A9EyDGU-X4",
        "colab": {
          "base_uri": "https://localhost:8080/"
        },
        "outputId": "b0c3da5f-f7e6-430f-9b8c-399ff7a95629"
      },
      "source": [
        "a.imaginario"
      ],
      "execution_count": 14,
      "outputs": [
        {
          "output_type": "execute_result",
          "data": {
            "text/plain": [
              "17"
            ]
          },
          "metadata": {},
          "execution_count": 14
        }
      ]
    },
    {
      "cell_type": "code",
      "metadata": {
        "id": "8J94l1D4U_to"
      },
      "source": [
        "def mult(complejo1, complejo2):\n",
        "  salida=complejo()\n",
        "  salida.real=complejo1.real*complejo2.real-complejo1.imaginario*complejo2.imaginario\n",
        "  salida.imaginario=complejo1.real*complejo2.imaginario+complejo1.imaginario*complejo2.real\n",
        "  return salida"
      ],
      "execution_count": 15,
      "outputs": []
    },
    {
      "cell_type": "code",
      "metadata": {
        "id": "CcV6KAoPWUyd"
      },
      "source": [
        "c=mult(a,b)"
      ],
      "execution_count": 16,
      "outputs": []
    },
    {
      "cell_type": "code",
      "metadata": {
        "id": "zoZdc6xKWYs1",
        "colab": {
          "base_uri": "https://localhost:8080/",
          "height": 35
        },
        "outputId": "f2275c23-468f-4cd5-f177-0a81008f542b"
      },
      "source": [
        "c.real"
      ],
      "execution_count": null,
      "outputs": [
        {
          "output_type": "execute_result",
          "data": {
            "text/plain": [
              "-63"
            ]
          },
          "metadata": {
            "tags": []
          },
          "execution_count": 166
        }
      ]
    },
    {
      "cell_type": "code",
      "metadata": {
        "id": "F4iMb9-FWdxN",
        "colab": {
          "base_uri": "https://localhost:8080/",
          "height": 35
        },
        "outputId": "7cd0fc10-43a7-40b8-b4ec-e23201dde85f"
      },
      "source": [
        "c.imaginario"
      ],
      "execution_count": null,
      "outputs": [
        {
          "output_type": "execute_result",
          "data": {
            "text/plain": [
              "16"
            ]
          },
          "metadata": {
            "tags": []
          },
          "execution_count": 167
        }
      ]
    },
    {
      "cell_type": "code",
      "metadata": {
        "id": "_d_74hAVWgId",
        "colab": {
          "base_uri": "https://localhost:8080/",
          "height": 54
        },
        "outputId": "7d8cbc98-722c-48f8-80ca-47845dd04fbf"
      },
      "source": [
        "import numpy as np\n",
        "aux=[3,2,1]\n",
        "aux2=aux[::-1]\n",
        "a = np.array([aux,aux2])\n",
        "a "
      ],
      "execution_count": null,
      "outputs": [
        {
          "output_type": "execute_result",
          "data": {
            "text/plain": [
              "array([[3, 2, 1],\n",
              "       [1, 2, 3]])"
            ]
          },
          "metadata": {
            "tags": []
          },
          "execution_count": 170
        }
      ]
    },
    {
      "cell_type": "code",
      "metadata": {
        "id": "o1ctPv3LXS7r",
        "colab": {
          "base_uri": "https://localhost:8080/",
          "height": 35
        },
        "outputId": "d2c91fe0-591b-4f6d-d062-9cfbb1434a5c"
      },
      "source": [
        "a.max()\n"
      ],
      "execution_count": null,
      "outputs": [
        {
          "output_type": "execute_result",
          "data": {
            "text/plain": [
              "3"
            ]
          },
          "metadata": {
            "tags": []
          },
          "execution_count": 171
        }
      ]
    },
    {
      "cell_type": "code",
      "metadata": {
        "id": "wvEgSRyKXW1D"
      },
      "source": [
        "b=a[:,0:2].copy()"
      ],
      "execution_count": null,
      "outputs": []
    },
    {
      "cell_type": "code",
      "metadata": {
        "id": "fEFgZ-rkX0Ha",
        "colab": {
          "base_uri": "https://localhost:8080/",
          "height": 54
        },
        "outputId": "b715f108-cbec-4fa1-ccdd-338af2d03391"
      },
      "source": [
        "b"
      ],
      "execution_count": null,
      "outputs": [
        {
          "output_type": "execute_result",
          "data": {
            "text/plain": [
              "array([[10000,     2],\n",
              "       [    1,     2]])"
            ]
          },
          "metadata": {
            "tags": []
          },
          "execution_count": 187
        }
      ]
    },
    {
      "cell_type": "code",
      "metadata": {
        "id": "lvmJYnnSYXqQ",
        "colab": {
          "base_uri": "https://localhost:8080/",
          "height": 54
        },
        "outputId": "69c4e04a-203a-42ae-9865-e6ab738b23c5"
      },
      "source": [
        "a"
      ],
      "execution_count": null,
      "outputs": [
        {
          "output_type": "execute_result",
          "data": {
            "text/plain": [
              "array([[10000,     2,     1],\n",
              "       [    1,     2,     3]])"
            ]
          },
          "metadata": {
            "tags": []
          },
          "execution_count": 188
        }
      ]
    },
    {
      "cell_type": "code",
      "metadata": {
        "id": "RGgn1H7CYk4I",
        "colab": {
          "base_uri": "https://localhost:8080/",
          "height": 54
        },
        "outputId": "5ca92c87-c29d-4117-fc78-04defc302aab"
      },
      "source": [
        "b[0,0]=10\n",
        "b"
      ],
      "execution_count": null,
      "outputs": [
        {
          "output_type": "execute_result",
          "data": {
            "text/plain": [
              "array([[10,  2],\n",
              "       [ 1,  2]])"
            ]
          },
          "metadata": {
            "tags": []
          },
          "execution_count": 190
        }
      ]
    },
    {
      "cell_type": "code",
      "metadata": {
        "id": "UDfqXFJRYqqQ",
        "colab": {
          "base_uri": "https://localhost:8080/",
          "height": 54
        },
        "outputId": "8fe9e389-5c7c-4c08-f8f9-ddc13e6d08ca"
      },
      "source": [
        "a"
      ],
      "execution_count": null,
      "outputs": [
        {
          "output_type": "execute_result",
          "data": {
            "text/plain": [
              "array([[10000,     2,     1],\n",
              "       [    1,     2,     3]])"
            ]
          },
          "metadata": {
            "tags": []
          },
          "execution_count": 191
        }
      ]
    },
    {
      "cell_type": "code",
      "metadata": {
        "id": "xwbhTYTTYrRo",
        "colab": {
          "base_uri": "https://localhost:8080/",
          "height": 347
        },
        "outputId": "8977a10d-4812-48ee-b9ae-0fb91f782d3b"
      },
      "source": [
        "import matplotlib.pyplot as plt\n",
        "plt.plot([1,2,3,4])\n",
        "plt.ylabel('some numbers')\n",
        "plt.show()"
      ],
      "execution_count": null,
      "outputs": [
        {
          "output_type": "display_data",
          "data": {
            "image/png": "[encoded data removed]",
            "text/plain": [
              "<Figure size 576x396 with 1 Axes>"
            ]
          },
          "metadata": {
            "tags": []
          }
        }
      ]
    },
    {
      "cell_type": "code",
      "metadata": {
        "id": "tV02olG5ZTT3"
      },
      "source": [
        "x=[i/100 for i in range(0,100)]\n",
        "y=[i**2 for i in x]\n",
        "y2=[i**3 for i in x]"
      ],
      "execution_count": null,
      "outputs": []
    },
    {
      "cell_type": "code",
      "metadata": {
        "id": "_Zq-jtU5ZpFu",
        "colab": {
          "base_uri": "https://localhost:8080/",
          "height": 347
        },
        "outputId": "a50aed6e-3b8a-4a3e-f220-d856781b8227"
      },
      "source": [
        "plt.plot(x,y,label='cuadratica')\n",
        "plt.plot(x,y2,label='cúbica')\n",
        "plt.ylabel('y')\n",
        "plt.legend()\n",
        "plt.show()"
      ],
      "execution_count": null,
      "outputs": [
        {
          "output_type": "display_data",
          "data": {
            "image/png": "[encoded data removed]",
            "text/plain": [
              "<Figure size 576x396 with 1 Axes>"
            ]
          },
          "metadata": {
            "tags": []
          }
        }
      ]
    },
    {
      "cell_type": "code",
      "metadata": {
        "id": "DyeGYiPYZ2Hl"
      },
      "source": [
        "z=np.array([[1,\"hola\"]])"
      ],
      "execution_count": null,
      "outputs": []
    },
    {
      "cell_type": "code",
      "metadata": {
        "id": "F4qlnCH2ayIT",
        "colab": {
          "base_uri": "https://localhost:8080/",
          "height": 35
        },
        "outputId": "aab5c82b-160f-463b-b825-f5068118aa37"
      },
      "source": [
        "z"
      ],
      "execution_count": null,
      "outputs": [
        {
          "output_type": "execute_result",
          "data": {
            "text/plain": [
              "array([['1', 'hola']], dtype='<U21')"
            ]
          },
          "metadata": {
            "tags": []
          },
          "execution_count": 206
        }
      ]
    }
  ]
}