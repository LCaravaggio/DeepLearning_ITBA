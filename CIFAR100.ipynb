{
  "nbformat": 4,
  "nbformat_minor": 0,
  "metadata": {
    "colab": {
      "name": "CIFAR100.ipynb",
      "provenance": [],
      "authorship_tag": "ABX9TyMBhQfRfjhO9NVhGYdFF5cm",
      "include_colab_link": true
    },
    "kernelspec": {
      "name": "python3",
      "display_name": "Python 3"
    },
    "language_info": {
      "name": "python"
    },
    "accelerator": "TPU"
  },
  "cells": [
    {
      "cell_type": "markdown",
      "metadata": {
        "id": "view-in-github",
        "colab_type": "text"
      },
      "source": [
        "<a href=\"https://colab.research.google.com/github/LCaravaggio/DeepLearning_ITBA/blob/main/CIFAR100.ipynb\" target=\"_parent\"><img src=\"https://colab.research.google.com/assets/colab-badge.svg\" alt=\"Open In Colab\"/></a>"
      ]
    },
    {
      "cell_type": "code",
      "metadata": {
        "id": "ZeO-XnUWcM56",
        "outputId": "b1928145-78f5-42fd-9d15-9f16ab2a5aff",
        "colab": {
          "base_uri": "https://localhost:8080/"
        }
      },
      "source": [
        "import json\n",
        "from google.colab import drive\n",
        "\n",
        "!mkdir ~/.kaggle\n",
        "!touch ~/.kaggle/kaggle.json\n",
        "\n",
        "drive.mount('/content/drive', force_remount=True)\n",
        "with open(\"/content/drive/My Drive/kaggle.json\", 'r') as f:\n",
        "    api_token= json.load(f)\n",
        "\n",
        "with open('/root/.kaggle/kaggle.json', 'w') as file:\n",
        "    json.dump(api_token, file)\n",
        "\n",
        "!chmod 600 ~/.kaggle/kaggle.json\n",
        "\n",
        "!kaggle competitions download -c cifar100-dl-itba-2020q2"
      ],
      "execution_count": 1,
      "outputs": [
        {
          "output_type": "stream",
          "text": [
            "Mounted at /content/drive\n",
            "Warning: Looks like you're using an outdated API Version, please consider updating (server 1.5.12 / client 1.5.4)\n",
            "Downloading y_train_fine.npy to /content\n",
            "  0% 0.00/391k [00:00<?, ?B/s]\n",
            "100% 391k/391k [00:00<00:00, 52.6MB/s]\n",
            "Downloading x_train.npy.zip to /content\n",
            " 99% 132M/134M [00:02<00:00, 64.1MB/s]\n",
            "100% 134M/134M [00:02<00:00, 50.3MB/s]\n",
            "Downloading y_train_coarse.npy to /content\n",
            "  0% 0.00/391k [00:00<?, ?B/s]\n",
            "100% 391k/391k [00:00<00:00, 124MB/s]\n",
            "Downloading coarse_label_names.pck to /content\n",
            "  0% 0.00/456 [00:00<?, ?B/s]\n",
            "100% 456/456 [00:00<00:00, 276kB/s]\n",
            "Downloading fine_label_names.pck to /content\n",
            "  0% 0.00/1.30k [00:00<?, ?B/s]\n",
            "100% 1.30k/1.30k [00:00<00:00, 1.27MB/s]\n",
            "Downloading x_test.npy.zip to /content\n",
            " 64% 17.0M/26.8M [00:00<00:00, 57.9MB/s]\n",
            "100% 26.8M/26.8M [00:00<00:00, 76.5MB/s]\n"
          ],
          "name": "stdout"
        }
      ]
    },
    {
      "cell_type": "code",
      "metadata": {
        "id": "PnQijU-EdFgw"
      },
      "source": [
        "import zipfile\n",
        "import os\n",
        "\n",
        "os.listdir()\n",
        "\n",
        "for file in os.listdir():\n",
        "    if file.endswith('.zip'):\n",
        "      zip_ref = zipfile.ZipFile(file, 'r')\n",
        "      zip_ref.extractall()\n",
        "      zip_ref.close()"
      ],
      "execution_count": 2,
      "outputs": []
    },
    {
      "cell_type": "code",
      "metadata": {
        "id": "hPr2BwGyckC_"
      },
      "source": [
        "import numpy as np\n",
        "\n",
        "x_test=np.load(\"x_test.npy\")\n",
        "x_train=np.load(\"x_train.npy\")\n",
        "y_train_coarse=np.load(\"y_train_coarse.npy\")\n",
        "y_train_fine=np.load(\"y_train_fine.npy\")\n",
        "\n",
        "#for file in os.listdir():\n",
        "#    if file.endswith('.npy'):\n",
        "#      np.load(file)"
      ],
      "execution_count": 49,
      "outputs": []
    },
    {
      "cell_type": "code",
      "metadata": {
        "id": "XFiF8zoh-Cwt"
      },
      "source": [
        "def norm (x): \n",
        "  return (x-np.mean(x))/np.std(x)\n",
        "\n",
        "x_test=norm(x_test)\n",
        "x_train=norm(x_train)\n",
        "y_train_coarse=norm(y_train_coarse)\n",
        "y_train_fine=norm(y_train_fine)"
      ],
      "execution_count": 97,
      "outputs": []
    },
    {
      "cell_type": "code",
      "metadata": {
        "id": "4GESG4ir1Py4",
        "outputId": "cf71def7-041e-4832-bc19-4ffa2b007ff8",
        "colab": {
          "base_uri": "https://localhost:8080/"
        }
      },
      "source": [
        "if not os.path.exists('mlp_helper.py'):\n",
        "     !wget https://github.com/lab-ml-itba/MLP-2019/raw/master/mlp_helper.py\n",
        "     !wget https://github.com/lab-ml-itba/MLP-2019/raw/master/fnn_helper.py\n",
        "     !wget https://github.com/lab-ml-itba/MLP-2019/raw/master/MNIST_helper.py\n",
        "     !wget https://github.com/lab-ml-itba/MLP-2019/raw/master/draw_nn.py"
      ],
      "execution_count": 6,
      "outputs": [
        {
          "output_type": "stream",
          "text": [
            "--2021-06-03 22:23:37--  https://github.com/lab-ml-itba/MLP-2019/raw/master/mlp_helper.py\n",
            "Resolving github.com (github.com)... 140.82.112.4\n",
            "Connecting to github.com (github.com)|140.82.112.4|:443... connected.\n",
            "HTTP request sent, awaiting response... 302 Found\n",
            "Location: https://raw.githubusercontent.com/lab-ml-itba/MLP-2019/master/mlp_helper.py [following]\n",
            "--2021-06-03 22:23:37--  https://raw.githubusercontent.com/lab-ml-itba/MLP-2019/master/mlp_helper.py\n",
            "Resolving raw.githubusercontent.com (raw.githubusercontent.com)... 185.199.108.133, 185.199.109.133, 185.199.110.133, ...\n",
            "Connecting to raw.githubusercontent.com (raw.githubusercontent.com)|185.199.108.133|:443... connected.\n",
            "HTTP request sent, awaiting response... 200 OK\n",
            "Length: 13863 (14K) [text/plain]\n",
            "Saving to: ‘mlp_helper.py’\n",
            "\n",
            "mlp_helper.py       100%[===================>]  13.54K  --.-KB/s    in 0s      \n",
            "\n",
            "2021-06-03 22:23:37 (41.8 MB/s) - ‘mlp_helper.py’ saved [13863/13863]\n",
            "\n",
            "--2021-06-03 22:23:37--  https://github.com/lab-ml-itba/MLP-2019/raw/master/fnn_helper.py\n",
            "Resolving github.com (github.com)... 140.82.112.4\n",
            "Connecting to github.com (github.com)|140.82.112.4|:443... connected.\n",
            "HTTP request sent, awaiting response... 302 Found\n",
            "Location: https://raw.githubusercontent.com/lab-ml-itba/MLP-2019/master/fnn_helper.py [following]\n",
            "--2021-06-03 22:23:37--  https://raw.githubusercontent.com/lab-ml-itba/MLP-2019/master/fnn_helper.py\n",
            "Resolving raw.githubusercontent.com (raw.githubusercontent.com)... 185.199.108.133, 185.199.109.133, 185.199.110.133, ...\n",
            "Connecting to raw.githubusercontent.com (raw.githubusercontent.com)|185.199.108.133|:443... connected.\n",
            "HTTP request sent, awaiting response... 200 OK\n",
            "Length: 2649 (2.6K) [text/plain]\n",
            "Saving to: ‘fnn_helper.py’\n",
            "\n",
            "fnn_helper.py       100%[===================>]   2.59K  --.-KB/s    in 0s      \n",
            "\n",
            "2021-06-03 22:23:38 (42.5 MB/s) - ‘fnn_helper.py’ saved [2649/2649]\n",
            "\n",
            "--2021-06-03 22:23:38--  https://github.com/lab-ml-itba/MLP-2019/raw/master/MNIST_helper.py\n",
            "Resolving github.com (github.com)... 140.82.112.4\n",
            "Connecting to github.com (github.com)|140.82.112.4|:443... connected.\n",
            "HTTP request sent, awaiting response... 302 Found\n",
            "Location: https://raw.githubusercontent.com/lab-ml-itba/MLP-2019/master/MNIST_helper.py [following]\n",
            "--2021-06-03 22:23:38--  https://raw.githubusercontent.com/lab-ml-itba/MLP-2019/master/MNIST_helper.py\n",
            "Resolving raw.githubusercontent.com (raw.githubusercontent.com)... 185.199.108.133, 185.199.109.133, 185.199.110.133, ...\n",
            "Connecting to raw.githubusercontent.com (raw.githubusercontent.com)|185.199.108.133|:443... connected.\n",
            "HTTP request sent, awaiting response... 200 OK\n",
            "Length: 1347 (1.3K) [text/plain]\n",
            "Saving to: ‘MNIST_helper.py’\n",
            "\n",
            "MNIST_helper.py     100%[===================>]   1.32K  --.-KB/s    in 0s      \n",
            "\n",
            "2021-06-03 22:23:38 (76.6 MB/s) - ‘MNIST_helper.py’ saved [1347/1347]\n",
            "\n",
            "--2021-06-03 22:23:38--  https://github.com/lab-ml-itba/MLP-2019/raw/master/draw_nn.py\n",
            "Resolving github.com (github.com)... 140.82.112.4\n",
            "Connecting to github.com (github.com)|140.82.112.4|:443... connected.\n",
            "HTTP request sent, awaiting response... 302 Found\n",
            "Location: https://raw.githubusercontent.com/lab-ml-itba/MLP-2019/master/draw_nn.py [following]\n",
            "--2021-06-03 22:23:38--  https://raw.githubusercontent.com/lab-ml-itba/MLP-2019/master/draw_nn.py\n",
            "Resolving raw.githubusercontent.com (raw.githubusercontent.com)... 185.199.108.133, 185.199.109.133, 185.199.110.133, ...\n",
            "Connecting to raw.githubusercontent.com (raw.githubusercontent.com)|185.199.108.133|:443... connected.\n",
            "HTTP request sent, awaiting response... 200 OK\n",
            "Length: 4082 (4.0K) [text/plain]\n",
            "Saving to: ‘draw_nn.py’\n",
            "\n",
            "draw_nn.py          100%[===================>]   3.99K  --.-KB/s    in 0s      \n",
            "\n",
            "2021-06-03 22:23:38 (37.2 MB/s) - ‘draw_nn.py’ saved [4082/4082]\n",
            "\n"
          ],
          "name": "stdout"
        }
      ]
    },
    {
      "cell_type": "code",
      "metadata": {
        "id": "yANthPfw0yNs"
      },
      "source": [
        "import os.path\n",
        "import tensorflow.keras\n",
        "import numpy as np\n",
        "from matplotlib import pyplot as plt\n",
        "from fnn_helper import PlotLosses\n",
        "from MNIST_helper import plot_numbers, visualize_input\n",
        "from tensorflow.keras.datasets import mnist\n",
        "from tensorflow.keras.models import Sequential, Model\n",
        "from tensorflow.keras.layers import Flatten, Dense, Activation, Dropout\n",
        "from tensorflow.keras.optimizers import Adam, SGD, RMSprop\n",
        "from tensorflow.keras.callbacks import ModelCheckpoint\n",
        "# from tensorflow.keras.layers.advanced_activations import LeakyReLU\n",
        "from fnn_helper import PlotLosses\n",
        "#from keras_contrib.callbacks import CyclicLR\n",
        "from matplotlib import pyplot as plt\n",
        "from mlp_helper import plot_confusion_matrix\n",
        "#import draw_nn"
      ],
      "execution_count": 56,
      "outputs": []
    },
    {
      "cell_type": "code",
      "metadata": {
        "id": "Ac47kFu8_tJT",
        "outputId": "ccf37c62-b474-4c67-896e-617d77f43f9d",
        "colab": {
          "base_uri": "https://localhost:8080/"
        }
      },
      "source": [
        "np.unique(y_train_fine)"
      ],
      "execution_count": 9,
      "outputs": [
        {
          "output_type": "execute_result",
          "data": {
            "text/plain": [
              "array([-1.71481604, -1.68017329, -1.64553055, -1.6108878 , -1.57624505,\n",
              "       -1.5416023 , -1.50695955, -1.4723168 , -1.43767406, -1.40303131,\n",
              "       -1.36838856, -1.33374581, -1.29910306, -1.26446031, -1.22981757,\n",
              "       -1.19517482, -1.16053207, -1.12588932, -1.09124657, -1.05660382,\n",
              "       -1.02196108, -0.98731833, -0.95267558, -0.91803283, -0.88339008,\n",
              "       -0.84874733, -0.81410459, -0.77946184, -0.74481909, -0.71017634,\n",
              "       -0.67553359, -0.64089084, -0.6062481 , -0.57160535, -0.5369626 ,\n",
              "       -0.50231985, -0.4676771 , -0.43303435, -0.39839161, -0.36374886,\n",
              "       -0.32910611, -0.29446336, -0.25982061, -0.22517786, -0.19053512,\n",
              "       -0.15589237, -0.12124962, -0.08660687, -0.05196412, -0.01732137,\n",
              "        0.01732137,  0.05196412,  0.08660687,  0.12124962,  0.15589237,\n",
              "        0.19053512,  0.22517786,  0.25982061,  0.29446336,  0.32910611,\n",
              "        0.36374886,  0.39839161,  0.43303435,  0.4676771 ,  0.50231985,\n",
              "        0.5369626 ,  0.57160535,  0.6062481 ,  0.64089084,  0.67553359,\n",
              "        0.71017634,  0.74481909,  0.77946184,  0.81410459,  0.84874733,\n",
              "        0.88339008,  0.91803283,  0.95267558,  0.98731833,  1.02196108,\n",
              "        1.05660382,  1.09124657,  1.12588932,  1.16053207,  1.19517482,\n",
              "        1.22981757,  1.26446031,  1.29910306,  1.33374581,  1.36838856,\n",
              "        1.40303131,  1.43767406,  1.4723168 ,  1.50695955,  1.5416023 ,\n",
              "        1.57624505,  1.6108878 ,  1.64553055,  1.68017329,  1.71481604])"
            ]
          },
          "metadata": {
            "tags": []
          },
          "execution_count": 9
        }
      ]
    },
    {
      "cell_type": "code",
      "metadata": {
        "id": "c02SoXBZfD6-"
      },
      "source": [
        "def get_model(activations=['tanh', 'sigmoid']):\n",
        "    output_size = 100\n",
        "    model_plane = Sequential()\n",
        "    model_plane.add(Flatten(input_shape=x_train.shape[1:]))\n",
        "    model_plane.add(Dense(1000, activation=activations[0],  name='middle1', kernel_initializer='normal'))\n",
        "    model_plane.add(Dropout(0.5))\n",
        "    model_plane.add(Dense(750, activation=activations[1],  name='middle2', kernel_initializer='normal'))\n",
        "    model_plane.add(Dropout(0.5))\n",
        "    #model_plane.add(LeakyReLU())\n",
        "    #model_plane.add(LeakyReLU())\n",
        "    model_plane.add(Dense(output_size, activation='softmax',  kernel_initializer='normal', name='salida'))\n",
        "    return model_plane"
      ],
      "execution_count": 73,
      "outputs": []
    },
    {
      "cell_type": "code",
      "metadata": {
        "id": "_bqmcGfVtKyN",
        "outputId": "922b2533-4779-4bcf-a26d-01d80c50284d",
        "colab": {
          "base_uri": "https://localhost:8080/"
        }
      },
      "source": [
        "model_plane = get_model(['tanh', 'sigmoid'])\n",
        "model_plane.summary()"
      ],
      "execution_count": 74,
      "outputs": [
        {
          "output_type": "stream",
          "text": [
            "Model: \"sequential_13\"\n",
            "_________________________________________________________________\n",
            "Layer (type)                 Output Shape              Param #   \n",
            "=================================================================\n",
            "flatten_13 (Flatten)         (None, 3072)              0         \n",
            "_________________________________________________________________\n",
            "middle1 (Dense)              (None, 1000)              3073000   \n",
            "_________________________________________________________________\n",
            "dropout_2 (Dropout)          (None, 1000)              0         \n",
            "_________________________________________________________________\n",
            "middle2 (Dense)              (None, 750)               750750    \n",
            "_________________________________________________________________\n",
            "dropout_3 (Dropout)          (None, 750)               0         \n",
            "_________________________________________________________________\n",
            "salida (Dense)               (None, 100)               75100     \n",
            "=================================================================\n",
            "Total params: 3,898,850\n",
            "Trainable params: 3,898,850\n",
            "Non-trainable params: 0\n",
            "_________________________________________________________________\n"
          ],
          "name": "stdout"
        }
      ]
    },
    {
      "cell_type": "code",
      "metadata": {
        "id": "GbNFK9UXpyrU"
      },
      "source": [
        "batch_size=2"
      ],
      "execution_count": 115,
      "outputs": []
    },
    {
      "cell_type": "code",
      "metadata": {
        "id": "u3QSQjpb1F58"
      },
      "source": [
        "model_plane = get_model()\n",
        "\n",
        "checkpointer = ModelCheckpoint(filepath='two-layer-2d.mnist.hdf5', verbose=1, save_best_only=True, mode='max', monitor='val_accuracy')\n",
        "plot_losses = PlotLosses(plot_interval=1, evaluate_interval=None, x_val=x_train, y_val_categorical=y_train_fine)\n",
        "# clr = CyclicLR(1e-6, 1e-4, 8*int(len(x_train)/batch_size))"
      ],
      "execution_count": 116,
      "outputs": []
    },
    {
      "cell_type": "code",
      "metadata": {
        "id": "qpzS10SA1hTD"
      },
      "source": [
        "optim = Adam(learning_rate=0.01) # 1e-06\n",
        "model_plane.compile(loss=\"mse\", optimizer=optim, metrics=['accuracy'])"
      ],
      "execution_count": 117,
      "outputs": []
    },
    {
      "cell_type": "code",
      "metadata": {
        "id": "bkj6iiKx1jun",
        "outputId": "de5ccbbc-1eee-4b71-9c15-fc04381012f6",
        "colab": {
          "base_uri": "https://localhost:8080/",
          "height": 392
        }
      },
      "source": [
        "model_plane.fit(x_train, \n",
        "          y_train_fine ,\n",
        "          epochs=10, batch_size=batch_size, \n",
        "          #verbose=1, \n",
        "          validation_data=(x_train, y_train_fine), \n",
        "          callbacks=[checkpointer],\n",
        "         )"
      ],
      "execution_count": 118,
      "outputs": [
        {
          "output_type": "stream",
          "text": [
            "Epoch 1/10\n",
            "  344/25000 [..............................] - ETA: 8:55 - loss: 0.9887 - accuracy: 0.0000e+00"
          ],
          "name": "stdout"
        },
        {
          "output_type": "error",
          "ename": "KeyboardInterrupt",
          "evalue": "ignored",
          "traceback": [
            "\u001b[0;31m---------------------------------------------------------------------------\u001b[0m",
            "\u001b[0;31mKeyboardInterrupt\u001b[0m                         Traceback (most recent call last)",
            "\u001b[0;32m<ipython-input-118-4718feb869cb>\u001b[0m in \u001b[0;36m<module>\u001b[0;34m()\u001b[0m\n\u001b[1;32m      4\u001b[0m           \u001b[0;31m#verbose=1,\u001b[0m\u001b[0;34m\u001b[0m\u001b[0;34m\u001b[0m\u001b[0;34m\u001b[0m\u001b[0m\n\u001b[1;32m      5\u001b[0m           \u001b[0mvalidation_data\u001b[0m\u001b[0;34m=\u001b[0m\u001b[0;34m(\u001b[0m\u001b[0mx_train\u001b[0m\u001b[0;34m,\u001b[0m \u001b[0my_train_fine\u001b[0m\u001b[0;34m)\u001b[0m\u001b[0;34m,\u001b[0m\u001b[0;34m\u001b[0m\u001b[0;34m\u001b[0m\u001b[0m\n\u001b[0;32m----> 6\u001b[0;31m           \u001b[0mcallbacks\u001b[0m\u001b[0;34m=\u001b[0m\u001b[0;34m[\u001b[0m\u001b[0mcheckpointer\u001b[0m\u001b[0;34m]\u001b[0m\u001b[0;34m,\u001b[0m\u001b[0;34m\u001b[0m\u001b[0;34m\u001b[0m\u001b[0m\n\u001b[0m\u001b[1;32m      7\u001b[0m          )\n",
            "\u001b[0;32m/usr/local/lib/python3.7/dist-packages/tensorflow/python/keras/engine/training.py\u001b[0m in \u001b[0;36mfit\u001b[0;34m(self, x, y, batch_size, epochs, verbose, callbacks, validation_split, validation_data, shuffle, class_weight, sample_weight, initial_epoch, steps_per_epoch, validation_steps, validation_batch_size, validation_freq, max_queue_size, workers, use_multiprocessing)\u001b[0m\n\u001b[1;32m   1181\u001b[0m                 _r=1):\n\u001b[1;32m   1182\u001b[0m               \u001b[0mcallbacks\u001b[0m\u001b[0;34m.\u001b[0m\u001b[0mon_train_batch_begin\u001b[0m\u001b[0;34m(\u001b[0m\u001b[0mstep\u001b[0m\u001b[0;34m)\u001b[0m\u001b[0;34m\u001b[0m\u001b[0;34m\u001b[0m\u001b[0m\n\u001b[0;32m-> 1183\u001b[0;31m               \u001b[0mtmp_logs\u001b[0m \u001b[0;34m=\u001b[0m \u001b[0mself\u001b[0m\u001b[0;34m.\u001b[0m\u001b[0mtrain_function\u001b[0m\u001b[0;34m(\u001b[0m\u001b[0miterator\u001b[0m\u001b[0;34m)\u001b[0m\u001b[0;34m\u001b[0m\u001b[0;34m\u001b[0m\u001b[0m\n\u001b[0m\u001b[1;32m   1184\u001b[0m               \u001b[0;32mif\u001b[0m \u001b[0mdata_handler\u001b[0m\u001b[0;34m.\u001b[0m\u001b[0mshould_sync\u001b[0m\u001b[0;34m:\u001b[0m\u001b[0;34m\u001b[0m\u001b[0;34m\u001b[0m\u001b[0m\n\u001b[1;32m   1185\u001b[0m                 \u001b[0mcontext\u001b[0m\u001b[0;34m.\u001b[0m\u001b[0masync_wait\u001b[0m\u001b[0;34m(\u001b[0m\u001b[0;34m)\u001b[0m\u001b[0;34m\u001b[0m\u001b[0;34m\u001b[0m\u001b[0m\n",
            "\u001b[0;32m/usr/local/lib/python3.7/dist-packages/tensorflow/python/eager/def_function.py\u001b[0m in \u001b[0;36m__call__\u001b[0;34m(self, *args, **kwds)\u001b[0m\n\u001b[1;32m    887\u001b[0m \u001b[0;34m\u001b[0m\u001b[0m\n\u001b[1;32m    888\u001b[0m       \u001b[0;32mwith\u001b[0m \u001b[0mOptionalXlaContext\u001b[0m\u001b[0;34m(\u001b[0m\u001b[0mself\u001b[0m\u001b[0;34m.\u001b[0m\u001b[0m_jit_compile\u001b[0m\u001b[0;34m)\u001b[0m\u001b[0;34m:\u001b[0m\u001b[0;34m\u001b[0m\u001b[0;34m\u001b[0m\u001b[0m\n\u001b[0;32m--> 889\u001b[0;31m         \u001b[0mresult\u001b[0m \u001b[0;34m=\u001b[0m \u001b[0mself\u001b[0m\u001b[0;34m.\u001b[0m\u001b[0m_call\u001b[0m\u001b[0;34m(\u001b[0m\u001b[0;34m*\u001b[0m\u001b[0margs\u001b[0m\u001b[0;34m,\u001b[0m \u001b[0;34m**\u001b[0m\u001b[0mkwds\u001b[0m\u001b[0;34m)\u001b[0m\u001b[0;34m\u001b[0m\u001b[0;34m\u001b[0m\u001b[0m\n\u001b[0m\u001b[1;32m    890\u001b[0m \u001b[0;34m\u001b[0m\u001b[0m\n\u001b[1;32m    891\u001b[0m       \u001b[0mnew_tracing_count\u001b[0m \u001b[0;34m=\u001b[0m \u001b[0mself\u001b[0m\u001b[0;34m.\u001b[0m\u001b[0mexperimental_get_tracing_count\u001b[0m\u001b[0;34m(\u001b[0m\u001b[0;34m)\u001b[0m\u001b[0;34m\u001b[0m\u001b[0;34m\u001b[0m\u001b[0m\n",
            "\u001b[0;32m/usr/local/lib/python3.7/dist-packages/tensorflow/python/eager/def_function.py\u001b[0m in \u001b[0;36m_call\u001b[0;34m(self, *args, **kwds)\u001b[0m\n\u001b[1;32m    915\u001b[0m       \u001b[0;31m# In this case we have created variables on the first call, so we run the\u001b[0m\u001b[0;34m\u001b[0m\u001b[0;34m\u001b[0m\u001b[0;34m\u001b[0m\u001b[0m\n\u001b[1;32m    916\u001b[0m       \u001b[0;31m# defunned version which is guaranteed to never create variables.\u001b[0m\u001b[0;34m\u001b[0m\u001b[0;34m\u001b[0m\u001b[0;34m\u001b[0m\u001b[0m\n\u001b[0;32m--> 917\u001b[0;31m       \u001b[0;32mreturn\u001b[0m \u001b[0mself\u001b[0m\u001b[0;34m.\u001b[0m\u001b[0m_stateless_fn\u001b[0m\u001b[0;34m(\u001b[0m\u001b[0;34m*\u001b[0m\u001b[0margs\u001b[0m\u001b[0;34m,\u001b[0m \u001b[0;34m**\u001b[0m\u001b[0mkwds\u001b[0m\u001b[0;34m)\u001b[0m  \u001b[0;31m# pylint: disable=not-callable\u001b[0m\u001b[0;34m\u001b[0m\u001b[0;34m\u001b[0m\u001b[0m\n\u001b[0m\u001b[1;32m    918\u001b[0m     \u001b[0;32melif\u001b[0m \u001b[0mself\u001b[0m\u001b[0;34m.\u001b[0m\u001b[0m_stateful_fn\u001b[0m \u001b[0;32mis\u001b[0m \u001b[0;32mnot\u001b[0m \u001b[0;32mNone\u001b[0m\u001b[0;34m:\u001b[0m\u001b[0;34m\u001b[0m\u001b[0;34m\u001b[0m\u001b[0m\n\u001b[1;32m    919\u001b[0m       \u001b[0;31m# Release the lock early so that multiple threads can perform the call\u001b[0m\u001b[0;34m\u001b[0m\u001b[0;34m\u001b[0m\u001b[0;34m\u001b[0m\u001b[0m\n",
            "\u001b[0;32m/usr/local/lib/python3.7/dist-packages/tensorflow/python/eager/function.py\u001b[0m in \u001b[0;36m__call__\u001b[0;34m(self, *args, **kwargs)\u001b[0m\n\u001b[1;32m   3022\u001b[0m        filtered_flat_args) = self._maybe_define_function(args, kwargs)\n\u001b[1;32m   3023\u001b[0m     return graph_function._call_flat(\n\u001b[0;32m-> 3024\u001b[0;31m         filtered_flat_args, captured_inputs=graph_function.captured_inputs)  # pylint: disable=protected-access\n\u001b[0m\u001b[1;32m   3025\u001b[0m \u001b[0;34m\u001b[0m\u001b[0m\n\u001b[1;32m   3026\u001b[0m   \u001b[0;34m@\u001b[0m\u001b[0mproperty\u001b[0m\u001b[0;34m\u001b[0m\u001b[0;34m\u001b[0m\u001b[0m\n",
            "\u001b[0;32m/usr/local/lib/python3.7/dist-packages/tensorflow/python/eager/function.py\u001b[0m in \u001b[0;36m_call_flat\u001b[0;34m(self, args, captured_inputs, cancellation_manager)\u001b[0m\n\u001b[1;32m   1959\u001b[0m       \u001b[0;31m# No tape is watching; skip to running the function.\u001b[0m\u001b[0;34m\u001b[0m\u001b[0;34m\u001b[0m\u001b[0;34m\u001b[0m\u001b[0m\n\u001b[1;32m   1960\u001b[0m       return self._build_call_outputs(self._inference_function.call(\n\u001b[0;32m-> 1961\u001b[0;31m           ctx, args, cancellation_manager=cancellation_manager))\n\u001b[0m\u001b[1;32m   1962\u001b[0m     forward_backward = self._select_forward_and_backward_functions(\n\u001b[1;32m   1963\u001b[0m         \u001b[0margs\u001b[0m\u001b[0;34m,\u001b[0m\u001b[0;34m\u001b[0m\u001b[0;34m\u001b[0m\u001b[0m\n",
            "\u001b[0;32m/usr/local/lib/python3.7/dist-packages/tensorflow/python/eager/function.py\u001b[0m in \u001b[0;36mcall\u001b[0;34m(self, ctx, args, cancellation_manager)\u001b[0m\n\u001b[1;32m    594\u001b[0m               \u001b[0minputs\u001b[0m\u001b[0;34m=\u001b[0m\u001b[0margs\u001b[0m\u001b[0;34m,\u001b[0m\u001b[0;34m\u001b[0m\u001b[0;34m\u001b[0m\u001b[0m\n\u001b[1;32m    595\u001b[0m               \u001b[0mattrs\u001b[0m\u001b[0;34m=\u001b[0m\u001b[0mattrs\u001b[0m\u001b[0;34m,\u001b[0m\u001b[0;34m\u001b[0m\u001b[0;34m\u001b[0m\u001b[0m\n\u001b[0;32m--> 596\u001b[0;31m               ctx=ctx)\n\u001b[0m\u001b[1;32m    597\u001b[0m         \u001b[0;32melse\u001b[0m\u001b[0;34m:\u001b[0m\u001b[0;34m\u001b[0m\u001b[0;34m\u001b[0m\u001b[0m\n\u001b[1;32m    598\u001b[0m           outputs = execute.execute_with_cancellation(\n",
            "\u001b[0;32m/usr/local/lib/python3.7/dist-packages/tensorflow/python/eager/execute.py\u001b[0m in \u001b[0;36mquick_execute\u001b[0;34m(op_name, num_outputs, inputs, attrs, ctx, name)\u001b[0m\n\u001b[1;32m     58\u001b[0m     \u001b[0mctx\u001b[0m\u001b[0;34m.\u001b[0m\u001b[0mensure_initialized\u001b[0m\u001b[0;34m(\u001b[0m\u001b[0;34m)\u001b[0m\u001b[0;34m\u001b[0m\u001b[0;34m\u001b[0m\u001b[0m\n\u001b[1;32m     59\u001b[0m     tensors = pywrap_tfe.TFE_Py_Execute(ctx._handle, device_name, op_name,\n\u001b[0;32m---> 60\u001b[0;31m                                         inputs, attrs, num_outputs)\n\u001b[0m\u001b[1;32m     61\u001b[0m   \u001b[0;32mexcept\u001b[0m \u001b[0mcore\u001b[0m\u001b[0;34m.\u001b[0m\u001b[0m_NotOkStatusException\u001b[0m \u001b[0;32mas\u001b[0m \u001b[0me\u001b[0m\u001b[0;34m:\u001b[0m\u001b[0;34m\u001b[0m\u001b[0;34m\u001b[0m\u001b[0m\n\u001b[1;32m     62\u001b[0m     \u001b[0;32mif\u001b[0m \u001b[0mname\u001b[0m \u001b[0;32mis\u001b[0m \u001b[0;32mnot\u001b[0m \u001b[0;32mNone\u001b[0m\u001b[0;34m:\u001b[0m\u001b[0;34m\u001b[0m\u001b[0;34m\u001b[0m\u001b[0m\n",
            "\u001b[0;31mKeyboardInterrupt\u001b[0m: "
          ]
        }
      ]
    },
    {
      "cell_type": "code",
      "metadata": {
        "id": "GMYkoE7l16pP"
      },
      "source": [
        "model_plane.evaluate(x_train, y_train_fine)"
      ],
      "execution_count": null,
      "outputs": []
    },
    {
      "cell_type": "code",
      "metadata": {
        "id": "uwLsZvmGJEh6"
      },
      "source": [
        "from keras import optimizers"
      ],
      "execution_count": 105,
      "outputs": []
    },
    {
      "cell_type": "code",
      "metadata": {
        "id": "kpSRB20S-Bdt",
        "outputId": "cdae534c-1f34-4993-943e-1bb87700b8f0",
        "colab": {
          "base_uri": "https://localhost:8080/"
        }
      },
      "source": [
        "def get_two_layer_model(input_shape, output_size, hidden_units= 10, lr=0.1, decay=0.0):\n",
        "    model = Sequential()\n",
        "    sgd = optimizers.SGD(lr=lr, decay=decay)\n",
        "    model.add(Dense(hidden_units,input_dim=input_shape,  activation='sigmoid', ))\n",
        "    model.add(Dense(output_size, \n",
        "                    activation='sigmoid', \n",
        "                    kernel_initializer='zeros', \n",
        "                    name='Salida'\n",
        "                   ))\n",
        "    model.compile(loss = 'binary_crossentropy', optimizer=sgd, metrics=['accuracy'])\n",
        "    return model\n",
        "two_layer_model = get_two_layer_model(x_train.shape[1], 1, lr=1)\n",
        "two_layer_model.summary()"
      ],
      "execution_count": 106,
      "outputs": [
        {
          "output_type": "stream",
          "text": [
            "Model: \"sequential_20\"\n",
            "_________________________________________________________________\n",
            "Layer (type)                 Output Shape              Param #   \n",
            "=================================================================\n",
            "dense (Dense)                (None, 10)                330       \n",
            "_________________________________________________________________\n",
            "Salida (Dense)               (None, 1)                 11        \n",
            "=================================================================\n",
            "Total params: 341\n",
            "Trainable params: 341\n",
            "Non-trainable params: 0\n",
            "_________________________________________________________________\n"
          ],
          "name": "stdout"
        },
        {
          "output_type": "stream",
          "text": [
            "/usr/local/lib/python3.7/dist-packages/tensorflow/python/keras/optimizer_v2/optimizer_v2.py:375: UserWarning: The `lr` argument is deprecated, use `learning_rate` instead.\n",
            "  \"The `lr` argument is deprecated, use `learning_rate` instead.\")\n"
          ],
          "name": "stderr"
        }
      ]
    },
    {
      "cell_type": "code",
      "metadata": {
        "id": "OYsAeiDRJNAx",
        "outputId": "67ebf723-059b-4019-8e87-4208f88b358f",
        "colab": {
          "base_uri": "https://localhost:8080/",
          "height": 232
        }
      },
      "source": [
        "plot_losses = PlotLosses(plot_interval=50, evaluate_interval=None, x_val=x_val, y_val_categorical=y_val_categorical)\n",
        "checkpointer = ModelCheckpoint(filepath='two_layer_model.hdf5', verbose=0, save_best_only=True)\n",
        "two_layer_model = get_two_layer_model(X_train.shape[1], 1, lr=2)\n",
        "two_layer_model.fit(x_train, \n",
        "          y_train_fine, batch_size = 25,\n",
        "          epochs=3500, \n",
        "          verbose=0, \n",
        "          validation_data=(X_test, y_test), \n",
        "          callbacks=[plot_losses, checkpointer],\n",
        "         )"
      ],
      "execution_count": 108,
      "outputs": [
        {
          "output_type": "error",
          "ename": "NameError",
          "evalue": "ignored",
          "traceback": [
            "\u001b[0;31m---------------------------------------------------------------------------\u001b[0m",
            "\u001b[0;31mNameError\u001b[0m                                 Traceback (most recent call last)",
            "\u001b[0;32m<ipython-input-108-3a5691d4df53>\u001b[0m in \u001b[0;36m<module>\u001b[0;34m()\u001b[0m\n\u001b[0;32m----> 1\u001b[0;31m \u001b[0mplot_losses\u001b[0m \u001b[0;34m=\u001b[0m \u001b[0mPlotLosses\u001b[0m\u001b[0;34m(\u001b[0m\u001b[0mplot_interval\u001b[0m\u001b[0;34m=\u001b[0m\u001b[0;36m50\u001b[0m\u001b[0;34m,\u001b[0m \u001b[0mevaluate_interval\u001b[0m\u001b[0;34m=\u001b[0m\u001b[0;32mNone\u001b[0m\u001b[0;34m,\u001b[0m \u001b[0mx_val\u001b[0m\u001b[0;34m=\u001b[0m\u001b[0mx_val\u001b[0m\u001b[0;34m,\u001b[0m \u001b[0my_val_categorical\u001b[0m\u001b[0;34m=\u001b[0m\u001b[0my_val_categorical\u001b[0m\u001b[0;34m)\u001b[0m\u001b[0;34m\u001b[0m\u001b[0;34m\u001b[0m\u001b[0m\n\u001b[0m\u001b[1;32m      2\u001b[0m \u001b[0mcheckpointer\u001b[0m \u001b[0;34m=\u001b[0m \u001b[0mModelCheckpoint\u001b[0m\u001b[0;34m(\u001b[0m\u001b[0mfilepath\u001b[0m\u001b[0;34m=\u001b[0m\u001b[0;34m'two_layer_model.hdf5'\u001b[0m\u001b[0;34m,\u001b[0m \u001b[0mverbose\u001b[0m\u001b[0;34m=\u001b[0m\u001b[0;36m0\u001b[0m\u001b[0;34m,\u001b[0m \u001b[0msave_best_only\u001b[0m\u001b[0;34m=\u001b[0m\u001b[0;32mTrue\u001b[0m\u001b[0;34m)\u001b[0m\u001b[0;34m\u001b[0m\u001b[0;34m\u001b[0m\u001b[0m\n\u001b[1;32m      3\u001b[0m \u001b[0mtwo_layer_model\u001b[0m \u001b[0;34m=\u001b[0m \u001b[0mget_two_layer_model\u001b[0m\u001b[0;34m(\u001b[0m\u001b[0mX_train\u001b[0m\u001b[0;34m.\u001b[0m\u001b[0mshape\u001b[0m\u001b[0;34m[\u001b[0m\u001b[0;36m1\u001b[0m\u001b[0;34m]\u001b[0m\u001b[0;34m,\u001b[0m \u001b[0;36m1\u001b[0m\u001b[0;34m,\u001b[0m \u001b[0mlr\u001b[0m\u001b[0;34m=\u001b[0m\u001b[0;36m2\u001b[0m\u001b[0;34m)\u001b[0m\u001b[0;34m\u001b[0m\u001b[0;34m\u001b[0m\u001b[0m\n\u001b[1;32m      4\u001b[0m two_layer_model.fit(x_train, \n\u001b[1;32m      5\u001b[0m           \u001b[0my_train_fine\u001b[0m\u001b[0;34m,\u001b[0m \u001b[0mbatch_size\u001b[0m \u001b[0;34m=\u001b[0m \u001b[0;36m25\u001b[0m\u001b[0;34m,\u001b[0m\u001b[0;34m\u001b[0m\u001b[0;34m\u001b[0m\u001b[0m\n",
            "\u001b[0;31mNameError\u001b[0m: name 'x_val' is not defined"
          ]
        }
      ]
    }
  ]
}