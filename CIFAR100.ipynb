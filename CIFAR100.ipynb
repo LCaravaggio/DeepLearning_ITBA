{
  "nbformat": 4,
  "nbformat_minor": 0,
  "metadata": {
    "colab": {
      "name": "CIFAR100.ipynb",
      "provenance": [],
      "authorship_tag": "ABX9TyOAUFJ8lgKSBJeLY7LKeuZt",
      "include_colab_link": true
    },
    "kernelspec": {
      "name": "python3",
      "display_name": "Python 3"
    },
    "language_info": {
      "name": "python"
    },
    "accelerator": "TPU"
  },
  "cells": [
    {
      "cell_type": "markdown",
      "metadata": {
        "id": "view-in-github",
        "colab_type": "text"
      },
      "source": [
        "<a href=\"https://colab.research.google.com/github/LCaravaggio/DeepLearning_ITBA/blob/main/CIFAR100.ipynb\" target=\"_parent\"><img src=\"https://colab.research.google.com/assets/colab-badge.svg\" alt=\"Open In Colab\"/></a>"
      ]
    },
    {
      "cell_type": "code",
      "metadata": {
        "id": "ZeO-XnUWcM56"
      },
      "source": [
        "import json\n",
        "from google.colab import drive\n",
        "\n",
        "!mkdir ~/.kaggle\n",
        "!touch ~/.kaggle/kaggle.json\n",
        "\n",
        "drive.mount('/content/drive', force_remount=True)\n",
        "with open(\"/content/drive/My Drive/kaggle.json\", 'r') as f:\n",
        "    api_token= json.load(f)\n",
        "\n",
        "with open('/root/.kaggle/kaggle.json', 'w') as file:\n",
        "    json.dump(api_token, file)\n",
        "\n",
        "!chmod 600 ~/.kaggle/kaggle.json\n",
        "\n",
        "!kaggle competitions download -c cifar100-dl-itba-2020q2"
      ],
      "execution_count": null,
      "outputs": []
    },
    {
      "cell_type": "code",
      "metadata": {
        "id": "PnQijU-EdFgw"
      },
      "source": [
        "import zipfile\n",
        "import os\n",
        "\n",
        "os.listdir()\n",
        "\n",
        "for file in os.listdir():\n",
        "    if file.endswith('.zip'):\n",
        "      zip_ref = zipfile.ZipFile(file, 'r')\n",
        "      zip_ref.extractall()\n",
        "      zip_ref.close()"
      ],
      "execution_count": 5,
      "outputs": []
    },
    {
      "cell_type": "code",
      "metadata": {
        "id": "hPr2BwGyckC_"
      },
      "source": [
        "import numpy as np\n",
        "\n",
        "x_test=np.load(\"x_test.npy\")\n",
        "x_train=np.load(\"x_train.npy\")\n",
        "y_train_coarse=np.load(\"y_train_coarse.npy\")\n",
        "y_train_fine=np.load(\"y_train_fine.npy\")\n",
        "\n",
        "#for file in os.listdir():\n",
        "#    if file.endswith('.npy'):\n",
        "#      np.load(file)"
      ],
      "execution_count": 6,
      "outputs": []
    },
    {
      "cell_type": "code",
      "metadata": {
        "id": "4GESG4ir1Py4"
      },
      "source": [
        "if not os.path.exists('mlp_helper.py'):\n",
        "     !wget https://github.com/lab-ml-itba/MLP-2019/raw/master/mlp_helper.py\n",
        "     !wget https://github.com/lab-ml-itba/MLP-2019/raw/master/fnn_helper.py\n",
        "     !wget https://github.com/lab-ml-itba/MLP-2019/raw/master/MNIST_helper.py\n",
        "     !wget https://github.com/lab-ml-itba/MLP-2019/raw/master/draw_nn.py"
      ],
      "execution_count": null,
      "outputs": []
    },
    {
      "cell_type": "code",
      "metadata": {
        "id": "yANthPfw0yNs"
      },
      "source": [
        "import os.path\n",
        "import tensorflow.keras\n",
        "import numpy as np\n",
        "from matplotlib import pyplot as plt\n",
        "from fnn_helper import PlotLosses\n",
        "from MNIST_helper import plot_numbers, visualize_input\n",
        "from tensorflow.keras.datasets import mnist\n",
        "from tensorflow.keras.models import Sequential, Model\n",
        "from tensorflow.keras.layers import Flatten, Dense, Activation\n",
        "from tensorflow.keras.optimizers import Adam, SGD, RMSprop\n",
        "from tensorflow.keras.callbacks import ModelCheckpoint\n",
        "# from tensorflow.keras.layers.advanced_activations import LeakyReLU\n",
        "from fnn_helper import PlotLosses\n",
        "#from keras_contrib.callbacks import CyclicLR\n",
        "from matplotlib import pyplot as plt\n",
        "from mlp_helper import plot_confusion_matrix\n",
        "#import draw_nn"
      ],
      "execution_count": 8,
      "outputs": []
    },
    {
      "cell_type": "code",
      "metadata": {
        "id": "Ac47kFu8_tJT"
      },
      "source": [
        "np.unique(y_train_fine)"
      ],
      "execution_count": null,
      "outputs": []
    },
    {
      "cell_type": "code",
      "metadata": {
        "id": "c02SoXBZfD6-"
      },
      "source": [
        "def get_model(activations=['tanh', 'sigmoid']):\n",
        "    output_size = 100\n",
        "    model_plane = Sequential()\n",
        "    model_plane.add(Flatten(input_shape=x_train.shape[1:]))\n",
        "    model_plane.add(Dense(10, activation=activations[0],  name='middle1', kernel_initializer='normal'))\n",
        "    model_plane.add(Dense(5, activation=activations[1],  name='middle2', kernel_initializer='normal'))\n",
        "    #model_plane.add(LeakyReLU())\n",
        "    #model_plane.add(LeakyReLU())\n",
        "    model_plane.add(Dense(output_size, activation='linear',  kernel_initializer='normal', name='salida'))\n",
        "    return model_plane"
      ],
      "execution_count": 17,
      "outputs": []
    },
    {
      "cell_type": "code",
      "metadata": {
        "id": "_bqmcGfVtKyN"
      },
      "source": [
        "model_plane = get_model(['tanh', 'sigmoid'])\n",
        "model_plane.summary()"
      ],
      "execution_count": null,
      "outputs": []
    },
    {
      "cell_type": "code",
      "metadata": {
        "id": "GbNFK9UXpyrU"
      },
      "source": [
        "batch_size=10"
      ],
      "execution_count": 35,
      "outputs": []
    },
    {
      "cell_type": "code",
      "metadata": {
        "id": "u3QSQjpb1F58"
      },
      "source": [
        "model_plane = get_model(activations=['tanh', 'linear'])\n",
        "\n",
        "checkpointer = ModelCheckpoint(filepath='two-layer-2d.mnist.hdf5', verbose=1, save_best_only=True, mode='max', monitor='val_accuracy')\n",
        "plot_losses = PlotLosses(plot_interval=1, evaluate_interval=None, x_val=x_train, y_val_categorical=y_train_fine)\n",
        "# clr = CyclicLR(1e-6, 1e-4, 8*int(len(x_train)/batch_size))"
      ],
      "execution_count": 36,
      "outputs": []
    },
    {
      "cell_type": "code",
      "metadata": {
        "id": "qpzS10SA1hTD"
      },
      "source": [
        "optim = RMSprop(lr=1e-4) # 1e-06\n",
        "model_plane.compile( loss= 'mse', optimizer=optim, metrics=['accuracy'])"
      ],
      "execution_count": 37,
      "outputs": []
    },
    {
      "cell_type": "code",
      "metadata": {
        "id": "bkj6iiKx1jun"
      },
      "source": [
        "model_plane.fit(x_train, \n",
        "          y_train_fine ,\n",
        "          epochs=10, batch_size=batch_size, \n",
        "          #verbose=1, \n",
        "          validation_data=(x_train, y_train_fine), \n",
        "          callbacks=[checkpointer],\n",
        "         )"
      ],
      "execution_count": null,
      "outputs": []
    },
    {
      "cell_type": "code",
      "metadata": {
        "id": "GMYkoE7l16pP"
      },
      "source": [
        "model_plane.evaluate(x_train, y_train_fine)"
      ],
      "execution_count": null,
      "outputs": []
    }
  ]
}