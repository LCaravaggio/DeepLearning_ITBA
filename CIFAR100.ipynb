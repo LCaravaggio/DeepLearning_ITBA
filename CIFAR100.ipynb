{
  "nbformat": 4,
  "nbformat_minor": 0,
  "metadata": {
    "colab": {
      "name": "CIFAR100.ipynb",
      "provenance": [],
      "authorship_tag": "ABX9TyOAUFJ8lgKSBJeLY7LKeuZt",
      "include_colab_link": true
    },
    "kernelspec": {
      "name": "python3",
      "display_name": "Python 3"
    },
    "language_info": {
      "name": "python"
    },
    "accelerator": "TPU"
  },
  "cells": [
    {
      "cell_type": "markdown",
      "metadata": {
        "id": "view-in-github",
        "colab_type": "text"
      },
      "source": [
        "<a href=\"https://colab.research.google.com/github/LCaravaggio/DeepLearning_ITBA/blob/main/CIFAR100.ipynb\" target=\"_parent\"><img src=\"https://colab.research.google.com/assets/colab-badge.svg\" alt=\"Open In Colab\"/></a>"
      ]
    },
    {
      "cell_type": "code",
      "metadata": {
        "colab": {
          "base_uri": "https://localhost:8080/"
        },
        "id": "ZeO-XnUWcM56",
        "outputId": "a95b977f-162e-466a-cd61-ad626550720c"
      },
      "source": [
        "import json\n",
        "from google.colab import drive\n",
        "\n",
        "!mkdir ~/.kaggle\n",
        "!touch ~/.kaggle/kaggle.json\n",
        "\n",
        "drive.mount('/content/drive', force_remount=True)\n",
        "with open(\"/content/drive/My Drive/kaggle.json\", 'r') as f:\n",
        "    api_token= json.load(f)\n",
        "\n",
        "with open('/root/.kaggle/kaggle.json', 'w') as file:\n",
        "    json.dump(api_token, file)\n",
        "\n",
        "!chmod 600 ~/.kaggle/kaggle.json\n",
        "\n",
        "!kaggle competitions download -c cifar100-dl-itba-2020q2"
      ],
      "execution_count": 3,
      "outputs": [
        {
          "output_type": "stream",
          "text": [
            "Mounted at /content/drive\n",
            "Warning: Looks like you're using an outdated API Version, please consider updating (server 1.5.12 / client 1.5.4)\n",
            "Downloading coarse_label_names.pck to /content\n",
            "  0% 0.00/456 [00:00<?, ?B/s]\n",
            "100% 456/456 [00:00<00:00, 820kB/s]\n",
            "Downloading x_test.npy.zip to /content\n",
            " 75% 20.0M/26.8M [00:00<00:00, 32.4MB/s]\n",
            "100% 26.8M/26.8M [00:00<00:00, 76.8MB/s]\n",
            "Downloading fine_label_names.pck to /content\n",
            "  0% 0.00/1.30k [00:00<?, ?B/s]\n",
            "100% 1.30k/1.30k [00:00<00:00, 3.81MB/s]\n",
            "Downloading y_train_coarse.npy to /content\n",
            "  0% 0.00/391k [00:00<?, ?B/s]\n",
            "100% 391k/391k [00:00<00:00, 125MB/s]\n",
            "Downloading x_train.npy.zip to /content\n",
            " 93% 124M/134M [00:01<00:00, 82.7MB/s]\n",
            "100% 134M/134M [00:01<00:00, 94.4MB/s]\n",
            "Downloading y_train_fine.npy to /content\n",
            "  0% 0.00/391k [00:00<?, ?B/s]\n",
            "100% 391k/391k [00:00<00:00, 99.0MB/s]\n"
          ],
          "name": "stdout"
        }
      ]
    },
    {
      "cell_type": "code",
      "metadata": {
        "id": "PnQijU-EdFgw"
      },
      "source": [
        "import zipfile\n",
        "import os\n",
        "\n",
        "os.listdir()\n",
        "\n",
        "for file in os.listdir():\n",
        "    if file.endswith('.zip'):\n",
        "      zip_ref = zipfile.ZipFile(file, 'r')\n",
        "      zip_ref.extractall()\n",
        "      zip_ref.close()"
      ],
      "execution_count": 5,
      "outputs": []
    },
    {
      "cell_type": "code",
      "metadata": {
        "id": "hPr2BwGyckC_"
      },
      "source": [
        "import numpy as np\n",
        "\n",
        "x_test=np.load(\"x_test.npy\")\n",
        "x_train=np.load(\"x_train.npy\")\n",
        "y_train_coarse=np.load(\"y_train_coarse.npy\")\n",
        "y_train_fine=np.load(\"y_train_fine.npy\")\n",
        "\n",
        "#for file in os.listdir():\n",
        "#    if file.endswith('.npy'):\n",
        "#      np.load(file)"
      ],
      "execution_count": 6,
      "outputs": []
    },
    {
      "cell_type": "code",
      "metadata": {
        "colab": {
          "base_uri": "https://localhost:8080/"
        },
        "id": "4GESG4ir1Py4",
        "outputId": "c6f22bd6-18a5-4b36-925c-ddfc0152db28"
      },
      "source": [
        "if not os.path.exists('mlp_helper.py'):\n",
        "     !wget https://github.com/lab-ml-itba/MLP-2019/raw/master/mlp_helper.py\n",
        "     !wget https://github.com/lab-ml-itba/MLP-2019/raw/master/fnn_helper.py\n",
        "     !wget https://github.com/lab-ml-itba/MLP-2019/raw/master/MNIST_helper.py\n",
        "     !wget https://github.com/lab-ml-itba/MLP-2019/raw/master/draw_nn.py"
      ],
      "execution_count": 7,
      "outputs": [
        {
          "output_type": "stream",
          "text": [
            "--2021-05-21 22:54:05--  https://github.com/lab-ml-itba/MLP-2019/raw/master/mlp_helper.py\n",
            "Resolving github.com (github.com)... 140.82.112.4\n",
            "Connecting to github.com (github.com)|140.82.112.4|:443... connected.\n",
            "HTTP request sent, awaiting response... 302 Found\n",
            "Location: https://raw.githubusercontent.com/lab-ml-itba/MLP-2019/master/mlp_helper.py [following]\n",
            "--2021-05-21 22:54:05--  https://raw.githubusercontent.com/lab-ml-itba/MLP-2019/master/mlp_helper.py\n",
            "Resolving raw.githubusercontent.com (raw.githubusercontent.com)... 185.199.109.133, 185.199.111.133, 185.199.108.133, ...\n",
            "Connecting to raw.githubusercontent.com (raw.githubusercontent.com)|185.199.109.133|:443... connected.\n",
            "HTTP request sent, awaiting response... 200 OK\n",
            "Length: 13863 (14K) [text/plain]\n",
            "Saving to: ‘mlp_helper.py’\n",
            "\n",
            "mlp_helper.py       100%[===================>]  13.54K  --.-KB/s    in 0s      \n",
            "\n",
            "2021-05-21 22:54:06 (37.9 MB/s) - ‘mlp_helper.py’ saved [13863/13863]\n",
            "\n",
            "--2021-05-21 22:54:06--  https://github.com/lab-ml-itba/MLP-2019/raw/master/fnn_helper.py\n",
            "Resolving github.com (github.com)... 140.82.112.4\n",
            "Connecting to github.com (github.com)|140.82.112.4|:443... connected.\n",
            "HTTP request sent, awaiting response... 302 Found\n",
            "Location: https://raw.githubusercontent.com/lab-ml-itba/MLP-2019/master/fnn_helper.py [following]\n",
            "--2021-05-21 22:54:06--  https://raw.githubusercontent.com/lab-ml-itba/MLP-2019/master/fnn_helper.py\n",
            "Resolving raw.githubusercontent.com (raw.githubusercontent.com)... 185.199.108.133, 185.199.109.133, 185.199.110.133, ...\n",
            "Connecting to raw.githubusercontent.com (raw.githubusercontent.com)|185.199.108.133|:443... connected.\n",
            "HTTP request sent, awaiting response... 200 OK\n",
            "Length: 2649 (2.6K) [text/plain]\n",
            "Saving to: ‘fnn_helper.py’\n",
            "\n",
            "fnn_helper.py       100%[===================>]   2.59K  --.-KB/s    in 0s      \n",
            "\n",
            "2021-05-21 22:54:06 (49.8 MB/s) - ‘fnn_helper.py’ saved [2649/2649]\n",
            "\n",
            "--2021-05-21 22:54:06--  https://github.com/lab-ml-itba/MLP-2019/raw/master/MNIST_helper.py\n",
            "Resolving github.com (github.com)... 140.82.112.3\n",
            "Connecting to github.com (github.com)|140.82.112.3|:443... connected.\n",
            "HTTP request sent, awaiting response... 302 Found\n",
            "Location: https://raw.githubusercontent.com/lab-ml-itba/MLP-2019/master/MNIST_helper.py [following]\n",
            "--2021-05-21 22:54:06--  https://raw.githubusercontent.com/lab-ml-itba/MLP-2019/master/MNIST_helper.py\n",
            "Resolving raw.githubusercontent.com (raw.githubusercontent.com)... 185.199.108.133, 185.199.109.133, 185.199.110.133, ...\n",
            "Connecting to raw.githubusercontent.com (raw.githubusercontent.com)|185.199.108.133|:443... connected.\n",
            "HTTP request sent, awaiting response... 200 OK\n",
            "Length: 1347 (1.3K) [text/plain]\n",
            "Saving to: ‘MNIST_helper.py’\n",
            "\n",
            "MNIST_helper.py     100%[===================>]   1.32K  --.-KB/s    in 0s      \n",
            "\n",
            "2021-05-21 22:54:06 (72.5 MB/s) - ‘MNIST_helper.py’ saved [1347/1347]\n",
            "\n",
            "--2021-05-21 22:54:07--  https://github.com/lab-ml-itba/MLP-2019/raw/master/draw_nn.py\n",
            "Resolving github.com (github.com)... 140.82.114.3\n",
            "Connecting to github.com (github.com)|140.82.114.3|:443... connected.\n",
            "HTTP request sent, awaiting response... 302 Found\n",
            "Location: https://raw.githubusercontent.com/lab-ml-itba/MLP-2019/master/draw_nn.py [following]\n",
            "--2021-05-21 22:54:07--  https://raw.githubusercontent.com/lab-ml-itba/MLP-2019/master/draw_nn.py\n",
            "Resolving raw.githubusercontent.com (raw.githubusercontent.com)... 185.199.108.133, 185.199.109.133, 185.199.110.133, ...\n",
            "Connecting to raw.githubusercontent.com (raw.githubusercontent.com)|185.199.108.133|:443... connected.\n",
            "HTTP request sent, awaiting response... 200 OK\n",
            "Length: 4082 (4.0K) [text/plain]\n",
            "Saving to: ‘draw_nn.py’\n",
            "\n",
            "draw_nn.py          100%[===================>]   3.99K  --.-KB/s    in 0s      \n",
            "\n",
            "2021-05-21 22:54:07 (61.8 MB/s) - ‘draw_nn.py’ saved [4082/4082]\n",
            "\n"
          ],
          "name": "stdout"
        }
      ]
    },
    {
      "cell_type": "code",
      "metadata": {
        "id": "yANthPfw0yNs"
      },
      "source": [
        "import os.path\n",
        "import tensorflow.keras\n",
        "import numpy as np\n",
        "from matplotlib import pyplot as plt\n",
        "from fnn_helper import PlotLosses\n",
        "from MNIST_helper import plot_numbers, visualize_input\n",
        "from tensorflow.keras.datasets import mnist\n",
        "from tensorflow.keras.models import Sequential, Model\n",
        "from tensorflow.keras.layers import Flatten, Dense, Activation\n",
        "from tensorflow.keras.optimizers import Adam, SGD, RMSprop\n",
        "from tensorflow.keras.callbacks import ModelCheckpoint\n",
        "# from tensorflow.keras.layers.advanced_activations import LeakyReLU\n",
        "from fnn_helper import PlotLosses\n",
        "#from keras_contrib.callbacks import CyclicLR\n",
        "from matplotlib import pyplot as plt\n",
        "from mlp_helper import plot_confusion_matrix\n",
        "#import draw_nn"
      ],
      "execution_count": 8,
      "outputs": []
    },
    {
      "cell_type": "code",
      "metadata": {
        "colab": {
          "base_uri": "https://localhost:8080/"
        },
        "id": "Ac47kFu8_tJT",
        "outputId": "3a161341-c2de-4084-ddcf-8f866df4df36"
      },
      "source": [
        "np.unique(y_train_fine)"
      ],
      "execution_count": 9,
      "outputs": [
        {
          "output_type": "execute_result",
          "data": {
            "text/plain": [
              "array([ 0,  1,  2,  3,  4,  5,  6,  7,  8,  9, 10, 11, 12, 13, 14, 15, 16,\n",
              "       17, 18, 19, 20, 21, 22, 23, 24, 25, 26, 27, 28, 29, 30, 31, 32, 33,\n",
              "       34, 35, 36, 37, 38, 39, 40, 41, 42, 43, 44, 45, 46, 47, 48, 49, 50,\n",
              "       51, 52, 53, 54, 55, 56, 57, 58, 59, 60, 61, 62, 63, 64, 65, 66, 67,\n",
              "       68, 69, 70, 71, 72, 73, 74, 75, 76, 77, 78, 79, 80, 81, 82, 83, 84,\n",
              "       85, 86, 87, 88, 89, 90, 91, 92, 93, 94, 95, 96, 97, 98, 99])"
            ]
          },
          "metadata": {
            "tags": []
          },
          "execution_count": 9
        }
      ]
    },
    {
      "cell_type": "code",
      "metadata": {
        "id": "c02SoXBZfD6-"
      },
      "source": [
        "def get_model(activations=['tanh', 'sigmoid']):\n",
        "    output_size = 100\n",
        "    model_plane = Sequential()\n",
        "    model_plane.add(Flatten(input_shape=x_train.shape[1:]))\n",
        "    model_plane.add(Dense(10, activation=activations[0],  name='middle1', kernel_initializer='normal'))\n",
        "    model_plane.add(Dense(5, activation=activations[1],  name='middle2', kernel_initializer='normal'))\n",
        "    #model_plane.add(LeakyReLU())\n",
        "    #model_plane.add(LeakyReLU())\n",
        "    model_plane.add(Dense(output_size, activation='linear',  kernel_initializer='normal', name='salida'))\n",
        "    return model_plane"
      ],
      "execution_count": 17,
      "outputs": []
    },
    {
      "cell_type": "code",
      "metadata": {
        "colab": {
          "base_uri": "https://localhost:8080/"
        },
        "id": "_bqmcGfVtKyN",
        "outputId": "4a856918-4778-4770-d811-85b6b7d33dd6"
      },
      "source": [
        "model_plane = get_model(['tanh', 'sigmoid'])\n",
        "model_plane.summary()"
      ],
      "execution_count": 18,
      "outputs": [
        {
          "output_type": "stream",
          "text": [
            "Model: \"sequential_3\"\n",
            "_________________________________________________________________\n",
            "Layer (type)                 Output Shape              Param #   \n",
            "=================================================================\n",
            "flatten_3 (Flatten)          (None, 3072)              0         \n",
            "_________________________________________________________________\n",
            "middle1 (Dense)              (None, 10)                30730     \n",
            "_________________________________________________________________\n",
            "middle2 (Dense)              (None, 5)                 55        \n",
            "_________________________________________________________________\n",
            "salida (Dense)               (None, 100)               600       \n",
            "=================================================================\n",
            "Total params: 31,385\n",
            "Trainable params: 31,385\n",
            "Non-trainable params: 0\n",
            "_________________________________________________________________\n"
          ],
          "name": "stdout"
        }
      ]
    },
    {
      "cell_type": "code",
      "metadata": {
        "id": "GbNFK9UXpyrU"
      },
      "source": [
        "batch_size=10"
      ],
      "execution_count": 35,
      "outputs": []
    },
    {
      "cell_type": "code",
      "metadata": {
        "id": "u3QSQjpb1F58"
      },
      "source": [
        "model_plane = get_model(activations=['tanh', 'linear'])\n",
        "\n",
        "checkpointer = ModelCheckpoint(filepath='two-layer-2d.mnist.hdf5', verbose=1, save_best_only=True, mode='max', monitor='val_accuracy')\n",
        "plot_losses = PlotLosses(plot_interval=1, evaluate_interval=None, x_val=x_train, y_val_categorical=y_train_fine)\n",
        "# clr = CyclicLR(1e-6, 1e-4, 8*int(len(x_train)/batch_size))"
      ],
      "execution_count": 36,
      "outputs": []
    },
    {
      "cell_type": "code",
      "metadata": {
        "id": "qpzS10SA1hTD"
      },
      "source": [
        "optim = RMSprop(lr=1e-4) # 1e-06\n",
        "model_plane.compile( loss= 'mse', optimizer=optim, metrics=['accuracy'])"
      ],
      "execution_count": 37,
      "outputs": []
    },
    {
      "cell_type": "code",
      "metadata": {
        "colab": {
          "base_uri": "https://localhost:8080/"
        },
        "id": "bkj6iiKx1jun",
        "outputId": "4bd5c3a0-7842-4f0b-bf77-3da5fa068cc6"
      },
      "source": [
        "model_plane.fit(x_train, \n",
        "          y_train_fine ,\n",
        "          epochs=10, batch_size=batch_size, \n",
        "          #verbose=1, \n",
        "          validation_data=(x_train, y_train_fine), \n",
        "          callbacks=[checkpointer],\n",
        "         )"
      ],
      "execution_count": 38,
      "outputs": [
        {
          "output_type": "stream",
          "text": [
            "Epoch 1/10\n",
            "5000/5000 [==============================] - 12s 2ms/step - loss: 3105.8091 - accuracy: 0.0102 - val_loss: 2065.9719 - val_accuracy: 0.0100\n",
            "\n",
            "Epoch 00001: val_accuracy improved from -inf to 0.01000, saving model to two-layer-2d.mnist.hdf5\n",
            "Epoch 2/10\n",
            "5000/5000 [==============================] - 11s 2ms/step - loss: 1640.9753 - accuracy: 0.0105 - val_loss: 846.5863 - val_accuracy: 0.0100\n",
            "\n",
            "Epoch 00002: val_accuracy did not improve from 0.01000\n",
            "Epoch 3/10\n",
            "5000/5000 [==============================] - 11s 2ms/step - loss: 839.9980 - accuracy: 0.0100 - val_loss: 833.3661 - val_accuracy: 0.0100\n",
            "\n",
            "Epoch 00003: val_accuracy did not improve from 0.01000\n",
            "Epoch 4/10\n",
            "5000/5000 [==============================] - 11s 2ms/step - loss: 834.8214 - accuracy: 0.0100 - val_loss: 833.3329 - val_accuracy: 0.0100\n",
            "\n",
            "Epoch 00004: val_accuracy did not improve from 0.01000\n",
            "Epoch 5/10\n",
            "5000/5000 [==============================] - 11s 2ms/step - loss: 834.0934 - accuracy: 0.0095 - val_loss: 833.4073 - val_accuracy: 0.0100\n",
            "\n",
            "Epoch 00005: val_accuracy did not improve from 0.01000\n",
            "Epoch 6/10\n",
            "5000/5000 [==============================] - 11s 2ms/step - loss: 830.0342 - accuracy: 0.0111 - val_loss: 833.3909 - val_accuracy: 0.0100\n",
            "\n",
            "Epoch 00006: val_accuracy did not improve from 0.01000\n",
            "Epoch 7/10\n",
            "5000/5000 [==============================] - 11s 2ms/step - loss: 835.3688 - accuracy: 0.0103 - val_loss: 833.3625 - val_accuracy: 0.0100\n",
            "\n",
            "Epoch 00007: val_accuracy did not improve from 0.01000\n",
            "Epoch 8/10\n",
            "5000/5000 [==============================] - 11s 2ms/step - loss: 832.1138 - accuracy: 0.0098 - val_loss: 833.4001 - val_accuracy: 0.0100\n",
            "\n",
            "Epoch 00008: val_accuracy did not improve from 0.01000\n",
            "Epoch 9/10\n",
            "5000/5000 [==============================] - 11s 2ms/step - loss: 829.1638 - accuracy: 0.0110 - val_loss: 833.3425 - val_accuracy: 0.0100\n",
            "\n",
            "Epoch 00009: val_accuracy did not improve from 0.01000\n",
            "Epoch 10/10\n",
            "5000/5000 [==============================] - 11s 2ms/step - loss: 832.6213 - accuracy: 0.0106 - val_loss: 833.3437 - val_accuracy: 0.0100\n",
            "\n",
            "Epoch 00010: val_accuracy did not improve from 0.01000\n"
          ],
          "name": "stdout"
        },
        {
          "output_type": "execute_result",
          "data": {
            "text/plain": [
              "<tensorflow.python.keras.callbacks.History at 0x7fa9cb2b5650>"
            ]
          },
          "metadata": {
            "tags": []
          },
          "execution_count": 38
        }
      ]
    },
    {
      "cell_type": "code",
      "metadata": {
        "colab": {
          "base_uri": "https://localhost:8080/"
        },
        "id": "GMYkoE7l16pP",
        "outputId": "171b9dd4-966d-4807-cdc5-acb26ee6c244"
      },
      "source": [
        "model_plane.evaluate(x_train, y_train_fine)"
      ],
      "execution_count": 36,
      "outputs": [
        {
          "output_type": "stream",
          "text": [
            "1563/1563 [==============================] - 2s 1ms/step - loss: 0.5149 - accuracy: 0.0100\n"
          ],
          "name": "stdout"
        },
        {
          "output_type": "execute_result",
          "data": {
            "text/plain": [
              "[0.5149050951004028, 0.009999999776482582]"
            ]
          },
          "metadata": {
            "tags": []
          },
          "execution_count": 36
        }
      ]
    }
  ]
}