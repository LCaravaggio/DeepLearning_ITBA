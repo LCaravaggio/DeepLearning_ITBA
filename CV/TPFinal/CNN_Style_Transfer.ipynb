{
  "nbformat": 4,
  "nbformat_minor": 0,
  "metadata": {
    "colab": {
      "name": "Trabajo Final CNN - Style Transfer.ipynb",
      "provenance": []
    },
    "kernelspec": {
      "name": "python3",
      "display_name": "Python 3"
    },
    "accelerator": "GPU"
  },
  "cells": [
    {
      "cell_type": "markdown",
      "metadata": {
        "id": "qCY6UbkkI9_N"
      },
      "source": [
        "# Style Transfer\n",
        "\n",
        "<img src=\"https://i0.wp.com/chelseatroy.com/wp-content/uploads/2018/12/neural_style_transfer.png?resize=768%2C311&ssl=1\">\n",
        "\n",
        "La idea de este trabajo final es reproducir el siguiente paper:\n",
        "\n",
        "https://arxiv.org/pdf/1508.06576.pdf\n",
        "\n",
        "El objetivo es transferir el estilo de una imagen dada a otra imagen distinta. \n",
        "\n",
        "Como hemos visto en clase, las primeras capas de una red convolucional se activan ante la presencia de ciertos patrones vinculados a detalles muy pequeños.\n",
        "\n",
        "A medida que avanzamos en las distintas capas de una red neuronal convolucional, los filtros se van activando a medida que detectan patrones de formas cada vez mas complejos.\n",
        "\n",
        "Lo que propone este paper es asignarle a la activación de las primeras capas de una red neuronal convolucional (por ejemplo VGG19) la definición del estilo y a la activación de las últimas capas de la red neuronal convolucional, la definición del contenido.\n",
        "\n",
        "La idea de este paper es, a partir de dos imágenes (una que aporte el estilo y otra que aporte el contenido) analizar cómo es la activación de las primeras capas para la imagen que aporta el estilo y cómo es la activación de las últimas capas de la red convolucional para la imagen que aporta el contenido. A partir de esto se intentará sintetizar una imagen que active los filtros de las primeras capas que se activaron con la imagen que aporta el estilo y los filtros de las últimas capas que se activaron con la imagen que aporta el contenido.\n",
        "\n",
        "A este procedimiento se lo denomina neural style transfer.\n",
        "\n",
        "# En este trabajo se deberá leer el paper mencionado y en base a ello, entender la implementación que se muestra a continuación y contestar preguntas sobre la misma.\n",
        "\n",
        "# Una metodología posible es hacer una lectura rápida del paper (aunque esto signifique no entender algunos detalles del mismo) y luego ir analizando el código y respondiendo las preguntas. A medida que se planteen las preguntas, volviendo a leer secciones específicas del paper terminará de entender los detalles que pudieran haber quedado pendientes.\n",
        "\n",
        "Lo primero que haremos es cargar dos imágenes, una que aporte el estilo y otra que aporte el contenido. A tal fin utilizaremos imágenes disponibles en la web."
      ]
    },
    {
      "cell_type": "code",
      "metadata": {
        "id": "kyHsa2t0SxZi",
        "colab": {
          "base_uri": "https://localhost:8080/"
        },
        "outputId": "c180bb53-9346-4fae-b49e-f079584b8127"
      },
      "source": [
        "# Imagen para estilo\n",
        "!wget https://upload.wikimedia.org/wikipedia/commons/5/52/La_noche_estrellada1.jpg\n",
        "\n",
        "# Imagen para contenido\n",
        "!wget https://upload.wikimedia.org/wikipedia/commons/thumb/f/f4/Neckarfront_T%C3%BCbingen_Mai_2017.jpg/775px-Neckarfront_T%C3%BCbingen_Mai_2017.jpg\n",
        "\n",
        "\n",
        "# Imagen para estilo\n",
        "#!wget https://static1.abc.es/media/historia/2016/10/28/DAVID-GOLIAT-kIdF-U201111563982eOG-620x450@abc.jpg\n",
        "\n",
        "# Imagen para contenido\n",
        "#!wget https://static.globalnoticias.pt/jn/image.jpg?brand=JN&type=generate&guid=a59e7930-f7a2-4525-ae90-c4aae2df56c5&w=744&h=495&t=20201125195035\n",
        "\n",
        "# Creamos el directorio para los archivos de salida\n",
        "!mkdir /content/output"
      ],
      "execution_count": null,
      "outputs": [
        {
          "output_type": "stream",
          "name": "stdout",
          "text": [
            "--2021-11-29 20:41:29--  https://upload.wikimedia.org/wikipedia/commons/5/52/La_noche_estrellada1.jpg\n",
            "Resolving upload.wikimedia.org (upload.wikimedia.org)... 208.80.153.240, 2620:0:860:ed1a::2:b\n",
            "Connecting to upload.wikimedia.org (upload.wikimedia.org)|208.80.153.240|:443... connected.\n",
            "HTTP request sent, awaiting response... 200 OK\n",
            "Length: 223725 (218K) [image/jpeg]\n",
            "Saving to: ‘La_noche_estrellada1.jpg.1’\n",
            "\n",
            "La_noche_estrellada 100%[===================>] 218.48K  --.-KB/s    in 0.09s   \n",
            "\n",
            "2021-11-29 20:41:30 (2.39 MB/s) - ‘La_noche_estrellada1.jpg.1’ saved [223725/223725]\n",
            "\n",
            "--2021-11-29 20:41:30--  https://upload.wikimedia.org/wikipedia/commons/thumb/f/f4/Neckarfront_T%C3%BCbingen_Mai_2017.jpg/775px-Neckarfront_T%C3%BCbingen_Mai_2017.jpg\n",
            "Resolving upload.wikimedia.org (upload.wikimedia.org)... 208.80.153.240, 2620:0:860:ed1a::2:b\n",
            "Connecting to upload.wikimedia.org (upload.wikimedia.org)|208.80.153.240|:443... connected.\n",
            "HTTP request sent, awaiting response... 200 OK\n",
            "Length: 153015 (149K) [image/jpeg]\n",
            "Saving to: ‘775px-Neckarfront_Tübingen_Mai_2017.jpg.1’\n",
            "\n",
            "775px-Neckarfront_T 100%[===================>] 149.43K  --.-KB/s    in 0.07s   \n",
            "\n",
            "2021-11-29 20:41:30 (1.95 MB/s) - ‘775px-Neckarfront_Tübingen_Mai_2017.jpg.1’ saved [153015/153015]\n",
            "\n",
            "mkdir: cannot create directory ‘/content/output’: File exists\n"
          ]
        }
      ]
    },
    {
      "cell_type": "code",
      "metadata": {
        "id": "NIxH20o2eFoc"
      },
      "source": [
        "import tensorflow as tf \n",
        "tf.compat.v1.disable_eager_execution()\n",
        "\n",
        "from keras.preprocessing.image import load_img, save_img, img_to_array\n",
        "import numpy as np\n",
        "from scipy.optimize import fmin_l_bfgs_b\n",
        "import time\n",
        "import argparse\n",
        "\n",
        "from keras.applications import vgg19\n",
        "from keras import backend as K\n",
        "from pathlib import Path"
      ],
      "execution_count": null,
      "outputs": []
    },
    {
      "cell_type": "code",
      "metadata": {
        "id": "iLkV1bnFl_tK"
      },
      "source": [
        "# Definimos las imagenes que vamos a utilizar, y el directorio de salida\n",
        "base_image_path = Path(\"/content/775px-Neckarfront_Tübingen_Mai_2017.jpg\")\n",
        "style_reference_image_path = Path(\"/content/La_noche_estrellada1.jpg\")\n",
        "\n",
        "#base_image_path = Path(\"/content/image.jpg?brand=JN\")\n",
        "#style_reference_image_path = Path(\"/content/DAVID-GOLIAT-kIdF-U201111563982eOG-620x450@abc.jpg\")\n",
        "result_prefix = Path(\"/content/output\")\n",
        "iterations = 100"
      ],
      "execution_count": null,
      "outputs": []
    },
    {
      "cell_type": "markdown",
      "metadata": {
        "id": "Gz2PeGfpeYzj"
      },
      "source": [
        "# 1) En base a lo visto en el paper ¿Qué significan los parámetros definidos en la siguiente celda?\n",
        "\n",
        "Respuesta: \n",
        "\n",
        "La total_variation_weight es un escalar que pondera la contribución de cada capa a la loss total. \n",
        "\n",
        "La content_weight y la total_variation_weight son los $\\alpha$ y $\\beta$ de la ecuación:\n",
        "\n",
        "\\begin{align}\n",
        "\\mathcal{L}_{total}(\\vec{p},\\vec{a},\\vec{x}) &= \\alpha \\mathcal{L}_{content}(\\vec{p},\\vec{x})+ \\beta \\mathcal{L}_{style}(\\vec{a},\\vec{x})\n",
        "\\end{align}\n",
        "\n",
        "Es decir que ponderan a la loss de contenido y de estilo respectivamente. \n",
        "\n",
        "La style_weight es la $w_l$ de la ecuación:\n",
        "\n",
        "\\begin{align}\n",
        "\\mathcal{L}_{style}(\\vec{a},\\vec{x}) &= \\sum_{l=0}^{L}w_lE_l\n",
        "\\end{align}\n",
        "\n",
        "Este factor se divide por la cantidad de capas activas"
      ]
    },
    {
      "cell_type": "code",
      "metadata": {
        "id": "P9Dt3aaEmJWS"
      },
      "source": [
        "total_variation_weight = 0.1\n",
        "style_weight = 1\n",
        "content_weight = 1"
      ],
      "execution_count": null,
      "outputs": []
    },
    {
      "cell_type": "code",
      "metadata": {
        "id": "CQQJOhCVuse6"
      },
      "source": [
        "# Definimos el tamaño de las imágenes a utilizar\n",
        "width, height = load_img(base_image_path).size\n",
        "img_nrows = 400\n",
        "img_ncols = int(width * img_nrows / height)"
      ],
      "execution_count": null,
      "outputs": []
    },
    {
      "cell_type": "markdown",
      "metadata": {
        "id": "gg2ct-8agm1E"
      },
      "source": [
        "# 2) Explicar qué hace la siguiente celda. En especial las últimas dos líneas de la función antes del return. ¿Por qué?\n",
        "\n",
        "Ayuda: https://keras.io/applications/\n",
        "\n",
        "Respuesta:\n",
        "\n",
        "La función preprocess_image toma una imagen, la convierte a un array que expande, normaliza y luego devuelve como tensor.\n",
        "\n",
        "np.expand_dims es una función de Numpy que agrega una dimensión al array en el eje cero. Es decir que lo convierte de shape (img_nrows, img_ncols, 3) a (1, img_nrows, img_ncols, 3)\n",
        "\n",
        "vgg19.preprocess_input convierte las imágenes de entrada de RGB a BGR, y después centra en cero cada canal de color con respecto al conjunto de datos de ImageNet, sin escalar."
      ]
    },
    {
      "cell_type": "code",
      "metadata": {
        "id": "tAkljg4zuzYd"
      },
      "source": [
        "def preprocess_image(image_path):\n",
        "    img = load_img(image_path, target_size=(img_nrows, img_ncols))\n",
        "    img = img_to_array(img)\n",
        "    img = np.expand_dims(img, axis=0)\n",
        "    img = vgg19.preprocess_input(img)\n",
        "    return img"
      ],
      "execution_count": null,
      "outputs": []
    },
    {
      "cell_type": "markdown",
      "metadata": {
        "id": "KTf0YDSagt10"
      },
      "source": [
        "# 3) Habiendo comprendido lo que hace la celda anterior, explique de manera muy concisa qué hace la siguiente celda. ¿Qué relación tiene con la celda anterior?\n",
        "\n",
        "Respuesta:\n",
        "\n",
        "La función deprocess_image realiza la operación inversa a preprocess_image. Es decir que convierte el tensor en una imágen. Elimina la dimensión que agregó el np.expand_dims, descentra los canales y los convierte a RGB."
      ]
    },
    {
      "cell_type": "code",
      "metadata": {
        "id": "y5LaTrsAu14z"
      },
      "source": [
        "def deprocess_image(x):\n",
        "    x = x.reshape((img_nrows, img_ncols, 3))\n",
        "    # Remove zero-center by mean pixel\n",
        "    x[:, :, 0] += 103.939\n",
        "    x[:, :, 1] += 116.779\n",
        "    x[:, :, 2] += 123.68\n",
        "    # 'BGR'->'RGB'\n",
        "    x = x[:, :, ::-1]\n",
        "    x = np.clip(x, 0, 255).astype('uint8')\n",
        "    return x"
      ],
      "execution_count": null,
      "outputs": []
    },
    {
      "cell_type": "code",
      "metadata": {
        "id": "HYNio09mu4S3"
      },
      "source": [
        "# get tensor representations of our images\n",
        "# K.variable convierte un numpy array en un tensor, para \n",
        "base_image = K.variable(preprocess_image(base_image_path))\n",
        "style_reference_image = K.variable(preprocess_image(style_reference_image_path))"
      ],
      "execution_count": null,
      "outputs": []
    },
    {
      "cell_type": "code",
      "metadata": {
        "id": "a1Lbw02Uu--o"
      },
      "source": [
        "combination_image = K.placeholder((1, img_nrows, img_ncols, 3))"
      ],
      "execution_count": null,
      "outputs": []
    },
    {
      "cell_type": "markdown",
      "metadata": {
        "id": "RJEi0YI3Uzrm"
      },
      "source": [
        "Aclaración:\n",
        "\n",
        "La siguiente celda sirve para procesar las tres imagenes (contenido, estilo y salida) en un solo batch."
      ]
    },
    {
      "cell_type": "code",
      "metadata": {
        "id": "gGO_jGFfvEbF"
      },
      "source": [
        "# combine the 3 images into a single Keras tensor\n",
        "input_tensor = K.concatenate([base_image,\n",
        "                              style_reference_image,\n",
        "                              combination_image], axis=0)"
      ],
      "execution_count": null,
      "outputs": []
    },
    {
      "cell_type": "code",
      "metadata": {
        "id": "tdG59VRavHGB",
        "colab": {
          "base_uri": "https://localhost:8080/"
        },
        "outputId": "a3b46165-8541-49bc-c2da-ebbcaa498373"
      },
      "source": [
        "# build the VGG19 network with our 3 images as input\n",
        "# the model will be loaded with pre-trained ImageNet weights\n",
        "model = vgg19.VGG19(input_tensor=input_tensor,\n",
        "                    weights='imagenet', include_top=False)\n",
        "print('Model loaded.')\n",
        "\n",
        "# get the symbolic outputs of each \"key\" layer (we gave them unique names).\n",
        "outputs_dict = dict([(layer.name, layer.output) for layer in model.layers])"
      ],
      "execution_count": null,
      "outputs": [
        {
          "output_type": "stream",
          "name": "stdout",
          "text": [
            "Model loaded.\n"
          ]
        }
      ]
    },
    {
      "cell_type": "markdown",
      "metadata": {
        "id": "70-vs_jZkKVc"
      },
      "source": [
        "# 4) En la siguientes celdas:\n",
        "\n",
        "- ¿Qué es la matriz de Gram?¿Para qué se usa?\n",
        "- ¿Por qué se permutan las dimensiones de x?\n",
        "\n",
        "La matriz Gram: $G^l \\in \\Re^{N_lxN_l}$ representa la correlación de características de la imagen de entrada, de manera de recoger el estilo a la salida de cada capa. $G^l_{ij}$ es el producto entre los vectores del mapa de características $i$ y $j$ en la capa $l$: \n",
        "\n",
        "\\begin{align}\n",
        "G^l_{ij}= \\sum_{k}F^l_{ik}F^l_{jk}\n",
        "\\end{align}\n",
        "\n",
        "Las dimensiones de x se deben permutar para poder hacer la conversión a 2D de la función batch_flatten."
      ]
    },
    {
      "cell_type": "code",
      "metadata": {
        "id": "K1FODPATvJ1k"
      },
      "source": [
        "def gram_matrix(x):\n",
        "    features = K.batch_flatten(K.permute_dimensions(x, (2, 0, 1)))\n",
        "    gram = K.dot(features, K.transpose(features))\n",
        "    return gram"
      ],
      "execution_count": null,
      "outputs": []
    },
    {
      "cell_type": "markdown",
      "metadata": {
        "id": "vBQkKFY0Rbx-"
      },
      "source": [
        "# 5) Losses:\n",
        "\n",
        "Explicar qué mide cada una de las losses en las siguientes tres celdas.\n",
        "\n",
        "La style_loss es la loss de estilo, y busca mantener el estilo de la imagen de referencia. Se basa en la matriz gram, midiendo la diferencia entre el mapa de características de la imagen generada y la imagen de estilo.\n",
        "\n",
        "La content_loss es la loss de contenido. Mide la distancia entre el mapa de características de la imagen generada y el de la imagen de contenido. \n",
        "\n",
        "La total_variation_loss es la suma ponderada de ambas losses.\n",
        "\n"
      ]
    },
    {
      "cell_type": "code",
      "metadata": {
        "id": "1-Gt0ahWvN6q"
      },
      "source": [
        "def style_loss(style, combination):\n",
        "    assert K.ndim(style) == 3\n",
        "    assert K.ndim(combination) == 3\n",
        "    S = gram_matrix(style)\n",
        "    C = gram_matrix(combination)\n",
        "    channels = 3\n",
        "    size = img_nrows * img_ncols\n",
        "    return K.sum(K.square(S - C)) / (4.0 * (channels ** 2) * (size ** 2))"
      ],
      "execution_count": null,
      "outputs": []
    },
    {
      "cell_type": "code",
      "metadata": {
        "id": "XCqnju5RvQCo"
      },
      "source": [
        "def content_loss(base, combination):\n",
        "    return K.sum(K.square(combination - base))"
      ],
      "execution_count": null,
      "outputs": []
    },
    {
      "cell_type": "code",
      "metadata": {
        "id": "udEp5h31vRnY"
      },
      "source": [
        "def total_variation_loss(x):\n",
        "    assert K.ndim(x) == 4\n",
        "    a = K.square(\n",
        "        x[:, :img_nrows - 1, :img_ncols - 1, :] - x[:, 1:, :img_ncols - 1, :])\n",
        "    b = K.square(\n",
        "        x[:, :img_nrows - 1, :img_ncols - 1, :] - x[:, :img_nrows - 1, 1:, :])\n",
        "    return K.sum(K.pow(a + b, 1.25))\n"
      ],
      "execution_count": null,
      "outputs": []
    },
    {
      "cell_type": "code",
      "metadata": {
        "id": "-65vcinbvTZ0"
      },
      "source": [
        "# Armamos la loss total\n",
        "loss = K.variable(0.0)\n",
        "layer_features = outputs_dict['block5_conv2']\n",
        "base_image_features = layer_features[0, :, :, :]\n",
        "combination_features = layer_features[2, :, :, :]\n",
        "loss = loss + content_weight * content_loss(base_image_features,\n",
        "                                            combination_features)\n",
        "\n",
        "feature_layers = ['block1_conv1', 'block2_conv1',\n",
        "                  'block3_conv1', 'block4_conv1',\n",
        "                  'block5_conv1']\n",
        "for layer_name in feature_layers:\n",
        "    layer_features = outputs_dict[layer_name]\n",
        "    style_reference_features = layer_features[1, :, :, :] \n",
        "    combination_features = layer_features[2, :, :, :]\n",
        "    sl = style_loss(style_reference_features, combination_features)\n",
        "    loss = loss + (style_weight / len(feature_layers)) * sl\n",
        "loss = loss + total_variation_weight * total_variation_loss(combination_image)"
      ],
      "execution_count": null,
      "outputs": []
    },
    {
      "cell_type": "code",
      "metadata": {
        "id": "pbz4n1OhvV2K"
      },
      "source": [
        "grads = K.gradients(loss, combination_image)\n",
        "\n",
        "outputs = [loss]\n",
        "if isinstance(grads, (list, tuple)):\n",
        "    outputs += grads\n",
        "else:\n",
        "    outputs.append(grads)\n",
        "\n",
        "f_outputs = K.function([combination_image], outputs)"
      ],
      "execution_count": null,
      "outputs": []
    },
    {
      "cell_type": "markdown",
      "metadata": {
        "id": "sZ2T_CPJjO2h"
      },
      "source": [
        "# 6) Explique el propósito de las siguientes tres celdas. ¿Qué hace la función fmin_l_bfgs_b? ¿En qué se diferencia con la implementación del paper? ¿Se puede utilizar alguna alternativa?\n",
        "\n",
        "La función fmin_l_bfgs_b del paquete scipy implementa el algoritmo L-BFGS-B para minimizar la función que recibe como parámetro.\n",
        "\n",
        "En el paper se utiliza gradient descent. De acuerdo con Le et.al. (2011) los métodos de memoria limitada BFGS son más fáciles de implementar y más rápidos que el más tradicional SGD.\n",
        "\n",
        "El paquete scipy ofrece distintos tipos de optimizadores que podrían utilizarse para hacer la minimización. O siguiendo la misma línea del paper citado podría utilizarse Conjugate Gradient, también disponible en scipy.\n",
        "\n",
        "Por ejemplo, la siguiente imagen se obtuvo utilizando el optimizador truncado de newton (TNC).\n",
        "\n",
        "<img src=\"https://raw.githubusercontent.com/LCaravaggio/DeepLearning_ITBA/main/CV/TPFinal/Images/TNC%2001%2010%201.png\">"
      ]
    },
    {
      "cell_type": "code",
      "metadata": {
        "id": "zVE1_qemvZeN"
      },
      "source": [
        "def eval_loss_and_grads(x):\n",
        "    x = x.reshape((1, img_nrows, img_ncols, 3))\n",
        "    outs = f_outputs([x])\n",
        "    loss_value = outs[0]\n",
        "    if len(outs[1:]) == 1:\n",
        "        grad_values = outs[1].flatten().astype('float64')\n",
        "    else:\n",
        "        grad_values = np.array(outs[1:]).flatten().astype('float64')\n",
        "    return loss_value, grad_values\n",
        "\n",
        "# this Evaluator class makes it possible\n",
        "# to compute loss and gradients in one pass\n",
        "# while retrieving them via two separate functions,\n",
        "# \"loss\" and \"grads\". This is done because scipy.optimize\n",
        "# requires separate functions for loss and gradients,\n",
        "# but computing them separately would be inefficient."
      ],
      "execution_count": null,
      "outputs": []
    },
    {
      "cell_type": "code",
      "metadata": {
        "id": "Qbl9roIgvdb1"
      },
      "source": [
        "class Evaluator(object):\n",
        "\n",
        "    def __init__(self):\n",
        "        self.loss_value = None\n",
        "        self.grads_values = None\n",
        "\n",
        "    def loss(self, x):\n",
        "        assert self.loss_value is None\n",
        "        loss_value, grad_values = eval_loss_and_grads(x)\n",
        "        self.loss_value = loss_value\n",
        "        self.grad_values = grad_values\n",
        "        return self.loss_value\n",
        "\n",
        "    def grads(self, x):\n",
        "        assert self.loss_value is not None\n",
        "        grad_values = np.copy(self.grad_values)\n",
        "        self.loss_value = None\n",
        "        self.grad_values = None\n",
        "        return grad_values"
      ],
      "execution_count": null,
      "outputs": []
    },
    {
      "cell_type": "markdown",
      "metadata": {
        "id": "Sb0yOEl-WOE6"
      },
      "source": [
        "# 7) Ejecute la siguiente celda y observe las imágenes de salida en cada iteración."
      ]
    },
    {
      "cell_type": "code",
      "metadata": {
        "id": "n31YBwCVvhAI",
        "colab": {
          "base_uri": "https://localhost:8080/"
        },
        "outputId": "5b1b147f-f6e2-4cf1-b821-d28763ef3f50"
      },
      "source": [
        "#from scipy.optimize import fmin_tnc\n",
        "\n",
        "evaluator = Evaluator()\n",
        "\n",
        "# run scipy-based optimization (L-BFGS) over the pixels of the generated image\n",
        "# so as to minimize the neural style loss\n",
        "x = preprocess_image(base_image_path)\n",
        "\n",
        "for i in range(iterations):\n",
        "    print('Start of iteration', i)\n",
        "    start_time = time.time()\n",
        "    x, min_val, info = fmin_l_bfgs_b(evaluator.loss, x.flatten(),fprime=evaluator.grads, maxfun=20)\n",
        "    #x, min_val, info = fmin_tnc(evaluator.loss, x.flatten(),fprime=evaluator.grads, maxfun=20)\n",
        "    print('Current loss value:', min_val)\n",
        "    # save current generated image\n",
        "    img = deprocess_image(x.copy())\n",
        "    fname = result_prefix / ('output_at_iteration_%d.png' % i)\n",
        "    save_img(fname, img)\n",
        "    end_time = time.time()\n",
        "    print('Image saved as', fname)\n",
        "    print('Iteration %d completed in %ds' % (i, end_time - start_time))"
      ],
      "execution_count": null,
      "outputs": [
        {
          "output_type": "stream",
          "name": "stdout",
          "text": [
            "Start of iteration 0\n",
            "Current loss value: 2648298800.0\n",
            "Image saved as /content/output/output_at_iteration_0.png\n",
            "Iteration 0 completed in 24s\n",
            "Start of iteration 1\n",
            "Current loss value: 1362451700.0\n",
            "Image saved as /content/output/output_at_iteration_1.png\n",
            "Iteration 1 completed in 16s\n",
            "Start of iteration 2\n",
            "Current loss value: 1032271360.0\n",
            "Image saved as /content/output/output_at_iteration_2.png\n",
            "Iteration 2 completed in 16s\n",
            "Start of iteration 3\n",
            "Current loss value: 892007800.0\n",
            "Image saved as /content/output/output_at_iteration_3.png\n",
            "Iteration 3 completed in 16s\n",
            "Start of iteration 4\n",
            "Current loss value: 804342700.0\n",
            "Image saved as /content/output/output_at_iteration_4.png\n",
            "Iteration 4 completed in 17s\n",
            "Start of iteration 5\n",
            "Current loss value: 751081660.0\n",
            "Image saved as /content/output/output_at_iteration_5.png\n",
            "Iteration 5 completed in 16s\n",
            "Start of iteration 6\n",
            "Current loss value: 709715600.0\n",
            "Image saved as /content/output/output_at_iteration_6.png\n",
            "Iteration 6 completed in 17s\n",
            "Start of iteration 7\n",
            "Current loss value: 675524100.0\n",
            "Image saved as /content/output/output_at_iteration_7.png\n",
            "Iteration 7 completed in 17s\n",
            "Start of iteration 8\n",
            "Current loss value: 655710800.0\n",
            "Image saved as /content/output/output_at_iteration_8.png\n",
            "Iteration 8 completed in 17s\n",
            "Start of iteration 9\n",
            "Current loss value: 639261300.0\n",
            "Image saved as /content/output/output_at_iteration_9.png\n",
            "Iteration 9 completed in 16s\n",
            "Start of iteration 10\n",
            "Current loss value: 627557200.0\n",
            "Image saved as /content/output/output_at_iteration_10.png\n",
            "Iteration 10 completed in 16s\n",
            "Start of iteration 11\n",
            "Current loss value: 617940350.0\n",
            "Image saved as /content/output/output_at_iteration_11.png\n",
            "Iteration 11 completed in 16s\n",
            "Start of iteration 12\n",
            "Current loss value: 609685000.0\n",
            "Image saved as /content/output/output_at_iteration_12.png\n",
            "Iteration 12 completed in 17s\n",
            "Start of iteration 13\n",
            "Current loss value: 600987800.0\n",
            "Image saved as /content/output/output_at_iteration_13.png\n",
            "Iteration 13 completed in 17s\n",
            "Start of iteration 14\n",
            "Current loss value: 593531000.0\n",
            "Image saved as /content/output/output_at_iteration_14.png\n",
            "Iteration 14 completed in 17s\n",
            "Start of iteration 15\n",
            "Current loss value: 588195460.0\n",
            "Image saved as /content/output/output_at_iteration_15.png\n",
            "Iteration 15 completed in 17s\n",
            "Start of iteration 16\n",
            "Current loss value: 583603260.0\n",
            "Image saved as /content/output/output_at_iteration_16.png\n",
            "Iteration 16 completed in 16s\n",
            "Start of iteration 17\n",
            "Current loss value: 578399300.0\n",
            "Image saved as /content/output/output_at_iteration_17.png\n",
            "Iteration 17 completed in 17s\n",
            "Start of iteration 18\n",
            "Current loss value: 574058100.0\n",
            "Image saved as /content/output/output_at_iteration_18.png\n",
            "Iteration 18 completed in 17s\n",
            "Start of iteration 19\n",
            "Current loss value: 570209000.0\n",
            "Image saved as /content/output/output_at_iteration_19.png\n",
            "Iteration 19 completed in 17s\n",
            "Start of iteration 20\n",
            "Current loss value: 567018700.0\n",
            "Image saved as /content/output/output_at_iteration_20.png\n",
            "Iteration 20 completed in 17s\n",
            "Start of iteration 21\n",
            "Current loss value: 563614460.0\n",
            "Image saved as /content/output/output_at_iteration_21.png\n",
            "Iteration 21 completed in 17s\n",
            "Start of iteration 22\n",
            "Current loss value: 560418560.0\n",
            "Image saved as /content/output/output_at_iteration_22.png\n",
            "Iteration 22 completed in 17s\n",
            "Start of iteration 23\n",
            "Current loss value: 557949760.0\n",
            "Image saved as /content/output/output_at_iteration_23.png\n",
            "Iteration 23 completed in 17s\n",
            "Start of iteration 24\n",
            "Current loss value: 555714200.0\n",
            "Image saved as /content/output/output_at_iteration_24.png\n",
            "Iteration 24 completed in 17s\n",
            "Start of iteration 25\n",
            "Current loss value: 553616900.0\n",
            "Image saved as /content/output/output_at_iteration_25.png\n",
            "Iteration 25 completed in 17s\n",
            "Start of iteration 26\n",
            "Current loss value: 551342100.0\n",
            "Image saved as /content/output/output_at_iteration_26.png\n",
            "Iteration 26 completed in 17s\n",
            "Start of iteration 27\n",
            "Current loss value: 549345860.0\n",
            "Image saved as /content/output/output_at_iteration_27.png\n",
            "Iteration 27 completed in 17s\n",
            "Start of iteration 28\n",
            "Current loss value: 547543740.0\n",
            "Image saved as /content/output/output_at_iteration_28.png\n",
            "Iteration 28 completed in 17s\n",
            "Start of iteration 29\n",
            "Current loss value: 545737700.0\n",
            "Image saved as /content/output/output_at_iteration_29.png\n",
            "Iteration 29 completed in 17s\n",
            "Start of iteration 30\n",
            "Current loss value: 544212300.0\n",
            "Image saved as /content/output/output_at_iteration_30.png\n",
            "Iteration 30 completed in 17s\n",
            "Start of iteration 31\n",
            "Current loss value: 542792700.0\n",
            "Image saved as /content/output/output_at_iteration_31.png\n",
            "Iteration 31 completed in 17s\n",
            "Start of iteration 32\n",
            "Current loss value: 541442560.0\n",
            "Image saved as /content/output/output_at_iteration_32.png\n",
            "Iteration 32 completed in 17s\n",
            "Start of iteration 33\n",
            "Current loss value: 540166600.0\n",
            "Image saved as /content/output/output_at_iteration_33.png\n",
            "Iteration 33 completed in 17s\n",
            "Start of iteration 34\n",
            "Current loss value: 538998460.0\n",
            "Image saved as /content/output/output_at_iteration_34.png\n",
            "Iteration 34 completed in 17s\n",
            "Start of iteration 35\n",
            "Current loss value: 537894660.0\n",
            "Image saved as /content/output/output_at_iteration_35.png\n",
            "Iteration 35 completed in 17s\n",
            "Start of iteration 36\n",
            "Current loss value: 536798270.0\n",
            "Image saved as /content/output/output_at_iteration_36.png\n",
            "Iteration 36 completed in 17s\n",
            "Start of iteration 37\n",
            "Current loss value: 535847870.0\n",
            "Image saved as /content/output/output_at_iteration_37.png\n",
            "Iteration 37 completed in 17s\n",
            "Start of iteration 38\n",
            "Current loss value: 534836900.0\n",
            "Image saved as /content/output/output_at_iteration_38.png\n",
            "Iteration 38 completed in 17s\n",
            "Start of iteration 39\n",
            "Current loss value: 533915840.0\n",
            "Image saved as /content/output/output_at_iteration_39.png\n",
            "Iteration 39 completed in 17s\n",
            "Start of iteration 40\n",
            "Current loss value: 533093600.0\n",
            "Image saved as /content/output/output_at_iteration_40.png\n",
            "Iteration 40 completed in 17s\n",
            "Start of iteration 41\n",
            "Current loss value: 532276380.0\n",
            "Image saved as /content/output/output_at_iteration_41.png\n",
            "Iteration 41 completed in 17s\n",
            "Start of iteration 42\n",
            "Current loss value: 531534900.0\n",
            "Image saved as /content/output/output_at_iteration_42.png\n",
            "Iteration 42 completed in 17s\n",
            "Start of iteration 43\n",
            "Current loss value: 530828100.0\n",
            "Image saved as /content/output/output_at_iteration_43.png\n",
            "Iteration 43 completed in 17s\n",
            "Start of iteration 44\n",
            "Current loss value: 530159140.0\n",
            "Image saved as /content/output/output_at_iteration_44.png\n",
            "Iteration 44 completed in 17s\n",
            "Start of iteration 45\n",
            "Current loss value: 529521100.0\n",
            "Image saved as /content/output/output_at_iteration_45.png\n",
            "Iteration 45 completed in 17s\n",
            "Start of iteration 46\n",
            "Current loss value: 528936220.0\n",
            "Image saved as /content/output/output_at_iteration_46.png\n",
            "Iteration 46 completed in 17s\n",
            "Start of iteration 47\n",
            "Current loss value: 528342600.0\n",
            "Image saved as /content/output/output_at_iteration_47.png\n",
            "Iteration 47 completed in 17s\n",
            "Start of iteration 48\n",
            "Current loss value: 527745800.0\n",
            "Image saved as /content/output/output_at_iteration_48.png\n",
            "Iteration 48 completed in 17s\n",
            "Start of iteration 49\n",
            "Current loss value: 527189060.0\n",
            "Image saved as /content/output/output_at_iteration_49.png\n",
            "Iteration 49 completed in 17s\n",
            "Start of iteration 50\n",
            "Current loss value: 526638400.0\n",
            "Image saved as /content/output/output_at_iteration_50.png\n",
            "Iteration 50 completed in 17s\n",
            "Start of iteration 51\n",
            "Current loss value: 526167520.0\n",
            "Image saved as /content/output/output_at_iteration_51.png\n",
            "Iteration 51 completed in 17s\n",
            "Start of iteration 52\n",
            "Current loss value: 525714300.0\n",
            "Image saved as /content/output/output_at_iteration_52.png\n",
            "Iteration 52 completed in 17s\n",
            "Start of iteration 53\n",
            "Current loss value: 525277730.0\n",
            "Image saved as /content/output/output_at_iteration_53.png\n",
            "Iteration 53 completed in 17s\n",
            "Start of iteration 54\n",
            "Current loss value: 524878700.0\n",
            "Image saved as /content/output/output_at_iteration_54.png\n",
            "Iteration 54 completed in 17s\n",
            "Start of iteration 55\n",
            "Current loss value: 524460160.0\n",
            "Image saved as /content/output/output_at_iteration_55.png\n",
            "Iteration 55 completed in 17s\n",
            "Start of iteration 56\n",
            "Current loss value: 524073470.0\n",
            "Image saved as /content/output/output_at_iteration_56.png\n",
            "Iteration 56 completed in 17s\n",
            "Start of iteration 57\n",
            "Current loss value: 523704000.0\n",
            "Image saved as /content/output/output_at_iteration_57.png\n",
            "Iteration 57 completed in 17s\n",
            "Start of iteration 58\n",
            "Current loss value: 523336900.0\n",
            "Image saved as /content/output/output_at_iteration_58.png\n",
            "Iteration 58 completed in 17s\n",
            "Start of iteration 59\n",
            "Current loss value: 522987260.0\n",
            "Image saved as /content/output/output_at_iteration_59.png\n",
            "Iteration 59 completed in 17s\n",
            "Start of iteration 60\n",
            "Current loss value: 522636860.0\n",
            "Image saved as /content/output/output_at_iteration_60.png\n",
            "Iteration 60 completed in 17s\n",
            "Start of iteration 61\n",
            "Current loss value: 522322880.0\n",
            "Image saved as /content/output/output_at_iteration_61.png\n",
            "Iteration 61 completed in 17s\n",
            "Start of iteration 62\n",
            "Current loss value: 522040700.0\n",
            "Image saved as /content/output/output_at_iteration_62.png\n",
            "Iteration 62 completed in 17s\n",
            "Start of iteration 63\n",
            "Current loss value: 521765200.0\n",
            "Image saved as /content/output/output_at_iteration_63.png\n",
            "Iteration 63 completed in 17s\n",
            "Start of iteration 64\n",
            "Current loss value: 521511420.0\n",
            "Image saved as /content/output/output_at_iteration_64.png\n",
            "Iteration 64 completed in 17s\n",
            "Start of iteration 65\n",
            "Current loss value: 521270000.0\n",
            "Image saved as /content/output/output_at_iteration_65.png\n",
            "Iteration 65 completed in 17s\n",
            "Start of iteration 66\n",
            "Current loss value: 521040580.0\n",
            "Image saved as /content/output/output_at_iteration_66.png\n",
            "Iteration 66 completed in 17s\n",
            "Start of iteration 67\n",
            "Current loss value: 520822530.0\n",
            "Image saved as /content/output/output_at_iteration_67.png\n",
            "Iteration 67 completed in 17s\n",
            "Start of iteration 68\n",
            "Current loss value: 520619140.0\n",
            "Image saved as /content/output/output_at_iteration_68.png\n",
            "Iteration 68 completed in 17s\n",
            "Start of iteration 69\n",
            "Current loss value: 520434620.0\n",
            "Image saved as /content/output/output_at_iteration_69.png\n",
            "Iteration 69 completed in 17s\n",
            "Start of iteration 70\n",
            "Current loss value: 520253300.0\n",
            "Image saved as /content/output/output_at_iteration_70.png\n",
            "Iteration 70 completed in 17s\n",
            "Start of iteration 71\n",
            "Current loss value: 520091330.0\n",
            "Image saved as /content/output/output_at_iteration_71.png\n",
            "Iteration 71 completed in 17s\n",
            "Start of iteration 72\n",
            "Current loss value: 519943360.0\n",
            "Image saved as /content/output/output_at_iteration_72.png\n",
            "Iteration 72 completed in 17s\n",
            "Start of iteration 73\n",
            "Current loss value: 519800770.0\n",
            "Image saved as /content/output/output_at_iteration_73.png\n",
            "Iteration 73 completed in 17s\n",
            "Start of iteration 74\n",
            "Current loss value: 519672260.0\n",
            "Image saved as /content/output/output_at_iteration_74.png\n",
            "Iteration 74 completed in 17s\n",
            "Start of iteration 75\n",
            "Current loss value: 519545200.0\n",
            "Image saved as /content/output/output_at_iteration_75.png\n",
            "Iteration 75 completed in 17s\n",
            "Start of iteration 76\n",
            "Current loss value: 519431040.0\n",
            "Image saved as /content/output/output_at_iteration_76.png\n",
            "Iteration 76 completed in 17s\n",
            "Start of iteration 77\n",
            "Current loss value: 519313400.0\n",
            "Image saved as /content/output/output_at_iteration_77.png\n",
            "Iteration 77 completed in 17s\n",
            "Start of iteration 78\n",
            "Current loss value: 519203780.0\n",
            "Image saved as /content/output/output_at_iteration_78.png\n",
            "Iteration 78 completed in 17s\n",
            "Start of iteration 79\n",
            "Current loss value: 519097800.0\n",
            "Image saved as /content/output/output_at_iteration_79.png\n",
            "Iteration 79 completed in 17s\n",
            "Start of iteration 80\n",
            "Current loss value: 519004220.0\n",
            "Image saved as /content/output/output_at_iteration_80.png\n",
            "Iteration 80 completed in 17s\n",
            "Start of iteration 81\n",
            "Current loss value: 518911170.0\n",
            "Image saved as /content/output/output_at_iteration_81.png\n",
            "Iteration 81 completed in 17s\n",
            "Start of iteration 82\n",
            "Current loss value: 518823970.0\n",
            "Image saved as /content/output/output_at_iteration_82.png\n",
            "Iteration 82 completed in 17s\n",
            "Start of iteration 83\n",
            "Current loss value: 518734850.0\n",
            "Image saved as /content/output/output_at_iteration_83.png\n",
            "Iteration 83 completed in 17s\n",
            "Start of iteration 84\n",
            "Current loss value: 518655550.0\n",
            "Image saved as /content/output/output_at_iteration_84.png\n",
            "Iteration 84 completed in 17s\n",
            "Start of iteration 85\n",
            "Current loss value: 518574560.0\n",
            "Image saved as /content/output/output_at_iteration_85.png\n",
            "Iteration 85 completed in 17s\n",
            "Start of iteration 86\n",
            "Current loss value: 518493220.0\n",
            "Image saved as /content/output/output_at_iteration_86.png\n",
            "Iteration 86 completed in 17s\n",
            "Start of iteration 87\n",
            "Current loss value: 518416500.0\n",
            "Image saved as /content/output/output_at_iteration_87.png\n",
            "Iteration 87 completed in 17s\n",
            "Start of iteration 88\n",
            "Current loss value: 518338500.0\n",
            "Image saved as /content/output/output_at_iteration_88.png\n",
            "Iteration 88 completed in 17s\n",
            "Start of iteration 89\n",
            "Current loss value: 518262400.0\n",
            "Image saved as /content/output/output_at_iteration_89.png\n",
            "Iteration 89 completed in 17s\n",
            "Start of iteration 90\n",
            "Current loss value: 518187840.0\n",
            "Image saved as /content/output/output_at_iteration_90.png\n",
            "Iteration 90 completed in 17s\n",
            "Start of iteration 91\n",
            "Current loss value: 518117900.0\n",
            "Image saved as /content/output/output_at_iteration_91.png\n",
            "Iteration 91 completed in 17s\n",
            "Start of iteration 92\n",
            "Current loss value: 518046800.0\n",
            "Image saved as /content/output/output_at_iteration_92.png\n",
            "Iteration 92 completed in 17s\n",
            "Start of iteration 93\n",
            "Current loss value: 517985340.0\n",
            "Image saved as /content/output/output_at_iteration_93.png\n",
            "Iteration 93 completed in 17s\n",
            "Start of iteration 94\n",
            "Current loss value: 517923230.0\n",
            "Image saved as /content/output/output_at_iteration_94.png\n",
            "Iteration 94 completed in 17s\n",
            "Start of iteration 95\n",
            "Current loss value: 517867400.0\n",
            "Image saved as /content/output/output_at_iteration_95.png\n",
            "Iteration 95 completed in 17s\n",
            "Start of iteration 96\n",
            "Current loss value: 517810430.0\n",
            "Image saved as /content/output/output_at_iteration_96.png\n",
            "Iteration 96 completed in 17s\n",
            "Start of iteration 97\n",
            "Current loss value: 517756930.0\n",
            "Image saved as /content/output/output_at_iteration_97.png\n",
            "Iteration 97 completed in 17s\n",
            "Start of iteration 98\n",
            "Current loss value: 517705340.0\n",
            "Image saved as /content/output/output_at_iteration_98.png\n",
            "Iteration 98 completed in 17s\n",
            "Start of iteration 99\n",
            "Current loss value: 517653820.0\n",
            "Image saved as /content/output/output_at_iteration_99.png\n",
            "Iteration 99 completed in 17s\n"
          ]
        }
      ]
    },
    {
      "cell_type": "markdown",
      "metadata": {
        "id": "SkiJtofbWWy1"
      },
      "source": [
        "# 8) Generar imágenes para distintas combinaciones de pesos de las losses. Explicar las diferencias. (Adjuntar las imágenes generadas como archivos separados.)\n",
        "\n",
        "Respuesta:\n",
        "En la carpeta:\n",
        "https://github.com/LCaravaggio/DeepLearning_ITBA/tree/main/CV/TPFinal/Images \n",
        "se encuentran los archivos de salida y una tabla comparativa. \n",
        "Se observa como al aumentar los valores de peso de style la imagen resultante se parece más al cuadro de van Gogh, mientras que al aumentar el peso de content la imagen se asemeja más a la foto. \n",
        "\n",
        "# 9) Cambiar las imágenes de contenido y estilo por unas elegidas por usted. Adjuntar el resultado.\n",
        "\n",
        "Respuesta:\n",
        "\n",
        "El mejor resultado obtenido probablemente sea este: \n",
        "\n",
        "<img src=\"https://raw.githubusercontent.com/LCaravaggio/DeepLearning_ITBA/main/CV/TPFinal/New_Images/Gula%2010%201.png\">\n",
        "\n",
        "El mismo se obtuvo con la combinación del \"Autoretrato con sombrero\" de Van Gogh, y la famosa fotografía que Steve McCurry le tomó a Sharbat Gula.\n",
        "\n",
        "<img src=\"https://www.nationalgeographic.com.es/medio/2014/10/22/afgrl-10001_1200x1800.jpg\" width=\"171\" height=\"257\">\n",
        "<img src=\"https://www.artehistoria.com/sites/default/files/styles/full_horizontal/public/imagenobra/VAA05680.jpg\" width=\"224\" height=\"257\">\n",
        "\n",
        "Cabe destacar que para la obtención de buenos resultados pareciera no bastar con una correcta selección de los hiperparámetros del modelo sino que a su vez es necesario elegir correctamente las imágenes de estilo y contenido. En este sentido se ensayó con algunas imagenes que no ofecieron buenos resultados. \n",
        "\n",
        "En la carpeta\n",
        "\n",
        "https://github.com/LCaravaggio/DeepLearning_ITBA/tree/main/CV/TPFinal/New_Images\n",
        "\n",
        "pueden verse distintas combinaciones de hiperparámetros para este modelo y también lo ensayado con una fotografía de Maradona al estilo de un cuadro de Caravaggio. "
      ]
    }
  ]
}