{
 "cells": [
  {
   "cell_type": "code",
   "execution_count": 78,
   "metadata": {
    "colab": {
     "base_uri": "https://localhost:8080/",
     "height": 301
    },
    "id": "074NoSDJXIth",
    "outputId": "1407d805-9559-42d8-e912-eec91e813a36"
   },
   "outputs": [
    {
     "name": "stdout",
     "output_type": "stream",
     "text": [
      "275\n",
      "624\n"
     ]
    },
    {
     "data": {
      "image/png": "[encoded data removed]",
      "text/plain": [
       "<Figure size 432x288 with 1 Axes>"
      ]
     },
     "metadata": {
      "needs_background": "light",
      "tags": []
     },
     "output_type": "display_data"
    }
   ],
   "source": [
    "import numpy as np\r\n",
    "import random \r\n",
    "import matplotlib.pyplot as plt\r\n",
    "\r\n",
    "ganados=0\r\n",
    "ganadoscambia=0\r\n",
    "\r\n",
    "lineaganados= []\r\n",
    "lineaganadoscambia= []\r\n",
    "\r\n",
    "for x in range(1,900):\r\n",
    "  premios=[\"Perdiste\",\"Perdiste\",\"Perdiste\"]\r\n",
    "  premio=random.randint(0,2)\r\n",
    "  premios[premio]=\"Ganaste\"\r\n",
    "\r\n",
    "  #El concursante elige una puerta y la mantiene\r\n",
    "  concursante=random.randint(0,2)\r\n",
    "\r\n",
    "  if premios[concursante]==\"Ganaste\":\r\n",
    "    ganados+=1\r\n",
    "\r\n",
    "  lineaganados.append (ganados)\r\n",
    "\r\n",
    "  # Se elimina una puerta distinta a la elegida por el concursante y que no tiene premio\r\n",
    "  if premios[0]==\"Perdiste\" and concursante!=0:\r\n",
    "    puertaeliminada=0\r\n",
    "  else: \r\n",
    "    if premios[1]==\"Perdiste\" and concursante!=1:  \r\n",
    "      puertaeliminada=1\r\n",
    "    else: \r\n",
    "      if premios[2]==\"Perdiste\" and concursante!=2:\r\n",
    "        puertaeliminada=2\r\n",
    "\r\n",
    "  # El concursante cambia su primera elección\r\n",
    "  if concursante==0 and puertaeliminada==1:\r\n",
    "    nuevapuerta=2\r\n",
    "  if concursante==0 and puertaeliminada==2:\r\n",
    "    nuevapuerta=1\r\n",
    "\r\n",
    "  if concursante==1 and puertaeliminada==0:\r\n",
    "    nuevapuerta=2\r\n",
    "  if concursante==1 and puertaeliminada==2:\r\n",
    "    nuevapuerta=0\r\n",
    "\r\n",
    "  if concursante==2 and puertaeliminada==0:\r\n",
    "    nuevapuerta=1\r\n",
    "  if concursante==2 and puertaeliminada==1:\r\n",
    "    nuevapuerta=0\r\n",
    "\r\n",
    "  if premios[nuevapuerta]==\"Ganaste\":\r\n",
    "    ganadoscambia+=1\r\n",
    "\r\n",
    "  \r\n",
    "  lineaganadoscambia.append (ganadoscambia)\r\n",
    "\r\n",
    "print(ganados)\r\n",
    "print(ganadoscambia)\r\n",
    "\r\n",
    "plt.plot(lineaganados)\r\n",
    "plt.plot(lineaganadoscambia)\r\n",
    "plt.show()"
   ]
  }
 ],
 "metadata": {
  "colab": {
   "name": "Monty Hall.ipynb",
   "provenance": []
  },
  "kernelspec": {
   "display_name": "Python 3",
   "language": "python",
   "name": "python3"
  },
  "language_info": {
   "codemirror_mode": {
    "name": "ipython",
    "version": 3
   },
   "file_extension": ".py",
   "mimetype": "text/x-python",
   "name": "python",
   "nbconvert_exporter": "python",
   "pygments_lexer": "ipython3",
   "version": "3.7.6"
  }
 },
 "nbformat": 4,
 "nbformat_minor": 4
}
